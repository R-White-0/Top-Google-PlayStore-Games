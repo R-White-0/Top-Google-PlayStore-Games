{
 "cells": [
  {
   "cell_type": "markdown",
   "metadata": {},
   "source": [
    "## Dataset Provided by : Dhruvil Dave - https://www.kaggle.com/dhruvildave/top-play-store-games"
   ]
  },
  {
   "cell_type": "markdown",
   "metadata": {},
   "source": [
    "# Import Libraries"
   ]
  },
  {
   "cell_type": "code",
   "execution_count": 1,
   "metadata": {},
   "outputs": [],
   "source": [
    "import pandas as pd\n",
    "import numpy as np\n",
    "import os\n",
    "\n",
    "import matplotlib.pyplot as plt\n",
    "import plotly.express as px\n",
    "import seaborn as sns\n",
    "import nbformat "
   ]
  },
  {
   "cell_type": "code",
   "execution_count": 2,
   "metadata": {},
   "outputs": [],
   "source": [
    "pwd = os.getcwd() \n",
    "filepath = pwd + \"/android-games.csv\"\n",
    "df = pd.read_csv(filepath)"
   ]
  },
  {
   "cell_type": "markdown",
   "metadata": {},
   "source": [
    "## Viewing the Dataset\n",
    " lets read and check our dataset"
   ]
  },
  {
   "cell_type": "code",
   "execution_count": 3,
   "metadata": {},
   "outputs": [
    {
     "name": "stdout",
     "output_type": "stream",
     "text": [
      "Data shape is:  (1730, 15)\n"
     ]
    }
   ],
   "source": [
    "print ('Data shape is: ', df.shape)"
   ]
  },
  {
   "cell_type": "markdown",
   "metadata": {},
   "source": [
    "* so we have 1730 rows and 15 columns working with\n",
    "* lets take a look at the columns and general summary info."
   ]
  },
  {
   "cell_type": "code",
   "execution_count": 4,
   "metadata": {},
   "outputs": [
    {
     "data": {
      "text/html": [
       "<div>\n",
       "<style scoped>\n",
       "    .dataframe tbody tr th:only-of-type {\n",
       "        vertical-align: middle;\n",
       "    }\n",
       "\n",
       "    .dataframe tbody tr th {\n",
       "        vertical-align: top;\n",
       "    }\n",
       "\n",
       "    .dataframe thead th {\n",
       "        text-align: right;\n",
       "    }\n",
       "</style>\n",
       "<table border=\"1\" class=\"dataframe\">\n",
       "  <thead>\n",
       "    <tr style=\"text-align: right;\">\n",
       "      <th></th>\n",
       "      <th>Columns</th>\n",
       "    </tr>\n",
       "  </thead>\n",
       "  <tbody>\n",
       "    <tr>\n",
       "      <th>0</th>\n",
       "      <td>rank</td>\n",
       "    </tr>\n",
       "    <tr>\n",
       "      <th>1</th>\n",
       "      <td>title</td>\n",
       "    </tr>\n",
       "    <tr>\n",
       "      <th>2</th>\n",
       "      <td>total ratings</td>\n",
       "    </tr>\n",
       "    <tr>\n",
       "      <th>3</th>\n",
       "      <td>installs</td>\n",
       "    </tr>\n",
       "    <tr>\n",
       "      <th>4</th>\n",
       "      <td>average rating</td>\n",
       "    </tr>\n",
       "    <tr>\n",
       "      <th>5</th>\n",
       "      <td>growth (30 days)</td>\n",
       "    </tr>\n",
       "    <tr>\n",
       "      <th>6</th>\n",
       "      <td>growth (60 days)</td>\n",
       "    </tr>\n",
       "    <tr>\n",
       "      <th>7</th>\n",
       "      <td>price</td>\n",
       "    </tr>\n",
       "    <tr>\n",
       "      <th>8</th>\n",
       "      <td>category</td>\n",
       "    </tr>\n",
       "    <tr>\n",
       "      <th>9</th>\n",
       "      <td>5 star ratings</td>\n",
       "    </tr>\n",
       "    <tr>\n",
       "      <th>10</th>\n",
       "      <td>4 star ratings</td>\n",
       "    </tr>\n",
       "    <tr>\n",
       "      <th>11</th>\n",
       "      <td>3 star ratings</td>\n",
       "    </tr>\n",
       "    <tr>\n",
       "      <th>12</th>\n",
       "      <td>2 star ratings</td>\n",
       "    </tr>\n",
       "    <tr>\n",
       "      <th>13</th>\n",
       "      <td>1 star ratings</td>\n",
       "    </tr>\n",
       "    <tr>\n",
       "      <th>14</th>\n",
       "      <td>paid</td>\n",
       "    </tr>\n",
       "  </tbody>\n",
       "</table>\n",
       "</div>"
      ],
      "text/plain": [
       "             Columns\n",
       "0               rank\n",
       "1              title\n",
       "2      total ratings\n",
       "3           installs\n",
       "4     average rating\n",
       "5   growth (30 days)\n",
       "6   growth (60 days)\n",
       "7              price\n",
       "8           category\n",
       "9     5 star ratings\n",
       "10    4 star ratings\n",
       "11    3 star ratings\n",
       "12    2 star ratings\n",
       "13    1 star ratings\n",
       "14              paid"
      ]
     },
     "execution_count": 4,
     "metadata": {},
     "output_type": "execute_result"
    }
   ],
   "source": [
    "pd.DataFrame({\"Columns\": df.columns})"
   ]
  },
  {
   "cell_type": "code",
   "execution_count": 5,
   "metadata": {},
   "outputs": [
    {
     "data": {
      "text/plain": [
       "rank                0\n",
       "title               0\n",
       "total ratings       0\n",
       "installs            0\n",
       "average rating      0\n",
       "growth (30 days)    0\n",
       "growth (60 days)    0\n",
       "price               0\n",
       "category            0\n",
       "5 star ratings      0\n",
       "4 star ratings      0\n",
       "3 star ratings      0\n",
       "2 star ratings      0\n",
       "1 star ratings      0\n",
       "paid                0\n",
       "dtype: int64"
      ]
     },
     "execution_count": 5,
     "metadata": {},
     "output_type": "execute_result"
    }
   ],
   "source": [
    "df.isnull().sum()"
   ]
  },
  {
   "cell_type": "markdown",
   "metadata": {},
   "source": [
    "Great there are no missing vlaues within this dataset. That saves us some time from dealing with NAN's.\n",
    "* Lets sample our dataset to explore what it contains.\n",
    "* lets sample the first 8 rows."
   ]
  },
  {
   "cell_type": "code",
   "execution_count": 6,
   "metadata": {},
   "outputs": [
    {
     "data": {
      "text/html": [
       "<div>\n",
       "<style scoped>\n",
       "    .dataframe tbody tr th:only-of-type {\n",
       "        vertical-align: middle;\n",
       "    }\n",
       "\n",
       "    .dataframe tbody tr th {\n",
       "        vertical-align: top;\n",
       "    }\n",
       "\n",
       "    .dataframe thead th {\n",
       "        text-align: right;\n",
       "    }\n",
       "</style>\n",
       "<table border=\"1\" class=\"dataframe\">\n",
       "  <thead>\n",
       "    <tr style=\"text-align: right;\">\n",
       "      <th></th>\n",
       "      <th>rank</th>\n",
       "      <th>title</th>\n",
       "      <th>total ratings</th>\n",
       "      <th>installs</th>\n",
       "      <th>average rating</th>\n",
       "      <th>growth (30 days)</th>\n",
       "      <th>growth (60 days)</th>\n",
       "      <th>price</th>\n",
       "      <th>category</th>\n",
       "      <th>5 star ratings</th>\n",
       "      <th>4 star ratings</th>\n",
       "      <th>3 star ratings</th>\n",
       "      <th>2 star ratings</th>\n",
       "      <th>1 star ratings</th>\n",
       "      <th>paid</th>\n",
       "    </tr>\n",
       "  </thead>\n",
       "  <tbody>\n",
       "    <tr>\n",
       "      <th>1088</th>\n",
       "      <td>63</td>\n",
       "      <td>Crash of Cars</td>\n",
       "      <td>419851</td>\n",
       "      <td>10.0 M</td>\n",
       "      <td>4</td>\n",
       "      <td>0.5</td>\n",
       "      <td>1.2</td>\n",
       "      <td>0.0</td>\n",
       "      <td>GAME RACING</td>\n",
       "      <td>290888</td>\n",
       "      <td>48697</td>\n",
       "      <td>26055</td>\n",
       "      <td>13626</td>\n",
       "      <td>40581</td>\n",
       "      <td>False</td>\n",
       "    </tr>\n",
       "    <tr>\n",
       "      <th>944</th>\n",
       "      <td>19</td>\n",
       "      <td>Escape Titanic</td>\n",
       "      <td>1265308</td>\n",
       "      <td>10.0 M</td>\n",
       "      <td>4</td>\n",
       "      <td>0.0</td>\n",
       "      <td>0.0</td>\n",
       "      <td>0.0</td>\n",
       "      <td>GAME PUZZLE</td>\n",
       "      <td>980240</td>\n",
       "      <td>108412</td>\n",
       "      <td>62854</td>\n",
       "      <td>22734</td>\n",
       "      <td>91066</td>\n",
       "      <td>False</td>\n",
       "    </tr>\n",
       "    <tr>\n",
       "      <th>864</th>\n",
       "      <td>39</td>\n",
       "      <td>バンドリ！ ガールズバンドパーティ！</td>\n",
       "      <td>127314</td>\n",
       "      <td>1.0 M</td>\n",
       "      <td>4</td>\n",
       "      <td>0.4</td>\n",
       "      <td>1.0</td>\n",
       "      <td>0.0</td>\n",
       "      <td>GAME MUSIC</td>\n",
       "      <td>90009</td>\n",
       "      <td>16965</td>\n",
       "      <td>7215</td>\n",
       "      <td>3373</td>\n",
       "      <td>9750</td>\n",
       "      <td>False</td>\n",
       "    </tr>\n",
       "    <tr>\n",
       "      <th>746</th>\n",
       "      <td>21</td>\n",
       "      <td>Baby Panda's School Bus - Let's Drive!</td>\n",
       "      <td>155279</td>\n",
       "      <td>50.0 M</td>\n",
       "      <td>4</td>\n",
       "      <td>4.9</td>\n",
       "      <td>9.8</td>\n",
       "      <td>0.0</td>\n",
       "      <td>GAME EDUCATIONAL</td>\n",
       "      <td>117842</td>\n",
       "      <td>9711</td>\n",
       "      <td>6246</td>\n",
       "      <td>4458</td>\n",
       "      <td>17020</td>\n",
       "      <td>False</td>\n",
       "    </tr>\n",
       "    <tr>\n",
       "      <th>1126</th>\n",
       "      <td>1</td>\n",
       "      <td>Shadow Fight 3 - RPG fighting game</td>\n",
       "      <td>3170246</td>\n",
       "      <td>100.0 M</td>\n",
       "      <td>4</td>\n",
       "      <td>1.2</td>\n",
       "      <td>2.6</td>\n",
       "      <td>0.0</td>\n",
       "      <td>GAME ROLE PLAYING</td>\n",
       "      <td>2243868</td>\n",
       "      <td>353334</td>\n",
       "      <td>177840</td>\n",
       "      <td>84957</td>\n",
       "      <td>310244</td>\n",
       "      <td>False</td>\n",
       "    </tr>\n",
       "    <tr>\n",
       "      <th>766</th>\n",
       "      <td>41</td>\n",
       "      <td>Little Panda’s Summer: Ice Cream Bars</td>\n",
       "      <td>94157</td>\n",
       "      <td>10.0 M</td>\n",
       "      <td>4</td>\n",
       "      <td>1.9</td>\n",
       "      <td>4.5</td>\n",
       "      <td>0.0</td>\n",
       "      <td>GAME EDUCATIONAL</td>\n",
       "      <td>72545</td>\n",
       "      <td>5575</td>\n",
       "      <td>3879</td>\n",
       "      <td>2822</td>\n",
       "      <td>9334</td>\n",
       "      <td>False</td>\n",
       "    </tr>\n",
       "    <tr>\n",
       "      <th>318</th>\n",
       "      <td>19</td>\n",
       "      <td>1LINE – One Line with One Touch</td>\n",
       "      <td>482155</td>\n",
       "      <td>50.0 M</td>\n",
       "      <td>4</td>\n",
       "      <td>0.8</td>\n",
       "      <td>1.9</td>\n",
       "      <td>0.0</td>\n",
       "      <td>GAME BOARD</td>\n",
       "      <td>350353</td>\n",
       "      <td>50622</td>\n",
       "      <td>27688</td>\n",
       "      <td>14084</td>\n",
       "      <td>39405</td>\n",
       "      <td>False</td>\n",
       "    </tr>\n",
       "    <tr>\n",
       "      <th>1118</th>\n",
       "      <td>93</td>\n",
       "      <td>MOTO LOKO HD</td>\n",
       "      <td>282063</td>\n",
       "      <td>10.0 M</td>\n",
       "      <td>4</td>\n",
       "      <td>0.0</td>\n",
       "      <td>0.1</td>\n",
       "      <td>0.0</td>\n",
       "      <td>GAME RACING</td>\n",
       "      <td>196521</td>\n",
       "      <td>27353</td>\n",
       "      <td>21819</td>\n",
       "      <td>7648</td>\n",
       "      <td>28719</td>\n",
       "      <td>False</td>\n",
       "    </tr>\n",
       "  </tbody>\n",
       "</table>\n",
       "</div>"
      ],
      "text/plain": [
       "      rank                                   title  total ratings installs  \\\n",
       "1088    63                           Crash of Cars         419851   10.0 M   \n",
       "944     19                          Escape Titanic        1265308   10.0 M   \n",
       "864     39                      バンドリ！ ガールズバンドパーティ！         127314    1.0 M   \n",
       "746     21  Baby Panda's School Bus - Let's Drive!         155279   50.0 M   \n",
       "1126     1      Shadow Fight 3 - RPG fighting game        3170246  100.0 M   \n",
       "766     41   Little Panda’s Summer: Ice Cream Bars          94157   10.0 M   \n",
       "318     19         1LINE – One Line with One Touch         482155   50.0 M   \n",
       "1118    93                            MOTO LOKO HD         282063   10.0 M   \n",
       "\n",
       "      average rating  growth (30 days)  growth (60 days)  price  \\\n",
       "1088               4               0.5               1.2    0.0   \n",
       "944                4               0.0               0.0    0.0   \n",
       "864                4               0.4               1.0    0.0   \n",
       "746                4               4.9               9.8    0.0   \n",
       "1126               4               1.2               2.6    0.0   \n",
       "766                4               1.9               4.5    0.0   \n",
       "318                4               0.8               1.9    0.0   \n",
       "1118               4               0.0               0.1    0.0   \n",
       "\n",
       "               category  5 star ratings  4 star ratings  3 star ratings  \\\n",
       "1088        GAME RACING          290888           48697           26055   \n",
       "944         GAME PUZZLE          980240          108412           62854   \n",
       "864          GAME MUSIC           90009           16965            7215   \n",
       "746    GAME EDUCATIONAL          117842            9711            6246   \n",
       "1126  GAME ROLE PLAYING         2243868          353334          177840   \n",
       "766    GAME EDUCATIONAL           72545            5575            3879   \n",
       "318          GAME BOARD          350353           50622           27688   \n",
       "1118        GAME RACING          196521           27353           21819   \n",
       "\n",
       "      2 star ratings  1 star ratings   paid  \n",
       "1088           13626           40581  False  \n",
       "944            22734           91066  False  \n",
       "864             3373            9750  False  \n",
       "746             4458           17020  False  \n",
       "1126           84957          310244  False  \n",
       "766             2822            9334  False  \n",
       "318            14084           39405  False  \n",
       "1118            7648           28719  False  "
      ]
     },
     "execution_count": 6,
     "metadata": {},
     "output_type": "execute_result"
    }
   ],
   "source": [
    "df.sample(n=8)"
   ]
  },
  {
   "cell_type": "code",
   "execution_count": 7,
   "metadata": {},
   "outputs": [
    {
     "name": "stdout",
     "output_type": "stream",
     "text": [
      "<class 'pandas.core.frame.DataFrame'>\n",
      "RangeIndex: 1730 entries, 0 to 1729\n",
      "Data columns (total 15 columns):\n",
      " #   Column            Non-Null Count  Dtype  \n",
      "---  ------            --------------  -----  \n",
      " 0   rank              1730 non-null   int64  \n",
      " 1   title             1730 non-null   object \n",
      " 2   total ratings     1730 non-null   int64  \n",
      " 3   installs          1730 non-null   object \n",
      " 4   average rating    1730 non-null   int64  \n",
      " 5   growth (30 days)  1730 non-null   float64\n",
      " 6   growth (60 days)  1730 non-null   float64\n",
      " 7   price             1730 non-null   float64\n",
      " 8   category          1730 non-null   object \n",
      " 9   5 star ratings    1730 non-null   int64  \n",
      " 10  4 star ratings    1730 non-null   int64  \n",
      " 11  3 star ratings    1730 non-null   int64  \n",
      " 12  2 star ratings    1730 non-null   int64  \n",
      " 13  1 star ratings    1730 non-null   int64  \n",
      " 14  paid              1730 non-null   bool   \n",
      "dtypes: bool(1), float64(3), int64(8), object(3)\n",
      "memory usage: 191.0+ KB\n"
     ]
    }
   ],
   "source": [
    "df.info()"
   ]
  },
  {
   "cell_type": "markdown",
   "metadata": {},
   "source": [
    "The install column can be useful for analysis. However note that it's a object type .\n",
    "It may be more useful if it were an *integer (int)* or *float*.\n",
    "*  May need to reformat this later on."
   ]
  },
  {
   "cell_type": "markdown",
   "metadata": {},
   "source": [
    "# Summary so far: \n",
    "*   The dataset consists of games from different categories, ratings and number of installs.\n",
    "*   there are no NAN / null values.\n",
    "*   **installs** can be useful for analysis. It would be good to reformat it to a numerical variable.\n",
    "* **category** is a categorical variable, making it useful for groupings.\n",
    "* numerical varibles should be paid close attentions to.\n",
    "* should some columns be dropped ?"
   ]
  },
  {
   "cell_type": "code",
   "execution_count": 8,
   "metadata": {},
   "outputs": [
    {
     "data": {
      "text/plain": [
       "0.00    1723\n",
       "1.99       3\n",
       "7.49       1\n",
       "2.99       1\n",
       "1.49       1\n",
       "0.99       1\n",
       "Name: price, dtype: int64"
      ]
     },
     "execution_count": 8,
     "metadata": {},
     "output_type": "execute_result"
    }
   ],
   "source": [
    "df['price'].value_counts()"
   ]
  },
  {
   "cell_type": "code",
   "execution_count": 9,
   "metadata": {},
   "outputs": [
    {
     "data": {
      "text/plain": [
       "False    1723\n",
       "True        7\n",
       "Name: paid, dtype: int64"
      ]
     },
     "execution_count": 9,
     "metadata": {},
     "output_type": "execute_result"
    }
   ],
   "source": [
    "df['paid'].value_counts()"
   ]
  },
  {
   "cell_type": "markdown",
   "metadata": {},
   "source": [
    "## Dropping Price column\n",
    "we can drop the price column since most games are free and only 7 aren't, also the price of a game isn't relevant to the EDA."
   ]
  },
  {
   "cell_type": "code",
   "execution_count": 10,
   "metadata": {},
   "outputs": [],
   "source": [
    "df.drop('price', axis=1, inplace=True)"
   ]
  },
  {
   "cell_type": "code",
   "execution_count": 11,
   "metadata": {},
   "outputs": [
    {
     "name": "stdout",
     "output_type": "stream",
     "text": [
      "<class 'pandas.core.frame.DataFrame'>\n",
      "RangeIndex: 1730 entries, 0 to 1729\n",
      "Data columns (total 14 columns):\n",
      " #   Column            Non-Null Count  Dtype  \n",
      "---  ------            --------------  -----  \n",
      " 0   rank              1730 non-null   int64  \n",
      " 1   title             1730 non-null   object \n",
      " 2   total ratings     1730 non-null   int64  \n",
      " 3   installs          1730 non-null   object \n",
      " 4   average rating    1730 non-null   int64  \n",
      " 5   growth (30 days)  1730 non-null   float64\n",
      " 6   growth (60 days)  1730 non-null   float64\n",
      " 7   category          1730 non-null   object \n",
      " 8   5 star ratings    1730 non-null   int64  \n",
      " 9   4 star ratings    1730 non-null   int64  \n",
      " 10  3 star ratings    1730 non-null   int64  \n",
      " 11  2 star ratings    1730 non-null   int64  \n",
      " 12  1 star ratings    1730 non-null   int64  \n",
      " 13  paid              1730 non-null   bool   \n",
      "dtypes: bool(1), float64(2), int64(8), object(3)\n",
      "memory usage: 177.5+ KB\n"
     ]
    }
   ],
   "source": [
    "df.info()"
   ]
  },
  {
   "cell_type": "markdown",
   "metadata": {},
   "source": [
    "## Categories Column"
   ]
  },
  {
   "cell_type": "code",
   "execution_count": 12,
   "metadata": {},
   "outputs": [
    {
     "data": {
      "text/plain": [
       "GAME CARD            126\n",
       "GAME WORD            104\n",
       "GAME PUZZLE          100\n",
       "GAME TRIVIA          100\n",
       "GAME STRATEGY        100\n",
       "GAME SPORTS          100\n",
       "GAME SIMULATION      100\n",
       "GAME ROLE PLAYING    100\n",
       "GAME RACING          100\n",
       "GAME ACTION          100\n",
       "GAME ADVENTURE       100\n",
       "GAME EDUCATIONAL     100\n",
       "GAME CASUAL          100\n",
       "GAME CASINO          100\n",
       "GAME BOARD           100\n",
       "GAME ARCADE          100\n",
       "GAME MUSIC           100\n",
       "Name: category, dtype: int64"
      ]
     },
     "execution_count": 12,
     "metadata": {},
     "output_type": "execute_result"
    }
   ],
   "source": [
    "df['category'].value_counts()"
   ]
  },
  {
   "cell_type": "code",
   "execution_count": 13,
   "metadata": {},
   "outputs": [
    {
     "data": {
      "text/plain": [
       "<AxesSubplot:title={'center':'Game Categories'}>"
      ]
     },
     "execution_count": 13,
     "metadata": {},
     "output_type": "execute_result"
    },
    {
     "data": {
      "image/png": "[encoded data removed]",
      "text/plain": [
       "<Figure size 432x288 with 1 Axes>"
      ]
     },
     "metadata": {
      "needs_background": "light"
     },
     "output_type": "display_data"
    }
   ],
   "source": [
    "df['category'].value_counts(ascending=True).plot(kind='barh', title='Game Categories')"
   ]
  },
  {
   "cell_type": "code",
   "execution_count": 14,
   "metadata": {},
   "outputs": [
    {
     "name": "stderr",
     "output_type": "stream",
     "text": [
      "C:\\Users\\ro-ja\\anaconda3\\envs\\demo\\lib\\site-packages\\seaborn\\_decorators.py:36: FutureWarning: Pass the following variable as a keyword arg: x. From version 0.12, the only valid positional argument will be `data`, and passing other arguments without an explicit keyword will result in an error or misinterpretation.\n",
      "  warnings.warn(\n"
     ]
    },
    {
     "data": {
      "text/plain": [
       "Text(0, 0.5, '# of games')"
      ]
     },
     "execution_count": 14,
     "metadata": {},
     "output_type": "execute_result"
    },
    {
     "data": {
      "image/png": "[encoded data removed]",
      "text/plain": [
       "<Figure size 2160x360 with 1 Axes>"
      ]
     },
     "metadata": {
      "needs_background": "light"
     },
     "output_type": "display_data"
    }
   ],
   "source": [
    "plt.figure(figsize=(30,5))\n",
    "sns.set_theme(style=\"darkgrid\")\n",
    "sns.countplot(df['category'])\n",
    "plt.title('Number of Games by Category')\n",
    "plt.xlabel('game category')\n",
    "plt.ylabel('# of games')"
   ]
  },
  {
   "cell_type": "code",
   "execution_count": 15,
   "metadata": {},
   "outputs": [
    {
     "data": {
      "application/vnd.plotly.v1+json": {
       "config": {
        "plotlyServerURL": "https://plot.ly"
       },
       "data": [
        {
         "alignmentgroup": "True",
         "bingroup": "x",
         "hovertemplate": "Categories=%{x}<br>count=%{y}<extra></extra>",
         "legendgroup": "",
         "marker": {
          "color": "#636efa",
          "pattern": {
           "shape": ""
          }
         },
         "name": "",
         "offsetgroup": "",
         "orientation": "v",
         "showlegend": false,
         "type": "histogram",
         "x": [
          "GAME ACTION",
          "GAME ACTION",
          "GAME ACTION",
          "GAME ACTION",
          "GAME ACTION",
          "GAME ACTION",
          "GAME ACTION",
          "GAME ACTION",
          "GAME ACTION",
          "GAME ACTION",
          "GAME ACTION",
          "GAME ACTION",
          "GAME ACTION",
          "GAME ACTION",
          "GAME ACTION",
          "GAME ACTION",
          "GAME ACTION",
          "GAME ACTION",
          "GAME ACTION",
          "GAME ACTION",
          "GAME ACTION",
          "GAME ACTION",
          "GAME ACTION",
          "GAME ACTION",
          "GAME ACTION",
          "GAME ACTION",
          "GAME ACTION",
          "GAME ACTION",
          "GAME ACTION",
          "GAME ACTION",
          "GAME ACTION",
          "GAME ACTION",
          "GAME ACTION",
          "GAME ACTION",
          "GAME ACTION",
          "GAME ACTION",
          "GAME ACTION",
          "GAME ACTION",
          "GAME ACTION",
          "GAME ACTION",
          "GAME ACTION",
          "GAME ACTION",
          "GAME ACTION",
          "GAME ACTION",
          "GAME ACTION",
          "GAME ACTION",
          "GAME ACTION",
          "GAME ACTION",
          "GAME ACTION",
          "GAME ACTION",
          "GAME ACTION",
          "GAME ACTION",
          "GAME ACTION",
          "GAME ACTION",
          "GAME ACTION",
          "GAME ACTION",
          "GAME ACTION",
          "GAME ACTION",
          "GAME ACTION",
          "GAME ACTION",
          "GAME ACTION",
          "GAME ACTION",
          "GAME ACTION",
          "GAME ACTION",
          "GAME ACTION",
          "GAME ACTION",
          "GAME ACTION",
          "GAME ACTION",
          "GAME ACTION",
          "GAME ACTION",
          "GAME ACTION",
          "GAME ACTION",
          "GAME ACTION",
          "GAME ACTION",
          "GAME ACTION",
          "GAME ACTION",
          "GAME ACTION",
          "GAME ACTION",
          "GAME ACTION",
          "GAME ACTION",
          "GAME ACTION",
          "GAME ACTION",
          "GAME ACTION",
          "GAME ACTION",
          "GAME ACTION",
          "GAME ACTION",
          "GAME ACTION",
          "GAME ACTION",
          "GAME ACTION",
          "GAME ACTION",
          "GAME ACTION",
          "GAME ACTION",
          "GAME ACTION",
          "GAME ACTION",
          "GAME ACTION",
          "GAME ACTION",
          "GAME ACTION",
          "GAME ACTION",
          "GAME ACTION",
          "GAME ACTION",
          "GAME ADVENTURE",
          "GAME ADVENTURE",
          "GAME ADVENTURE",
          "GAME ADVENTURE",
          "GAME ADVENTURE",
          "GAME ADVENTURE",
          "GAME ADVENTURE",
          "GAME ADVENTURE",
          "GAME ADVENTURE",
          "GAME ADVENTURE",
          "GAME ADVENTURE",
          "GAME ADVENTURE",
          "GAME ADVENTURE",
          "GAME ADVENTURE",
          "GAME ADVENTURE",
          "GAME ADVENTURE",
          "GAME ADVENTURE",
          "GAME ADVENTURE",
          "GAME ADVENTURE",
          "GAME ADVENTURE",
          "GAME ADVENTURE",
          "GAME ADVENTURE",
          "GAME ADVENTURE",
          "GAME ADVENTURE",
          "GAME ADVENTURE",
          "GAME ADVENTURE",
          "GAME ADVENTURE",
          "GAME ADVENTURE",
          "GAME ADVENTURE",
          "GAME ADVENTURE",
          "GAME ADVENTURE",
          "GAME ADVENTURE",
          "GAME ADVENTURE",
          "GAME ADVENTURE",
          "GAME ADVENTURE",
          "GAME ADVENTURE",
          "GAME ADVENTURE",
          "GAME ADVENTURE",
          "GAME ADVENTURE",
          "GAME ADVENTURE",
          "GAME ADVENTURE",
          "GAME ADVENTURE",
          "GAME ADVENTURE",
          "GAME ADVENTURE",
          "GAME ADVENTURE",
          "GAME ADVENTURE",
          "GAME ADVENTURE",
          "GAME ADVENTURE",
          "GAME ADVENTURE",
          "GAME ADVENTURE",
          "GAME ADVENTURE",
          "GAME ADVENTURE",
          "GAME ADVENTURE",
          "GAME ADVENTURE",
          "GAME ADVENTURE",
          "GAME ADVENTURE",
          "GAME ADVENTURE",
          "GAME ADVENTURE",
          "GAME ADVENTURE",
          "GAME ADVENTURE",
          "GAME ADVENTURE",
          "GAME ADVENTURE",
          "GAME ADVENTURE",
          "GAME ADVENTURE",
          "GAME ADVENTURE",
          "GAME ADVENTURE",
          "GAME ADVENTURE",
          "GAME ADVENTURE",
          "GAME ADVENTURE",
          "GAME ADVENTURE",
          "GAME ADVENTURE",
          "GAME ADVENTURE",
          "GAME ADVENTURE",
          "GAME ADVENTURE",
          "GAME ADVENTURE",
          "GAME ADVENTURE",
          "GAME ADVENTURE",
          "GAME ADVENTURE",
          "GAME ADVENTURE",
          "GAME ADVENTURE",
          "GAME ADVENTURE",
          "GAME ADVENTURE",
          "GAME ADVENTURE",
          "GAME ADVENTURE",
          "GAME ADVENTURE",
          "GAME ADVENTURE",
          "GAME ADVENTURE",
          "GAME ADVENTURE",
          "GAME ADVENTURE",
          "GAME ADVENTURE",
          "GAME ADVENTURE",
          "GAME ADVENTURE",
          "GAME ADVENTURE",
          "GAME ADVENTURE",
          "GAME ADVENTURE",
          "GAME ADVENTURE",
          "GAME ADVENTURE",
          "GAME ADVENTURE",
          "GAME ADVENTURE",
          "GAME ADVENTURE",
          "GAME ARCADE",
          "GAME ARCADE",
          "GAME ARCADE",
          "GAME ARCADE",
          "GAME ARCADE",
          "GAME ARCADE",
          "GAME ARCADE",
          "GAME ARCADE",
          "GAME ARCADE",
          "GAME ARCADE",
          "GAME ARCADE",
          "GAME ARCADE",
          "GAME ARCADE",
          "GAME ARCADE",
          "GAME ARCADE",
          "GAME ARCADE",
          "GAME ARCADE",
          "GAME ARCADE",
          "GAME ARCADE",
          "GAME ARCADE",
          "GAME ARCADE",
          "GAME ARCADE",
          "GAME ARCADE",
          "GAME ARCADE",
          "GAME ARCADE",
          "GAME ARCADE",
          "GAME ARCADE",
          "GAME ARCADE",
          "GAME ARCADE",
          "GAME ARCADE",
          "GAME ARCADE",
          "GAME ARCADE",
          "GAME ARCADE",
          "GAME ARCADE",
          "GAME ARCADE",
          "GAME ARCADE",
          "GAME ARCADE",
          "GAME ARCADE",
          "GAME ARCADE",
          "GAME ARCADE",
          "GAME ARCADE",
          "GAME ARCADE",
          "GAME ARCADE",
          "GAME ARCADE",
          "GAME ARCADE",
          "GAME ARCADE",
          "GAME ARCADE",
          "GAME ARCADE",
          "GAME ARCADE",
          "GAME ARCADE",
          "GAME ARCADE",
          "GAME ARCADE",
          "GAME ARCADE",
          "GAME ARCADE",
          "GAME ARCADE",
          "GAME ARCADE",
          "GAME ARCADE",
          "GAME ARCADE",
          "GAME ARCADE",
          "GAME ARCADE",
          "GAME ARCADE",
          "GAME ARCADE",
          "GAME ARCADE",
          "GAME ARCADE",
          "GAME ARCADE",
          "GAME ARCADE",
          "GAME ARCADE",
          "GAME ARCADE",
          "GAME ARCADE",
          "GAME ARCADE",
          "GAME ARCADE",
          "GAME ARCADE",
          "GAME ARCADE",
          "GAME ARCADE",
          "GAME ARCADE",
          "GAME ARCADE",
          "GAME ARCADE",
          "GAME ARCADE",
          "GAME ARCADE",
          "GAME ARCADE",
          "GAME ARCADE",
          "GAME ARCADE",
          "GAME ARCADE",
          "GAME ARCADE",
          "GAME ARCADE",
          "GAME ARCADE",
          "GAME ARCADE",
          "GAME ARCADE",
          "GAME ARCADE",
          "GAME ARCADE",
          "GAME ARCADE",
          "GAME ARCADE",
          "GAME ARCADE",
          "GAME ARCADE",
          "GAME ARCADE",
          "GAME ARCADE",
          "GAME ARCADE",
          "GAME ARCADE",
          "GAME ARCADE",
          "GAME ARCADE",
          "GAME BOARD",
          "GAME BOARD",
          "GAME BOARD",
          "GAME BOARD",
          "GAME BOARD",
          "GAME BOARD",
          "GAME BOARD",
          "GAME BOARD",
          "GAME BOARD",
          "GAME BOARD",
          "GAME BOARD",
          "GAME BOARD",
          "GAME BOARD",
          "GAME BOARD",
          "GAME BOARD",
          "GAME BOARD",
          "GAME BOARD",
          "GAME BOARD",
          "GAME BOARD",
          "GAME BOARD",
          "GAME BOARD",
          "GAME BOARD",
          "GAME BOARD",
          "GAME BOARD",
          "GAME BOARD",
          "GAME BOARD",
          "GAME BOARD",
          "GAME BOARD",
          "GAME BOARD",
          "GAME BOARD",
          "GAME BOARD",
          "GAME BOARD",
          "GAME BOARD",
          "GAME BOARD",
          "GAME BOARD",
          "GAME BOARD",
          "GAME BOARD",
          "GAME BOARD",
          "GAME BOARD",
          "GAME BOARD",
          "GAME BOARD",
          "GAME BOARD",
          "GAME BOARD",
          "GAME BOARD",
          "GAME BOARD",
          "GAME BOARD",
          "GAME BOARD",
          "GAME BOARD",
          "GAME BOARD",
          "GAME BOARD",
          "GAME BOARD",
          "GAME BOARD",
          "GAME BOARD",
          "GAME BOARD",
          "GAME BOARD",
          "GAME BOARD",
          "GAME BOARD",
          "GAME BOARD",
          "GAME BOARD",
          "GAME BOARD",
          "GAME BOARD",
          "GAME BOARD",
          "GAME BOARD",
          "GAME BOARD",
          "GAME BOARD",
          "GAME BOARD",
          "GAME BOARD",
          "GAME BOARD",
          "GAME BOARD",
          "GAME BOARD",
          "GAME BOARD",
          "GAME BOARD",
          "GAME BOARD",
          "GAME BOARD",
          "GAME BOARD",
          "GAME BOARD",
          "GAME BOARD",
          "GAME BOARD",
          "GAME BOARD",
          "GAME BOARD",
          "GAME BOARD",
          "GAME BOARD",
          "GAME BOARD",
          "GAME BOARD",
          "GAME BOARD",
          "GAME BOARD",
          "GAME BOARD",
          "GAME BOARD",
          "GAME BOARD",
          "GAME BOARD",
          "GAME BOARD",
          "GAME BOARD",
          "GAME BOARD",
          "GAME BOARD",
          "GAME BOARD",
          "GAME BOARD",
          "GAME BOARD",
          "GAME BOARD",
          "GAME BOARD",
          "GAME BOARD",
          "GAME CARD",
          "GAME CARD",
          "GAME CARD",
          "GAME CARD",
          "GAME CARD",
          "GAME CARD",
          "GAME CARD",
          "GAME CARD",
          "GAME CARD",
          "GAME CARD",
          "GAME CARD",
          "GAME CARD",
          "GAME CARD",
          "GAME CARD",
          "GAME CARD",
          "GAME CARD",
          "GAME CARD",
          "GAME CARD",
          "GAME CARD",
          "GAME CARD",
          "GAME CARD",
          "GAME CARD",
          "GAME CARD",
          "GAME CARD",
          "GAME CARD",
          "GAME CARD",
          "GAME CARD",
          "GAME CARD",
          "GAME CARD",
          "GAME CARD",
          "GAME CARD",
          "GAME CARD",
          "GAME CARD",
          "GAME CARD",
          "GAME CARD",
          "GAME CARD",
          "GAME CARD",
          "GAME CARD",
          "GAME CARD",
          "GAME CARD",
          "GAME CARD",
          "GAME CARD",
          "GAME CARD",
          "GAME CARD",
          "GAME CARD",
          "GAME CARD",
          "GAME CARD",
          "GAME CARD",
          "GAME CARD",
          "GAME CARD",
          "GAME CARD",
          "GAME CARD",
          "GAME CARD",
          "GAME CARD",
          "GAME CARD",
          "GAME CARD",
          "GAME CARD",
          "GAME CARD",
          "GAME CARD",
          "GAME CARD",
          "GAME CARD",
          "GAME CARD",
          "GAME CARD",
          "GAME CARD",
          "GAME CARD",
          "GAME CARD",
          "GAME CARD",
          "GAME CARD",
          "GAME CARD",
          "GAME CARD",
          "GAME CARD",
          "GAME CARD",
          "GAME CARD",
          "GAME CARD",
          "GAME CARD",
          "GAME CARD",
          "GAME CARD",
          "GAME CARD",
          "GAME CARD",
          "GAME CARD",
          "GAME CARD",
          "GAME CARD",
          "GAME CARD",
          "GAME CARD",
          "GAME CARD",
          "GAME CARD",
          "GAME CARD",
          "GAME CARD",
          "GAME CARD",
          "GAME CARD",
          "GAME CARD",
          "GAME CARD",
          "GAME CARD",
          "GAME CARD",
          "GAME CARD",
          "GAME CARD",
          "GAME CARD",
          "GAME CARD",
          "GAME CARD",
          "GAME CARD",
          "GAME CARD",
          "GAME CARD",
          "GAME CARD",
          "GAME CARD",
          "GAME CARD",
          "GAME CARD",
          "GAME CARD",
          "GAME CARD",
          "GAME CARD",
          "GAME CARD",
          "GAME CARD",
          "GAME CARD",
          "GAME CARD",
          "GAME CARD",
          "GAME CARD",
          "GAME CARD",
          "GAME CARD",
          "GAME CARD",
          "GAME CARD",
          "GAME CARD",
          "GAME CARD",
          "GAME CARD",
          "GAME CARD",
          "GAME CARD",
          "GAME CARD",
          "GAME CARD",
          "GAME CASINO",
          "GAME CASINO",
          "GAME CASINO",
          "GAME CASINO",
          "GAME CASINO",
          "GAME CASINO",
          "GAME CASINO",
          "GAME CASINO",
          "GAME CASINO",
          "GAME CASINO",
          "GAME CASINO",
          "GAME CASINO",
          "GAME CASINO",
          "GAME CASINO",
          "GAME CASINO",
          "GAME CASINO",
          "GAME CASINO",
          "GAME CASINO",
          "GAME CASINO",
          "GAME CASINO",
          "GAME CASINO",
          "GAME CASINO",
          "GAME CASINO",
          "GAME CASINO",
          "GAME CASINO",
          "GAME CASINO",
          "GAME CASINO",
          "GAME CASINO",
          "GAME CASINO",
          "GAME CASINO",
          "GAME CASINO",
          "GAME CASINO",
          "GAME CASINO",
          "GAME CASINO",
          "GAME CASINO",
          "GAME CASINO",
          "GAME CASINO",
          "GAME CASINO",
          "GAME CASINO",
          "GAME CASINO",
          "GAME CASINO",
          "GAME CASINO",
          "GAME CASINO",
          "GAME CASINO",
          "GAME CASINO",
          "GAME CASINO",
          "GAME CASINO",
          "GAME CASINO",
          "GAME CASINO",
          "GAME CASINO",
          "GAME CASINO",
          "GAME CASINO",
          "GAME CASINO",
          "GAME CASINO",
          "GAME CASINO",
          "GAME CASINO",
          "GAME CASINO",
          "GAME CASINO",
          "GAME CASINO",
          "GAME CASINO",
          "GAME CASINO",
          "GAME CASINO",
          "GAME CASINO",
          "GAME CASINO",
          "GAME CASINO",
          "GAME CASINO",
          "GAME CASINO",
          "GAME CASINO",
          "GAME CASINO",
          "GAME CASINO",
          "GAME CASINO",
          "GAME CASINO",
          "GAME CASINO",
          "GAME CASINO",
          "GAME CASINO",
          "GAME CASINO",
          "GAME CASINO",
          "GAME CASINO",
          "GAME CASINO",
          "GAME CASINO",
          "GAME CASINO",
          "GAME CASINO",
          "GAME CASINO",
          "GAME CASINO",
          "GAME CASINO",
          "GAME CASINO",
          "GAME CASINO",
          "GAME CASINO",
          "GAME CASINO",
          "GAME CASINO",
          "GAME CASINO",
          "GAME CASINO",
          "GAME CASINO",
          "GAME CASINO",
          "GAME CASINO",
          "GAME CASINO",
          "GAME CASINO",
          "GAME CASINO",
          "GAME CASINO",
          "GAME CASINO",
          "GAME CASUAL",
          "GAME CASUAL",
          "GAME CASUAL",
          "GAME CASUAL",
          "GAME CASUAL",
          "GAME CASUAL",
          "GAME CASUAL",
          "GAME CASUAL",
          "GAME CASUAL",
          "GAME CASUAL",
          "GAME CASUAL",
          "GAME CASUAL",
          "GAME CASUAL",
          "GAME CASUAL",
          "GAME CASUAL",
          "GAME CASUAL",
          "GAME CASUAL",
          "GAME CASUAL",
          "GAME CASUAL",
          "GAME CASUAL",
          "GAME CASUAL",
          "GAME CASUAL",
          "GAME CASUAL",
          "GAME CASUAL",
          "GAME CASUAL",
          "GAME CASUAL",
          "GAME CASUAL",
          "GAME CASUAL",
          "GAME CASUAL",
          "GAME CASUAL",
          "GAME CASUAL",
          "GAME CASUAL",
          "GAME CASUAL",
          "GAME CASUAL",
          "GAME CASUAL",
          "GAME CASUAL",
          "GAME CASUAL",
          "GAME CASUAL",
          "GAME CASUAL",
          "GAME CASUAL",
          "GAME CASUAL",
          "GAME CASUAL",
          "GAME CASUAL",
          "GAME CASUAL",
          "GAME CASUAL",
          "GAME CASUAL",
          "GAME CASUAL",
          "GAME CASUAL",
          "GAME CASUAL",
          "GAME CASUAL",
          "GAME CASUAL",
          "GAME CASUAL",
          "GAME CASUAL",
          "GAME CASUAL",
          "GAME CASUAL",
          "GAME CASUAL",
          "GAME CASUAL",
          "GAME CASUAL",
          "GAME CASUAL",
          "GAME CASUAL",
          "GAME CASUAL",
          "GAME CASUAL",
          "GAME CASUAL",
          "GAME CASUAL",
          "GAME CASUAL",
          "GAME CASUAL",
          "GAME CASUAL",
          "GAME CASUAL",
          "GAME CASUAL",
          "GAME CASUAL",
          "GAME CASUAL",
          "GAME CASUAL",
          "GAME CASUAL",
          "GAME CASUAL",
          "GAME CASUAL",
          "GAME CASUAL",
          "GAME CASUAL",
          "GAME CASUAL",
          "GAME CASUAL",
          "GAME CASUAL",
          "GAME CASUAL",
          "GAME CASUAL",
          "GAME CASUAL",
          "GAME CASUAL",
          "GAME CASUAL",
          "GAME CASUAL",
          "GAME CASUAL",
          "GAME CASUAL",
          "GAME CASUAL",
          "GAME CASUAL",
          "GAME CASUAL",
          "GAME CASUAL",
          "GAME CASUAL",
          "GAME CASUAL",
          "GAME CASUAL",
          "GAME CASUAL",
          "GAME CASUAL",
          "GAME CASUAL",
          "GAME CASUAL",
          "GAME CASUAL",
          "GAME EDUCATIONAL",
          "GAME EDUCATIONAL",
          "GAME EDUCATIONAL",
          "GAME EDUCATIONAL",
          "GAME EDUCATIONAL",
          "GAME EDUCATIONAL",
          "GAME EDUCATIONAL",
          "GAME EDUCATIONAL",
          "GAME EDUCATIONAL",
          "GAME EDUCATIONAL",
          "GAME EDUCATIONAL",
          "GAME EDUCATIONAL",
          "GAME EDUCATIONAL",
          "GAME EDUCATIONAL",
          "GAME EDUCATIONAL",
          "GAME EDUCATIONAL",
          "GAME EDUCATIONAL",
          "GAME EDUCATIONAL",
          "GAME EDUCATIONAL",
          "GAME EDUCATIONAL",
          "GAME EDUCATIONAL",
          "GAME EDUCATIONAL",
          "GAME EDUCATIONAL",
          "GAME EDUCATIONAL",
          "GAME EDUCATIONAL",
          "GAME EDUCATIONAL",
          "GAME EDUCATIONAL",
          "GAME EDUCATIONAL",
          "GAME EDUCATIONAL",
          "GAME EDUCATIONAL",
          "GAME EDUCATIONAL",
          "GAME EDUCATIONAL",
          "GAME EDUCATIONAL",
          "GAME EDUCATIONAL",
          "GAME EDUCATIONAL",
          "GAME EDUCATIONAL",
          "GAME EDUCATIONAL",
          "GAME EDUCATIONAL",
          "GAME EDUCATIONAL",
          "GAME EDUCATIONAL",
          "GAME EDUCATIONAL",
          "GAME EDUCATIONAL",
          "GAME EDUCATIONAL",
          "GAME EDUCATIONAL",
          "GAME EDUCATIONAL",
          "GAME EDUCATIONAL",
          "GAME EDUCATIONAL",
          "GAME EDUCATIONAL",
          "GAME EDUCATIONAL",
          "GAME EDUCATIONAL",
          "GAME EDUCATIONAL",
          "GAME EDUCATIONAL",
          "GAME EDUCATIONAL",
          "GAME EDUCATIONAL",
          "GAME EDUCATIONAL",
          "GAME EDUCATIONAL",
          "GAME EDUCATIONAL",
          "GAME EDUCATIONAL",
          "GAME EDUCATIONAL",
          "GAME EDUCATIONAL",
          "GAME EDUCATIONAL",
          "GAME EDUCATIONAL",
          "GAME EDUCATIONAL",
          "GAME EDUCATIONAL",
          "GAME EDUCATIONAL",
          "GAME EDUCATIONAL",
          "GAME EDUCATIONAL",
          "GAME EDUCATIONAL",
          "GAME EDUCATIONAL",
          "GAME EDUCATIONAL",
          "GAME EDUCATIONAL",
          "GAME EDUCATIONAL",
          "GAME EDUCATIONAL",
          "GAME EDUCATIONAL",
          "GAME EDUCATIONAL",
          "GAME EDUCATIONAL",
          "GAME EDUCATIONAL",
          "GAME EDUCATIONAL",
          "GAME EDUCATIONAL",
          "GAME EDUCATIONAL",
          "GAME EDUCATIONAL",
          "GAME EDUCATIONAL",
          "GAME EDUCATIONAL",
          "GAME EDUCATIONAL",
          "GAME EDUCATIONAL",
          "GAME EDUCATIONAL",
          "GAME EDUCATIONAL",
          "GAME EDUCATIONAL",
          "GAME EDUCATIONAL",
          "GAME EDUCATIONAL",
          "GAME EDUCATIONAL",
          "GAME EDUCATIONAL",
          "GAME EDUCATIONAL",
          "GAME EDUCATIONAL",
          "GAME EDUCATIONAL",
          "GAME EDUCATIONAL",
          "GAME EDUCATIONAL",
          "GAME EDUCATIONAL",
          "GAME EDUCATIONAL",
          "GAME EDUCATIONAL",
          "GAME MUSIC",
          "GAME MUSIC",
          "GAME MUSIC",
          "GAME MUSIC",
          "GAME MUSIC",
          "GAME MUSIC",
          "GAME MUSIC",
          "GAME MUSIC",
          "GAME MUSIC",
          "GAME MUSIC",
          "GAME MUSIC",
          "GAME MUSIC",
          "GAME MUSIC",
          "GAME MUSIC",
          "GAME MUSIC",
          "GAME MUSIC",
          "GAME MUSIC",
          "GAME MUSIC",
          "GAME MUSIC",
          "GAME MUSIC",
          "GAME MUSIC",
          "GAME MUSIC",
          "GAME MUSIC",
          "GAME MUSIC",
          "GAME MUSIC",
          "GAME MUSIC",
          "GAME MUSIC",
          "GAME MUSIC",
          "GAME MUSIC",
          "GAME MUSIC",
          "GAME MUSIC",
          "GAME MUSIC",
          "GAME MUSIC",
          "GAME MUSIC",
          "GAME MUSIC",
          "GAME MUSIC",
          "GAME MUSIC",
          "GAME MUSIC",
          "GAME MUSIC",
          "GAME MUSIC",
          "GAME MUSIC",
          "GAME MUSIC",
          "GAME MUSIC",
          "GAME MUSIC",
          "GAME MUSIC",
          "GAME MUSIC",
          "GAME MUSIC",
          "GAME MUSIC",
          "GAME MUSIC",
          "GAME MUSIC",
          "GAME MUSIC",
          "GAME MUSIC",
          "GAME MUSIC",
          "GAME MUSIC",
          "GAME MUSIC",
          "GAME MUSIC",
          "GAME MUSIC",
          "GAME MUSIC",
          "GAME MUSIC",
          "GAME MUSIC",
          "GAME MUSIC",
          "GAME MUSIC",
          "GAME MUSIC",
          "GAME MUSIC",
          "GAME MUSIC",
          "GAME MUSIC",
          "GAME MUSIC",
          "GAME MUSIC",
          "GAME MUSIC",
          "GAME MUSIC",
          "GAME MUSIC",
          "GAME MUSIC",
          "GAME MUSIC",
          "GAME MUSIC",
          "GAME MUSIC",
          "GAME MUSIC",
          "GAME MUSIC",
          "GAME MUSIC",
          "GAME MUSIC",
          "GAME MUSIC",
          "GAME MUSIC",
          "GAME MUSIC",
          "GAME MUSIC",
          "GAME MUSIC",
          "GAME MUSIC",
          "GAME MUSIC",
          "GAME MUSIC",
          "GAME MUSIC",
          "GAME MUSIC",
          "GAME MUSIC",
          "GAME MUSIC",
          "GAME MUSIC",
          "GAME MUSIC",
          "GAME MUSIC",
          "GAME MUSIC",
          "GAME MUSIC",
          "GAME MUSIC",
          "GAME MUSIC",
          "GAME MUSIC",
          "GAME MUSIC",
          "GAME PUZZLE",
          "GAME PUZZLE",
          "GAME PUZZLE",
          "GAME PUZZLE",
          "GAME PUZZLE",
          "GAME PUZZLE",
          "GAME PUZZLE",
          "GAME PUZZLE",
          "GAME PUZZLE",
          "GAME PUZZLE",
          "GAME PUZZLE",
          "GAME PUZZLE",
          "GAME PUZZLE",
          "GAME PUZZLE",
          "GAME PUZZLE",
          "GAME PUZZLE",
          "GAME PUZZLE",
          "GAME PUZZLE",
          "GAME PUZZLE",
          "GAME PUZZLE",
          "GAME PUZZLE",
          "GAME PUZZLE",
          "GAME PUZZLE",
          "GAME PUZZLE",
          "GAME PUZZLE",
          "GAME PUZZLE",
          "GAME PUZZLE",
          "GAME PUZZLE",
          "GAME PUZZLE",
          "GAME PUZZLE",
          "GAME PUZZLE",
          "GAME PUZZLE",
          "GAME PUZZLE",
          "GAME PUZZLE",
          "GAME PUZZLE",
          "GAME PUZZLE",
          "GAME PUZZLE",
          "GAME PUZZLE",
          "GAME PUZZLE",
          "GAME PUZZLE",
          "GAME PUZZLE",
          "GAME PUZZLE",
          "GAME PUZZLE",
          "GAME PUZZLE",
          "GAME PUZZLE",
          "GAME PUZZLE",
          "GAME PUZZLE",
          "GAME PUZZLE",
          "GAME PUZZLE",
          "GAME PUZZLE",
          "GAME PUZZLE",
          "GAME PUZZLE",
          "GAME PUZZLE",
          "GAME PUZZLE",
          "GAME PUZZLE",
          "GAME PUZZLE",
          "GAME PUZZLE",
          "GAME PUZZLE",
          "GAME PUZZLE",
          "GAME PUZZLE",
          "GAME PUZZLE",
          "GAME PUZZLE",
          "GAME PUZZLE",
          "GAME PUZZLE",
          "GAME PUZZLE",
          "GAME PUZZLE",
          "GAME PUZZLE",
          "GAME PUZZLE",
          "GAME PUZZLE",
          "GAME PUZZLE",
          "GAME PUZZLE",
          "GAME PUZZLE",
          "GAME PUZZLE",
          "GAME PUZZLE",
          "GAME PUZZLE",
          "GAME PUZZLE",
          "GAME PUZZLE",
          "GAME PUZZLE",
          "GAME PUZZLE",
          "GAME PUZZLE",
          "GAME PUZZLE",
          "GAME PUZZLE",
          "GAME PUZZLE",
          "GAME PUZZLE",
          "GAME PUZZLE",
          "GAME PUZZLE",
          "GAME PUZZLE",
          "GAME PUZZLE",
          "GAME PUZZLE",
          "GAME PUZZLE",
          "GAME PUZZLE",
          "GAME PUZZLE",
          "GAME PUZZLE",
          "GAME PUZZLE",
          "GAME PUZZLE",
          "GAME PUZZLE",
          "GAME PUZZLE",
          "GAME PUZZLE",
          "GAME PUZZLE",
          "GAME PUZZLE",
          "GAME RACING",
          "GAME RACING",
          "GAME RACING",
          "GAME RACING",
          "GAME RACING",
          "GAME RACING",
          "GAME RACING",
          "GAME RACING",
          "GAME RACING",
          "GAME RACING",
          "GAME RACING",
          "GAME RACING",
          "GAME RACING",
          "GAME RACING",
          "GAME RACING",
          "GAME RACING",
          "GAME RACING",
          "GAME RACING",
          "GAME RACING",
          "GAME RACING",
          "GAME RACING",
          "GAME RACING",
          "GAME RACING",
          "GAME RACING",
          "GAME RACING",
          "GAME RACING",
          "GAME RACING",
          "GAME RACING",
          "GAME RACING",
          "GAME RACING",
          "GAME RACING",
          "GAME RACING",
          "GAME RACING",
          "GAME RACING",
          "GAME RACING",
          "GAME RACING",
          "GAME RACING",
          "GAME RACING",
          "GAME RACING",
          "GAME RACING",
          "GAME RACING",
          "GAME RACING",
          "GAME RACING",
          "GAME RACING",
          "GAME RACING",
          "GAME RACING",
          "GAME RACING",
          "GAME RACING",
          "GAME RACING",
          "GAME RACING",
          "GAME RACING",
          "GAME RACING",
          "GAME RACING",
          "GAME RACING",
          "GAME RACING",
          "GAME RACING",
          "GAME RACING",
          "GAME RACING",
          "GAME RACING",
          "GAME RACING",
          "GAME RACING",
          "GAME RACING",
          "GAME RACING",
          "GAME RACING",
          "GAME RACING",
          "GAME RACING",
          "GAME RACING",
          "GAME RACING",
          "GAME RACING",
          "GAME RACING",
          "GAME RACING",
          "GAME RACING",
          "GAME RACING",
          "GAME RACING",
          "GAME RACING",
          "GAME RACING",
          "GAME RACING",
          "GAME RACING",
          "GAME RACING",
          "GAME RACING",
          "GAME RACING",
          "GAME RACING",
          "GAME RACING",
          "GAME RACING",
          "GAME RACING",
          "GAME RACING",
          "GAME RACING",
          "GAME RACING",
          "GAME RACING",
          "GAME RACING",
          "GAME RACING",
          "GAME RACING",
          "GAME RACING",
          "GAME RACING",
          "GAME RACING",
          "GAME RACING",
          "GAME RACING",
          "GAME RACING",
          "GAME RACING",
          "GAME RACING",
          "GAME ROLE PLAYING",
          "GAME ROLE PLAYING",
          "GAME ROLE PLAYING",
          "GAME ROLE PLAYING",
          "GAME ROLE PLAYING",
          "GAME ROLE PLAYING",
          "GAME ROLE PLAYING",
          "GAME ROLE PLAYING",
          "GAME ROLE PLAYING",
          "GAME ROLE PLAYING",
          "GAME ROLE PLAYING",
          "GAME ROLE PLAYING",
          "GAME ROLE PLAYING",
          "GAME ROLE PLAYING",
          "GAME ROLE PLAYING",
          "GAME ROLE PLAYING",
          "GAME ROLE PLAYING",
          "GAME ROLE PLAYING",
          "GAME ROLE PLAYING",
          "GAME ROLE PLAYING",
          "GAME ROLE PLAYING",
          "GAME ROLE PLAYING",
          "GAME ROLE PLAYING",
          "GAME ROLE PLAYING",
          "GAME ROLE PLAYING",
          "GAME ROLE PLAYING",
          "GAME ROLE PLAYING",
          "GAME ROLE PLAYING",
          "GAME ROLE PLAYING",
          "GAME ROLE PLAYING",
          "GAME ROLE PLAYING",
          "GAME ROLE PLAYING",
          "GAME ROLE PLAYING",
          "GAME ROLE PLAYING",
          "GAME ROLE PLAYING",
          "GAME ROLE PLAYING",
          "GAME ROLE PLAYING",
          "GAME ROLE PLAYING",
          "GAME ROLE PLAYING",
          "GAME ROLE PLAYING",
          "GAME ROLE PLAYING",
          "GAME ROLE PLAYING",
          "GAME ROLE PLAYING",
          "GAME ROLE PLAYING",
          "GAME ROLE PLAYING",
          "GAME ROLE PLAYING",
          "GAME ROLE PLAYING",
          "GAME ROLE PLAYING",
          "GAME ROLE PLAYING",
          "GAME ROLE PLAYING",
          "GAME ROLE PLAYING",
          "GAME ROLE PLAYING",
          "GAME ROLE PLAYING",
          "GAME ROLE PLAYING",
          "GAME ROLE PLAYING",
          "GAME ROLE PLAYING",
          "GAME ROLE PLAYING",
          "GAME ROLE PLAYING",
          "GAME ROLE PLAYING",
          "GAME ROLE PLAYING",
          "GAME ROLE PLAYING",
          "GAME ROLE PLAYING",
          "GAME ROLE PLAYING",
          "GAME ROLE PLAYING",
          "GAME ROLE PLAYING",
          "GAME ROLE PLAYING",
          "GAME ROLE PLAYING",
          "GAME ROLE PLAYING",
          "GAME ROLE PLAYING",
          "GAME ROLE PLAYING",
          "GAME ROLE PLAYING",
          "GAME ROLE PLAYING",
          "GAME ROLE PLAYING",
          "GAME ROLE PLAYING",
          "GAME ROLE PLAYING",
          "GAME ROLE PLAYING",
          "GAME ROLE PLAYING",
          "GAME ROLE PLAYING",
          "GAME ROLE PLAYING",
          "GAME ROLE PLAYING",
          "GAME ROLE PLAYING",
          "GAME ROLE PLAYING",
          "GAME ROLE PLAYING",
          "GAME ROLE PLAYING",
          "GAME ROLE PLAYING",
          "GAME ROLE PLAYING",
          "GAME ROLE PLAYING",
          "GAME ROLE PLAYING",
          "GAME ROLE PLAYING",
          "GAME ROLE PLAYING",
          "GAME ROLE PLAYING",
          "GAME ROLE PLAYING",
          "GAME ROLE PLAYING",
          "GAME ROLE PLAYING",
          "GAME ROLE PLAYING",
          "GAME ROLE PLAYING",
          "GAME ROLE PLAYING",
          "GAME ROLE PLAYING",
          "GAME ROLE PLAYING",
          "GAME ROLE PLAYING",
          "GAME SIMULATION",
          "GAME SIMULATION",
          "GAME SIMULATION",
          "GAME SIMULATION",
          "GAME SIMULATION",
          "GAME SIMULATION",
          "GAME SIMULATION",
          "GAME SIMULATION",
          "GAME SIMULATION",
          "GAME SIMULATION",
          "GAME SIMULATION",
          "GAME SIMULATION",
          "GAME SIMULATION",
          "GAME SIMULATION",
          "GAME SIMULATION",
          "GAME SIMULATION",
          "GAME SIMULATION",
          "GAME SIMULATION",
          "GAME SIMULATION",
          "GAME SIMULATION",
          "GAME SIMULATION",
          "GAME SIMULATION",
          "GAME SIMULATION",
          "GAME SIMULATION",
          "GAME SIMULATION",
          "GAME SIMULATION",
          "GAME SIMULATION",
          "GAME SIMULATION",
          "GAME SIMULATION",
          "GAME SIMULATION",
          "GAME SIMULATION",
          "GAME SIMULATION",
          "GAME SIMULATION",
          "GAME SIMULATION",
          "GAME SIMULATION",
          "GAME SIMULATION",
          "GAME SIMULATION",
          "GAME SIMULATION",
          "GAME SIMULATION",
          "GAME SIMULATION",
          "GAME SIMULATION",
          "GAME SIMULATION",
          "GAME SIMULATION",
          "GAME SIMULATION",
          "GAME SIMULATION",
          "GAME SIMULATION",
          "GAME SIMULATION",
          "GAME SIMULATION",
          "GAME SIMULATION",
          "GAME SIMULATION",
          "GAME SIMULATION",
          "GAME SIMULATION",
          "GAME SIMULATION",
          "GAME SIMULATION",
          "GAME SIMULATION",
          "GAME SIMULATION",
          "GAME SIMULATION",
          "GAME SIMULATION",
          "GAME SIMULATION",
          "GAME SIMULATION",
          "GAME SIMULATION",
          "GAME SIMULATION",
          "GAME SIMULATION",
          "GAME SIMULATION",
          "GAME SIMULATION",
          "GAME SIMULATION",
          "GAME SIMULATION",
          "GAME SIMULATION",
          "GAME SIMULATION",
          "GAME SIMULATION",
          "GAME SIMULATION",
          "GAME SIMULATION",
          "GAME SIMULATION",
          "GAME SIMULATION",
          "GAME SIMULATION",
          "GAME SIMULATION",
          "GAME SIMULATION",
          "GAME SIMULATION",
          "GAME SIMULATION",
          "GAME SIMULATION",
          "GAME SIMULATION",
          "GAME SIMULATION",
          "GAME SIMULATION",
          "GAME SIMULATION",
          "GAME SIMULATION",
          "GAME SIMULATION",
          "GAME SIMULATION",
          "GAME SIMULATION",
          "GAME SIMULATION",
          "GAME SIMULATION",
          "GAME SIMULATION",
          "GAME SIMULATION",
          "GAME SIMULATION",
          "GAME SIMULATION",
          "GAME SIMULATION",
          "GAME SIMULATION",
          "GAME SIMULATION",
          "GAME SIMULATION",
          "GAME SIMULATION",
          "GAME SIMULATION",
          "GAME SPORTS",
          "GAME SPORTS",
          "GAME SPORTS",
          "GAME SPORTS",
          "GAME SPORTS",
          "GAME SPORTS",
          "GAME SPORTS",
          "GAME SPORTS",
          "GAME SPORTS",
          "GAME SPORTS",
          "GAME SPORTS",
          "GAME SPORTS",
          "GAME SPORTS",
          "GAME SPORTS",
          "GAME SPORTS",
          "GAME SPORTS",
          "GAME SPORTS",
          "GAME SPORTS",
          "GAME SPORTS",
          "GAME SPORTS",
          "GAME SPORTS",
          "GAME SPORTS",
          "GAME SPORTS",
          "GAME SPORTS",
          "GAME SPORTS",
          "GAME SPORTS",
          "GAME SPORTS",
          "GAME SPORTS",
          "GAME SPORTS",
          "GAME SPORTS",
          "GAME SPORTS",
          "GAME SPORTS",
          "GAME SPORTS",
          "GAME SPORTS",
          "GAME SPORTS",
          "GAME SPORTS",
          "GAME SPORTS",
          "GAME SPORTS",
          "GAME SPORTS",
          "GAME SPORTS",
          "GAME SPORTS",
          "GAME SPORTS",
          "GAME SPORTS",
          "GAME SPORTS",
          "GAME SPORTS",
          "GAME SPORTS",
          "GAME SPORTS",
          "GAME SPORTS",
          "GAME SPORTS",
          "GAME SPORTS",
          "GAME SPORTS",
          "GAME SPORTS",
          "GAME SPORTS",
          "GAME SPORTS",
          "GAME SPORTS",
          "GAME SPORTS",
          "GAME SPORTS",
          "GAME SPORTS",
          "GAME SPORTS",
          "GAME SPORTS",
          "GAME SPORTS",
          "GAME SPORTS",
          "GAME SPORTS",
          "GAME SPORTS",
          "GAME SPORTS",
          "GAME SPORTS",
          "GAME SPORTS",
          "GAME SPORTS",
          "GAME SPORTS",
          "GAME SPORTS",
          "GAME SPORTS",
          "GAME SPORTS",
          "GAME SPORTS",
          "GAME SPORTS",
          "GAME SPORTS",
          "GAME SPORTS",
          "GAME SPORTS",
          "GAME SPORTS",
          "GAME SPORTS",
          "GAME SPORTS",
          "GAME SPORTS",
          "GAME SPORTS",
          "GAME SPORTS",
          "GAME SPORTS",
          "GAME SPORTS",
          "GAME SPORTS",
          "GAME SPORTS",
          "GAME SPORTS",
          "GAME SPORTS",
          "GAME SPORTS",
          "GAME SPORTS",
          "GAME SPORTS",
          "GAME SPORTS",
          "GAME SPORTS",
          "GAME SPORTS",
          "GAME SPORTS",
          "GAME SPORTS",
          "GAME SPORTS",
          "GAME SPORTS",
          "GAME SPORTS",
          "GAME STRATEGY",
          "GAME STRATEGY",
          "GAME STRATEGY",
          "GAME STRATEGY",
          "GAME STRATEGY",
          "GAME STRATEGY",
          "GAME STRATEGY",
          "GAME STRATEGY",
          "GAME STRATEGY",
          "GAME STRATEGY",
          "GAME STRATEGY",
          "GAME STRATEGY",
          "GAME STRATEGY",
          "GAME STRATEGY",
          "GAME STRATEGY",
          "GAME STRATEGY",
          "GAME STRATEGY",
          "GAME STRATEGY",
          "GAME STRATEGY",
          "GAME STRATEGY",
          "GAME STRATEGY",
          "GAME STRATEGY",
          "GAME STRATEGY",
          "GAME STRATEGY",
          "GAME STRATEGY",
          "GAME STRATEGY",
          "GAME STRATEGY",
          "GAME STRATEGY",
          "GAME STRATEGY",
          "GAME STRATEGY",
          "GAME STRATEGY",
          "GAME STRATEGY",
          "GAME STRATEGY",
          "GAME STRATEGY",
          "GAME STRATEGY",
          "GAME STRATEGY",
          "GAME STRATEGY",
          "GAME STRATEGY",
          "GAME STRATEGY",
          "GAME STRATEGY",
          "GAME STRATEGY",
          "GAME STRATEGY",
          "GAME STRATEGY",
          "GAME STRATEGY",
          "GAME STRATEGY",
          "GAME STRATEGY",
          "GAME STRATEGY",
          "GAME STRATEGY",
          "GAME STRATEGY",
          "GAME STRATEGY",
          "GAME STRATEGY",
          "GAME STRATEGY",
          "GAME STRATEGY",
          "GAME STRATEGY",
          "GAME STRATEGY",
          "GAME STRATEGY",
          "GAME STRATEGY",
          "GAME STRATEGY",
          "GAME STRATEGY",
          "GAME STRATEGY",
          "GAME STRATEGY",
          "GAME STRATEGY",
          "GAME STRATEGY",
          "GAME STRATEGY",
          "GAME STRATEGY",
          "GAME STRATEGY",
          "GAME STRATEGY",
          "GAME STRATEGY",
          "GAME STRATEGY",
          "GAME STRATEGY",
          "GAME STRATEGY",
          "GAME STRATEGY",
          "GAME STRATEGY",
          "GAME STRATEGY",
          "GAME STRATEGY",
          "GAME STRATEGY",
          "GAME STRATEGY",
          "GAME STRATEGY",
          "GAME STRATEGY",
          "GAME STRATEGY",
          "GAME STRATEGY",
          "GAME STRATEGY",
          "GAME STRATEGY",
          "GAME STRATEGY",
          "GAME STRATEGY",
          "GAME STRATEGY",
          "GAME STRATEGY",
          "GAME STRATEGY",
          "GAME STRATEGY",
          "GAME STRATEGY",
          "GAME STRATEGY",
          "GAME STRATEGY",
          "GAME STRATEGY",
          "GAME STRATEGY",
          "GAME STRATEGY",
          "GAME STRATEGY",
          "GAME STRATEGY",
          "GAME STRATEGY",
          "GAME STRATEGY",
          "GAME STRATEGY",
          "GAME TRIVIA",
          "GAME TRIVIA",
          "GAME TRIVIA",
          "GAME TRIVIA",
          "GAME TRIVIA",
          "GAME TRIVIA",
          "GAME TRIVIA",
          "GAME TRIVIA",
          "GAME TRIVIA",
          "GAME TRIVIA",
          "GAME TRIVIA",
          "GAME TRIVIA",
          "GAME TRIVIA",
          "GAME TRIVIA",
          "GAME TRIVIA",
          "GAME TRIVIA",
          "GAME TRIVIA",
          "GAME TRIVIA",
          "GAME TRIVIA",
          "GAME TRIVIA",
          "GAME TRIVIA",
          "GAME TRIVIA",
          "GAME TRIVIA",
          "GAME TRIVIA",
          "GAME TRIVIA",
          "GAME TRIVIA",
          "GAME TRIVIA",
          "GAME TRIVIA",
          "GAME TRIVIA",
          "GAME TRIVIA",
          "GAME TRIVIA",
          "GAME TRIVIA",
          "GAME TRIVIA",
          "GAME TRIVIA",
          "GAME TRIVIA",
          "GAME TRIVIA",
          "GAME TRIVIA",
          "GAME TRIVIA",
          "GAME TRIVIA",
          "GAME TRIVIA",
          "GAME TRIVIA",
          "GAME TRIVIA",
          "GAME TRIVIA",
          "GAME TRIVIA",
          "GAME TRIVIA",
          "GAME TRIVIA",
          "GAME TRIVIA",
          "GAME TRIVIA",
          "GAME TRIVIA",
          "GAME TRIVIA",
          "GAME TRIVIA",
          "GAME TRIVIA",
          "GAME TRIVIA",
          "GAME TRIVIA",
          "GAME TRIVIA",
          "GAME TRIVIA",
          "GAME TRIVIA",
          "GAME TRIVIA",
          "GAME TRIVIA",
          "GAME TRIVIA",
          "GAME TRIVIA",
          "GAME TRIVIA",
          "GAME TRIVIA",
          "GAME TRIVIA",
          "GAME TRIVIA",
          "GAME TRIVIA",
          "GAME TRIVIA",
          "GAME TRIVIA",
          "GAME TRIVIA",
          "GAME TRIVIA",
          "GAME TRIVIA",
          "GAME TRIVIA",
          "GAME TRIVIA",
          "GAME TRIVIA",
          "GAME TRIVIA",
          "GAME TRIVIA",
          "GAME TRIVIA",
          "GAME TRIVIA",
          "GAME TRIVIA",
          "GAME TRIVIA",
          "GAME TRIVIA",
          "GAME TRIVIA",
          "GAME TRIVIA",
          "GAME TRIVIA",
          "GAME TRIVIA",
          "GAME TRIVIA",
          "GAME TRIVIA",
          "GAME TRIVIA",
          "GAME TRIVIA",
          "GAME TRIVIA",
          "GAME TRIVIA",
          "GAME TRIVIA",
          "GAME TRIVIA",
          "GAME TRIVIA",
          "GAME TRIVIA",
          "GAME TRIVIA",
          "GAME TRIVIA",
          "GAME TRIVIA",
          "GAME TRIVIA",
          "GAME TRIVIA",
          "GAME WORD",
          "GAME WORD",
          "GAME WORD",
          "GAME WORD",
          "GAME WORD",
          "GAME WORD",
          "GAME WORD",
          "GAME WORD",
          "GAME WORD",
          "GAME WORD",
          "GAME WORD",
          "GAME WORD",
          "GAME WORD",
          "GAME WORD",
          "GAME WORD",
          "GAME WORD",
          "GAME WORD",
          "GAME WORD",
          "GAME WORD",
          "GAME WORD",
          "GAME WORD",
          "GAME WORD",
          "GAME WORD",
          "GAME WORD",
          "GAME WORD",
          "GAME WORD",
          "GAME WORD",
          "GAME WORD",
          "GAME WORD",
          "GAME WORD",
          "GAME WORD",
          "GAME WORD",
          "GAME WORD",
          "GAME WORD",
          "GAME WORD",
          "GAME WORD",
          "GAME WORD",
          "GAME WORD",
          "GAME WORD",
          "GAME WORD",
          "GAME WORD",
          "GAME WORD",
          "GAME WORD",
          "GAME WORD",
          "GAME WORD",
          "GAME WORD",
          "GAME WORD",
          "GAME WORD",
          "GAME WORD",
          "GAME WORD",
          "GAME WORD",
          "GAME WORD",
          "GAME WORD",
          "GAME WORD",
          "GAME WORD",
          "GAME WORD",
          "GAME WORD",
          "GAME WORD",
          "GAME WORD",
          "GAME WORD",
          "GAME WORD",
          "GAME WORD",
          "GAME WORD",
          "GAME WORD",
          "GAME WORD",
          "GAME WORD",
          "GAME WORD",
          "GAME WORD",
          "GAME WORD",
          "GAME WORD",
          "GAME WORD",
          "GAME WORD",
          "GAME WORD",
          "GAME WORD",
          "GAME WORD",
          "GAME WORD",
          "GAME WORD",
          "GAME WORD",
          "GAME WORD",
          "GAME WORD",
          "GAME WORD",
          "GAME WORD",
          "GAME WORD",
          "GAME WORD",
          "GAME WORD",
          "GAME WORD",
          "GAME WORD",
          "GAME WORD",
          "GAME WORD",
          "GAME WORD",
          "GAME WORD",
          "GAME WORD",
          "GAME WORD",
          "GAME WORD",
          "GAME WORD",
          "GAME WORD",
          "GAME WORD",
          "GAME WORD",
          "GAME WORD",
          "GAME WORD",
          "GAME WORD",
          "GAME WORD",
          "GAME WORD",
          "GAME WORD"
         ],
         "xaxis": "x",
         "yaxis": "y"
        }
       ],
       "layout": {
        "barmode": "relative",
        "legend": {
         "tracegroupgap": 0
        },
        "template": {
         "data": {
          "bar": [
           {
            "error_x": {
             "color": "#2a3f5f"
            },
            "error_y": {
             "color": "#2a3f5f"
            },
            "marker": {
             "line": {
              "color": "#E5ECF6",
              "width": 0.5
             },
             "pattern": {
              "fillmode": "overlay",
              "size": 10,
              "solidity": 0.2
             }
            },
            "type": "bar"
           }
          ],
          "barpolar": [
           {
            "marker": {
             "line": {
              "color": "#E5ECF6",
              "width": 0.5
             },
             "pattern": {
              "fillmode": "overlay",
              "size": 10,
              "solidity": 0.2
             }
            },
            "type": "barpolar"
           }
          ],
          "carpet": [
           {
            "aaxis": {
             "endlinecolor": "#2a3f5f",
             "gridcolor": "white",
             "linecolor": "white",
             "minorgridcolor": "white",
             "startlinecolor": "#2a3f5f"
            },
            "baxis": {
             "endlinecolor": "#2a3f5f",
             "gridcolor": "white",
             "linecolor": "white",
             "minorgridcolor": "white",
             "startlinecolor": "#2a3f5f"
            },
            "type": "carpet"
           }
          ],
          "choropleth": [
           {
            "colorbar": {
             "outlinewidth": 0,
             "ticks": ""
            },
            "type": "choropleth"
           }
          ],
          "contour": [
           {
            "colorbar": {
             "outlinewidth": 0,
             "ticks": ""
            },
            "colorscale": [
             [
              0,
              "#0d0887"
             ],
             [
              0.1111111111111111,
              "#46039f"
             ],
             [
              0.2222222222222222,
              "#7201a8"
             ],
             [
              0.3333333333333333,
              "#9c179e"
             ],
             [
              0.4444444444444444,
              "#bd3786"
             ],
             [
              0.5555555555555556,
              "#d8576b"
             ],
             [
              0.6666666666666666,
              "#ed7953"
             ],
             [
              0.7777777777777778,
              "#fb9f3a"
             ],
             [
              0.8888888888888888,
              "#fdca26"
             ],
             [
              1,
              "#f0f921"
             ]
            ],
            "type": "contour"
           }
          ],
          "contourcarpet": [
           {
            "colorbar": {
             "outlinewidth": 0,
             "ticks": ""
            },
            "type": "contourcarpet"
           }
          ],
          "heatmap": [
           {
            "colorbar": {
             "outlinewidth": 0,
             "ticks": ""
            },
            "colorscale": [
             [
              0,
              "#0d0887"
             ],
             [
              0.1111111111111111,
              "#46039f"
             ],
             [
              0.2222222222222222,
              "#7201a8"
             ],
             [
              0.3333333333333333,
              "#9c179e"
             ],
             [
              0.4444444444444444,
              "#bd3786"
             ],
             [
              0.5555555555555556,
              "#d8576b"
             ],
             [
              0.6666666666666666,
              "#ed7953"
             ],
             [
              0.7777777777777778,
              "#fb9f3a"
             ],
             [
              0.8888888888888888,
              "#fdca26"
             ],
             [
              1,
              "#f0f921"
             ]
            ],
            "type": "heatmap"
           }
          ],
          "heatmapgl": [
           {
            "colorbar": {
             "outlinewidth": 0,
             "ticks": ""
            },
            "colorscale": [
             [
              0,
              "#0d0887"
             ],
             [
              0.1111111111111111,
              "#46039f"
             ],
             [
              0.2222222222222222,
              "#7201a8"
             ],
             [
              0.3333333333333333,
              "#9c179e"
             ],
             [
              0.4444444444444444,
              "#bd3786"
             ],
             [
              0.5555555555555556,
              "#d8576b"
             ],
             [
              0.6666666666666666,
              "#ed7953"
             ],
             [
              0.7777777777777778,
              "#fb9f3a"
             ],
             [
              0.8888888888888888,
              "#fdca26"
             ],
             [
              1,
              "#f0f921"
             ]
            ],
            "type": "heatmapgl"
           }
          ],
          "histogram": [
           {
            "marker": {
             "pattern": {
              "fillmode": "overlay",
              "size": 10,
              "solidity": 0.2
             }
            },
            "type": "histogram"
           }
          ],
          "histogram2d": [
           {
            "colorbar": {
             "outlinewidth": 0,
             "ticks": ""
            },
            "colorscale": [
             [
              0,
              "#0d0887"
             ],
             [
              0.1111111111111111,
              "#46039f"
             ],
             [
              0.2222222222222222,
              "#7201a8"
             ],
             [
              0.3333333333333333,
              "#9c179e"
             ],
             [
              0.4444444444444444,
              "#bd3786"
             ],
             [
              0.5555555555555556,
              "#d8576b"
             ],
             [
              0.6666666666666666,
              "#ed7953"
             ],
             [
              0.7777777777777778,
              "#fb9f3a"
             ],
             [
              0.8888888888888888,
              "#fdca26"
             ],
             [
              1,
              "#f0f921"
             ]
            ],
            "type": "histogram2d"
           }
          ],
          "histogram2dcontour": [
           {
            "colorbar": {
             "outlinewidth": 0,
             "ticks": ""
            },
            "colorscale": [
             [
              0,
              "#0d0887"
             ],
             [
              0.1111111111111111,
              "#46039f"
             ],
             [
              0.2222222222222222,
              "#7201a8"
             ],
             [
              0.3333333333333333,
              "#9c179e"
             ],
             [
              0.4444444444444444,
              "#bd3786"
             ],
             [
              0.5555555555555556,
              "#d8576b"
             ],
             [
              0.6666666666666666,
              "#ed7953"
             ],
             [
              0.7777777777777778,
              "#fb9f3a"
             ],
             [
              0.8888888888888888,
              "#fdca26"
             ],
             [
              1,
              "#f0f921"
             ]
            ],
            "type": "histogram2dcontour"
           }
          ],
          "mesh3d": [
           {
            "colorbar": {
             "outlinewidth": 0,
             "ticks": ""
            },
            "type": "mesh3d"
           }
          ],
          "parcoords": [
           {
            "line": {
             "colorbar": {
              "outlinewidth": 0,
              "ticks": ""
             }
            },
            "type": "parcoords"
           }
          ],
          "pie": [
           {
            "automargin": true,
            "type": "pie"
           }
          ],
          "scatter": [
           {
            "marker": {
             "colorbar": {
              "outlinewidth": 0,
              "ticks": ""
             }
            },
            "type": "scatter"
           }
          ],
          "scatter3d": [
           {
            "line": {
             "colorbar": {
              "outlinewidth": 0,
              "ticks": ""
             }
            },
            "marker": {
             "colorbar": {
              "outlinewidth": 0,
              "ticks": ""
             }
            },
            "type": "scatter3d"
           }
          ],
          "scattercarpet": [
           {
            "marker": {
             "colorbar": {
              "outlinewidth": 0,
              "ticks": ""
             }
            },
            "type": "scattercarpet"
           }
          ],
          "scattergeo": [
           {
            "marker": {
             "colorbar": {
              "outlinewidth": 0,
              "ticks": ""
             }
            },
            "type": "scattergeo"
           }
          ],
          "scattergl": [
           {
            "marker": {
             "colorbar": {
              "outlinewidth": 0,
              "ticks": ""
             }
            },
            "type": "scattergl"
           }
          ],
          "scattermapbox": [
           {
            "marker": {
             "colorbar": {
              "outlinewidth": 0,
              "ticks": ""
             }
            },
            "type": "scattermapbox"
           }
          ],
          "scatterpolar": [
           {
            "marker": {
             "colorbar": {
              "outlinewidth": 0,
              "ticks": ""
             }
            },
            "type": "scatterpolar"
           }
          ],
          "scatterpolargl": [
           {
            "marker": {
             "colorbar": {
              "outlinewidth": 0,
              "ticks": ""
             }
            },
            "type": "scatterpolargl"
           }
          ],
          "scatterternary": [
           {
            "marker": {
             "colorbar": {
              "outlinewidth": 0,
              "ticks": ""
             }
            },
            "type": "scatterternary"
           }
          ],
          "surface": [
           {
            "colorbar": {
             "outlinewidth": 0,
             "ticks": ""
            },
            "colorscale": [
             [
              0,
              "#0d0887"
             ],
             [
              0.1111111111111111,
              "#46039f"
             ],
             [
              0.2222222222222222,
              "#7201a8"
             ],
             [
              0.3333333333333333,
              "#9c179e"
             ],
             [
              0.4444444444444444,
              "#bd3786"
             ],
             [
              0.5555555555555556,
              "#d8576b"
             ],
             [
              0.6666666666666666,
              "#ed7953"
             ],
             [
              0.7777777777777778,
              "#fb9f3a"
             ],
             [
              0.8888888888888888,
              "#fdca26"
             ],
             [
              1,
              "#f0f921"
             ]
            ],
            "type": "surface"
           }
          ],
          "table": [
           {
            "cells": {
             "fill": {
              "color": "#EBF0F8"
             },
             "line": {
              "color": "white"
             }
            },
            "header": {
             "fill": {
              "color": "#C8D4E3"
             },
             "line": {
              "color": "white"
             }
            },
            "type": "table"
           }
          ]
         },
         "layout": {
          "annotationdefaults": {
           "arrowcolor": "#2a3f5f",
           "arrowhead": 0,
           "arrowwidth": 1
          },
          "autotypenumbers": "strict",
          "coloraxis": {
           "colorbar": {
            "outlinewidth": 0,
            "ticks": ""
           }
          },
          "colorscale": {
           "diverging": [
            [
             0,
             "#8e0152"
            ],
            [
             0.1,
             "#c51b7d"
            ],
            [
             0.2,
             "#de77ae"
            ],
            [
             0.3,
             "#f1b6da"
            ],
            [
             0.4,
             "#fde0ef"
            ],
            [
             0.5,
             "#f7f7f7"
            ],
            [
             0.6,
             "#e6f5d0"
            ],
            [
             0.7,
             "#b8e186"
            ],
            [
             0.8,
             "#7fbc41"
            ],
            [
             0.9,
             "#4d9221"
            ],
            [
             1,
             "#276419"
            ]
           ],
           "sequential": [
            [
             0,
             "#0d0887"
            ],
            [
             0.1111111111111111,
             "#46039f"
            ],
            [
             0.2222222222222222,
             "#7201a8"
            ],
            [
             0.3333333333333333,
             "#9c179e"
            ],
            [
             0.4444444444444444,
             "#bd3786"
            ],
            [
             0.5555555555555556,
             "#d8576b"
            ],
            [
             0.6666666666666666,
             "#ed7953"
            ],
            [
             0.7777777777777778,
             "#fb9f3a"
            ],
            [
             0.8888888888888888,
             "#fdca26"
            ],
            [
             1,
             "#f0f921"
            ]
           ],
           "sequentialminus": [
            [
             0,
             "#0d0887"
            ],
            [
             0.1111111111111111,
             "#46039f"
            ],
            [
             0.2222222222222222,
             "#7201a8"
            ],
            [
             0.3333333333333333,
             "#9c179e"
            ],
            [
             0.4444444444444444,
             "#bd3786"
            ],
            [
             0.5555555555555556,
             "#d8576b"
            ],
            [
             0.6666666666666666,
             "#ed7953"
            ],
            [
             0.7777777777777778,
             "#fb9f3a"
            ],
            [
             0.8888888888888888,
             "#fdca26"
            ],
            [
             1,
             "#f0f921"
            ]
           ]
          },
          "colorway": [
           "#636efa",
           "#EF553B",
           "#00cc96",
           "#ab63fa",
           "#FFA15A",
           "#19d3f3",
           "#FF6692",
           "#B6E880",
           "#FF97FF",
           "#FECB52"
          ],
          "font": {
           "color": "#2a3f5f"
          },
          "geo": {
           "bgcolor": "white",
           "lakecolor": "white",
           "landcolor": "#E5ECF6",
           "showlakes": true,
           "showland": true,
           "subunitcolor": "white"
          },
          "hoverlabel": {
           "align": "left"
          },
          "hovermode": "closest",
          "mapbox": {
           "style": "light"
          },
          "paper_bgcolor": "white",
          "plot_bgcolor": "#E5ECF6",
          "polar": {
           "angularaxis": {
            "gridcolor": "white",
            "linecolor": "white",
            "ticks": ""
           },
           "bgcolor": "#E5ECF6",
           "radialaxis": {
            "gridcolor": "white",
            "linecolor": "white",
            "ticks": ""
           }
          },
          "scene": {
           "xaxis": {
            "backgroundcolor": "#E5ECF6",
            "gridcolor": "white",
            "gridwidth": 2,
            "linecolor": "white",
            "showbackground": true,
            "ticks": "",
            "zerolinecolor": "white"
           },
           "yaxis": {
            "backgroundcolor": "#E5ECF6",
            "gridcolor": "white",
            "gridwidth": 2,
            "linecolor": "white",
            "showbackground": true,
            "ticks": "",
            "zerolinecolor": "white"
           },
           "zaxis": {
            "backgroundcolor": "#E5ECF6",
            "gridcolor": "white",
            "gridwidth": 2,
            "linecolor": "white",
            "showbackground": true,
            "ticks": "",
            "zerolinecolor": "white"
           }
          },
          "shapedefaults": {
           "line": {
            "color": "#2a3f5f"
           }
          },
          "ternary": {
           "aaxis": {
            "gridcolor": "white",
            "linecolor": "white",
            "ticks": ""
           },
           "baxis": {
            "gridcolor": "white",
            "linecolor": "white",
            "ticks": ""
           },
           "bgcolor": "#E5ECF6",
           "caxis": {
            "gridcolor": "white",
            "linecolor": "white",
            "ticks": ""
           }
          },
          "title": {
           "x": 0.05
          },
          "xaxis": {
           "automargin": true,
           "gridcolor": "white",
           "linecolor": "white",
           "ticks": "",
           "title": {
            "standoff": 15
           },
           "zerolinecolor": "white",
           "zerolinewidth": 2
          },
          "yaxis": {
           "automargin": true,
           "gridcolor": "white",
           "linecolor": "white",
           "ticks": "",
           "title": {
            "standoff": 15
           },
           "zerolinecolor": "white",
           "zerolinewidth": 2
          }
         }
        },
        "title": {
         "text": "Game Categories"
        },
        "xaxis": {
         "anchor": "y",
         "categoryorder": "total descending",
         "domain": [
          0,
          1
         ],
         "title": {
          "text": "Categories"
         }
        },
        "yaxis": {
         "anchor": "x",
         "automargin": true,
         "domain": [
          0,
          1
         ],
         "title": {
          "text": "count"
         }
        }
       }
      }
     },
     "metadata": {},
     "output_type": "display_data"
    }
   ],
   "source": [
    "# using the plotly.express library\n",
    "fig = px.histogram(df, x=\"category\", title=\"Game Categories\", labels={\"category\": \"Categories\"})\n",
    "fig.update_layout(xaxis={\"categoryorder\":\"total descending\"},)\n",
    "fig.update_yaxes(automargin=True)\n",
    "fig.show()"
   ]
  },
  {
   "cell_type": "markdown",
   "metadata": {},
   "source": [
    "## Paid vs Free games"
   ]
  },
  {
   "cell_type": "code",
   "execution_count": 16,
   "metadata": {},
   "outputs": [
    {
     "data": {
      "text/plain": [
       "False    1723\n",
       "True        7\n",
       "Name: paid, dtype: int64"
      ]
     },
     "execution_count": 16,
     "metadata": {},
     "output_type": "execute_result"
    }
   ],
   "source": [
    "df['paid'].value_counts()\n"
   ]
  },
  {
   "cell_type": "code",
   "execution_count": 17,
   "metadata": {},
   "outputs": [
    {
     "data": {
      "text/plain": [
       "<AxesSubplot:title={'center':'Free vs Paid games'}>"
      ]
     },
     "execution_count": 17,
     "metadata": {},
     "output_type": "execute_result"
    },
    {
     "data": {
      "image/png": "[encoded data removed]",
      "text/plain": [
       "<Figure size 504x504 with 1 Axes>"
      ]
     },
     "metadata": {},
     "output_type": "display_data"
    }
   ],
   "source": [
    "df['paid'].value_counts().plot(kind='pie', title='Free vs Paid games', legend=True,\n",
    "                               autopct='%1.1f%%', fontsize=14, figsize=[7, 7], labels=[\"free\", \"paid\"], ylabel='', colors=[\"g\", \"r\"])\n"
   ]
  },
  {
   "cell_type": "code",
   "execution_count": 18,
   "metadata": {},
   "outputs": [
    {
     "data": {
      "application/vnd.plotly.v1+json": {
       "config": {
        "plotlyServerURL": "https://plot.ly"
       },
       "data": [
        {
         "domain": {
          "x": [
           0,
           1
          ],
          "y": [
           0,
           1
          ]
         },
         "hovertemplate": "label=%{label}<br>value=%{value}<extra></extra>",
         "labels": [
          "Free",
          "Paid"
         ],
         "legendgroup": "",
         "name": "",
         "showlegend": true,
         "textinfo": "percent+label",
         "textposition": "outside",
         "type": "pie",
         "values": [
          1723,
          7
         ]
        }
       ],
       "layout": {
        "legend": {
         "tracegroupgap": 0
        },
        "piecolorway": [
         "springgreen",
         "red"
        ],
        "template": {
         "data": {
          "bar": [
           {
            "error_x": {
             "color": "#2a3f5f"
            },
            "error_y": {
             "color": "#2a3f5f"
            },
            "marker": {
             "line": {
              "color": "#E5ECF6",
              "width": 0.5
             },
             "pattern": {
              "fillmode": "overlay",
              "size": 10,
              "solidity": 0.2
             }
            },
            "type": "bar"
           }
          ],
          "barpolar": [
           {
            "marker": {
             "line": {
              "color": "#E5ECF6",
              "width": 0.5
             },
             "pattern": {
              "fillmode": "overlay",
              "size": 10,
              "solidity": 0.2
             }
            },
            "type": "barpolar"
           }
          ],
          "carpet": [
           {
            "aaxis": {
             "endlinecolor": "#2a3f5f",
             "gridcolor": "white",
             "linecolor": "white",
             "minorgridcolor": "white",
             "startlinecolor": "#2a3f5f"
            },
            "baxis": {
             "endlinecolor": "#2a3f5f",
             "gridcolor": "white",
             "linecolor": "white",
             "minorgridcolor": "white",
             "startlinecolor": "#2a3f5f"
            },
            "type": "carpet"
           }
          ],
          "choropleth": [
           {
            "colorbar": {
             "outlinewidth": 0,
             "ticks": ""
            },
            "type": "choropleth"
           }
          ],
          "contour": [
           {
            "colorbar": {
             "outlinewidth": 0,
             "ticks": ""
            },
            "colorscale": [
             [
              0,
              "#0d0887"
             ],
             [
              0.1111111111111111,
              "#46039f"
             ],
             [
              0.2222222222222222,
              "#7201a8"
             ],
             [
              0.3333333333333333,
              "#9c179e"
             ],
             [
              0.4444444444444444,
              "#bd3786"
             ],
             [
              0.5555555555555556,
              "#d8576b"
             ],
             [
              0.6666666666666666,
              "#ed7953"
             ],
             [
              0.7777777777777778,
              "#fb9f3a"
             ],
             [
              0.8888888888888888,
              "#fdca26"
             ],
             [
              1,
              "#f0f921"
             ]
            ],
            "type": "contour"
           }
          ],
          "contourcarpet": [
           {
            "colorbar": {
             "outlinewidth": 0,
             "ticks": ""
            },
            "type": "contourcarpet"
           }
          ],
          "heatmap": [
           {
            "colorbar": {
             "outlinewidth": 0,
             "ticks": ""
            },
            "colorscale": [
             [
              0,
              "#0d0887"
             ],
             [
              0.1111111111111111,
              "#46039f"
             ],
             [
              0.2222222222222222,
              "#7201a8"
             ],
             [
              0.3333333333333333,
              "#9c179e"
             ],
             [
              0.4444444444444444,
              "#bd3786"
             ],
             [
              0.5555555555555556,
              "#d8576b"
             ],
             [
              0.6666666666666666,
              "#ed7953"
             ],
             [
              0.7777777777777778,
              "#fb9f3a"
             ],
             [
              0.8888888888888888,
              "#fdca26"
             ],
             [
              1,
              "#f0f921"
             ]
            ],
            "type": "heatmap"
           }
          ],
          "heatmapgl": [
           {
            "colorbar": {
             "outlinewidth": 0,
             "ticks": ""
            },
            "colorscale": [
             [
              0,
              "#0d0887"
             ],
             [
              0.1111111111111111,
              "#46039f"
             ],
             [
              0.2222222222222222,
              "#7201a8"
             ],
             [
              0.3333333333333333,
              "#9c179e"
             ],
             [
              0.4444444444444444,
              "#bd3786"
             ],
             [
              0.5555555555555556,
              "#d8576b"
             ],
             [
              0.6666666666666666,
              "#ed7953"
             ],
             [
              0.7777777777777778,
              "#fb9f3a"
             ],
             [
              0.8888888888888888,
              "#fdca26"
             ],
             [
              1,
              "#f0f921"
             ]
            ],
            "type": "heatmapgl"
           }
          ],
          "histogram": [
           {
            "marker": {
             "pattern": {
              "fillmode": "overlay",
              "size": 10,
              "solidity": 0.2
             }
            },
            "type": "histogram"
           }
          ],
          "histogram2d": [
           {
            "colorbar": {
             "outlinewidth": 0,
             "ticks": ""
            },
            "colorscale": [
             [
              0,
              "#0d0887"
             ],
             [
              0.1111111111111111,
              "#46039f"
             ],
             [
              0.2222222222222222,
              "#7201a8"
             ],
             [
              0.3333333333333333,
              "#9c179e"
             ],
             [
              0.4444444444444444,
              "#bd3786"
             ],
             [
              0.5555555555555556,
              "#d8576b"
             ],
             [
              0.6666666666666666,
              "#ed7953"
             ],
             [
              0.7777777777777778,
              "#fb9f3a"
             ],
             [
              0.8888888888888888,
              "#fdca26"
             ],
             [
              1,
              "#f0f921"
             ]
            ],
            "type": "histogram2d"
           }
          ],
          "histogram2dcontour": [
           {
            "colorbar": {
             "outlinewidth": 0,
             "ticks": ""
            },
            "colorscale": [
             [
              0,
              "#0d0887"
             ],
             [
              0.1111111111111111,
              "#46039f"
             ],
             [
              0.2222222222222222,
              "#7201a8"
             ],
             [
              0.3333333333333333,
              "#9c179e"
             ],
             [
              0.4444444444444444,
              "#bd3786"
             ],
             [
              0.5555555555555556,
              "#d8576b"
             ],
             [
              0.6666666666666666,
              "#ed7953"
             ],
             [
              0.7777777777777778,
              "#fb9f3a"
             ],
             [
              0.8888888888888888,
              "#fdca26"
             ],
             [
              1,
              "#f0f921"
             ]
            ],
            "type": "histogram2dcontour"
           }
          ],
          "mesh3d": [
           {
            "colorbar": {
             "outlinewidth": 0,
             "ticks": ""
            },
            "type": "mesh3d"
           }
          ],
          "parcoords": [
           {
            "line": {
             "colorbar": {
              "outlinewidth": 0,
              "ticks": ""
             }
            },
            "type": "parcoords"
           }
          ],
          "pie": [
           {
            "automargin": true,
            "type": "pie"
           }
          ],
          "scatter": [
           {
            "marker": {
             "colorbar": {
              "outlinewidth": 0,
              "ticks": ""
             }
            },
            "type": "scatter"
           }
          ],
          "scatter3d": [
           {
            "line": {
             "colorbar": {
              "outlinewidth": 0,
              "ticks": ""
             }
            },
            "marker": {
             "colorbar": {
              "outlinewidth": 0,
              "ticks": ""
             }
            },
            "type": "scatter3d"
           }
          ],
          "scattercarpet": [
           {
            "marker": {
             "colorbar": {
              "outlinewidth": 0,
              "ticks": ""
             }
            },
            "type": "scattercarpet"
           }
          ],
          "scattergeo": [
           {
            "marker": {
             "colorbar": {
              "outlinewidth": 0,
              "ticks": ""
             }
            },
            "type": "scattergeo"
           }
          ],
          "scattergl": [
           {
            "marker": {
             "colorbar": {
              "outlinewidth": 0,
              "ticks": ""
             }
            },
            "type": "scattergl"
           }
          ],
          "scattermapbox": [
           {
            "marker": {
             "colorbar": {
              "outlinewidth": 0,
              "ticks": ""
             }
            },
            "type": "scattermapbox"
           }
          ],
          "scatterpolar": [
           {
            "marker": {
             "colorbar": {
              "outlinewidth": 0,
              "ticks": ""
             }
            },
            "type": "scatterpolar"
           }
          ],
          "scatterpolargl": [
           {
            "marker": {
             "colorbar": {
              "outlinewidth": 0,
              "ticks": ""
             }
            },
            "type": "scatterpolargl"
           }
          ],
          "scatterternary": [
           {
            "marker": {
             "colorbar": {
              "outlinewidth": 0,
              "ticks": ""
             }
            },
            "type": "scatterternary"
           }
          ],
          "surface": [
           {
            "colorbar": {
             "outlinewidth": 0,
             "ticks": ""
            },
            "colorscale": [
             [
              0,
              "#0d0887"
             ],
             [
              0.1111111111111111,
              "#46039f"
             ],
             [
              0.2222222222222222,
              "#7201a8"
             ],
             [
              0.3333333333333333,
              "#9c179e"
             ],
             [
              0.4444444444444444,
              "#bd3786"
             ],
             [
              0.5555555555555556,
              "#d8576b"
             ],
             [
              0.6666666666666666,
              "#ed7953"
             ],
             [
              0.7777777777777778,
              "#fb9f3a"
             ],
             [
              0.8888888888888888,
              "#fdca26"
             ],
             [
              1,
              "#f0f921"
             ]
            ],
            "type": "surface"
           }
          ],
          "table": [
           {
            "cells": {
             "fill": {
              "color": "#EBF0F8"
             },
             "line": {
              "color": "white"
             }
            },
            "header": {
             "fill": {
              "color": "#C8D4E3"
             },
             "line": {
              "color": "white"
             }
            },
            "type": "table"
           }
          ]
         },
         "layout": {
          "annotationdefaults": {
           "arrowcolor": "#2a3f5f",
           "arrowhead": 0,
           "arrowwidth": 1
          },
          "autotypenumbers": "strict",
          "coloraxis": {
           "colorbar": {
            "outlinewidth": 0,
            "ticks": ""
           }
          },
          "colorscale": {
           "diverging": [
            [
             0,
             "#8e0152"
            ],
            [
             0.1,
             "#c51b7d"
            ],
            [
             0.2,
             "#de77ae"
            ],
            [
             0.3,
             "#f1b6da"
            ],
            [
             0.4,
             "#fde0ef"
            ],
            [
             0.5,
             "#f7f7f7"
            ],
            [
             0.6,
             "#e6f5d0"
            ],
            [
             0.7,
             "#b8e186"
            ],
            [
             0.8,
             "#7fbc41"
            ],
            [
             0.9,
             "#4d9221"
            ],
            [
             1,
             "#276419"
            ]
           ],
           "sequential": [
            [
             0,
             "#0d0887"
            ],
            [
             0.1111111111111111,
             "#46039f"
            ],
            [
             0.2222222222222222,
             "#7201a8"
            ],
            [
             0.3333333333333333,
             "#9c179e"
            ],
            [
             0.4444444444444444,
             "#bd3786"
            ],
            [
             0.5555555555555556,
             "#d8576b"
            ],
            [
             0.6666666666666666,
             "#ed7953"
            ],
            [
             0.7777777777777778,
             "#fb9f3a"
            ],
            [
             0.8888888888888888,
             "#fdca26"
            ],
            [
             1,
             "#f0f921"
            ]
           ],
           "sequentialminus": [
            [
             0,
             "#0d0887"
            ],
            [
             0.1111111111111111,
             "#46039f"
            ],
            [
             0.2222222222222222,
             "#7201a8"
            ],
            [
             0.3333333333333333,
             "#9c179e"
            ],
            [
             0.4444444444444444,
             "#bd3786"
            ],
            [
             0.5555555555555556,
             "#d8576b"
            ],
            [
             0.6666666666666666,
             "#ed7953"
            ],
            [
             0.7777777777777778,
             "#fb9f3a"
            ],
            [
             0.8888888888888888,
             "#fdca26"
            ],
            [
             1,
             "#f0f921"
            ]
           ]
          },
          "colorway": [
           "#636efa",
           "#EF553B",
           "#00cc96",
           "#ab63fa",
           "#FFA15A",
           "#19d3f3",
           "#FF6692",
           "#B6E880",
           "#FF97FF",
           "#FECB52"
          ],
          "font": {
           "color": "#2a3f5f"
          },
          "geo": {
           "bgcolor": "white",
           "lakecolor": "white",
           "landcolor": "#E5ECF6",
           "showlakes": true,
           "showland": true,
           "subunitcolor": "white"
          },
          "hoverlabel": {
           "align": "left"
          },
          "hovermode": "closest",
          "mapbox": {
           "style": "light"
          },
          "paper_bgcolor": "white",
          "plot_bgcolor": "#E5ECF6",
          "polar": {
           "angularaxis": {
            "gridcolor": "white",
            "linecolor": "white",
            "ticks": ""
           },
           "bgcolor": "#E5ECF6",
           "radialaxis": {
            "gridcolor": "white",
            "linecolor": "white",
            "ticks": ""
           }
          },
          "scene": {
           "xaxis": {
            "backgroundcolor": "#E5ECF6",
            "gridcolor": "white",
            "gridwidth": 2,
            "linecolor": "white",
            "showbackground": true,
            "ticks": "",
            "zerolinecolor": "white"
           },
           "yaxis": {
            "backgroundcolor": "#E5ECF6",
            "gridcolor": "white",
            "gridwidth": 2,
            "linecolor": "white",
            "showbackground": true,
            "ticks": "",
            "zerolinecolor": "white"
           },
           "zaxis": {
            "backgroundcolor": "#E5ECF6",
            "gridcolor": "white",
            "gridwidth": 2,
            "linecolor": "white",
            "showbackground": true,
            "ticks": "",
            "zerolinecolor": "white"
           }
          },
          "shapedefaults": {
           "line": {
            "color": "#2a3f5f"
           }
          },
          "ternary": {
           "aaxis": {
            "gridcolor": "white",
            "linecolor": "white",
            "ticks": ""
           },
           "baxis": {
            "gridcolor": "white",
            "linecolor": "white",
            "ticks": ""
           },
           "bgcolor": "#E5ECF6",
           "caxis": {
            "gridcolor": "white",
            "linecolor": "white",
            "ticks": ""
           }
          },
          "title": {
           "x": 0.05
          },
          "xaxis": {
           "automargin": true,
           "gridcolor": "white",
           "linecolor": "white",
           "ticks": "",
           "title": {
            "standoff": 15
           },
           "zerolinecolor": "white",
           "zerolinewidth": 2
          },
          "yaxis": {
           "automargin": true,
           "gridcolor": "white",
           "linecolor": "white",
           "ticks": "",
           "title": {
            "standoff": 15
           },
           "zerolinecolor": "white",
           "zerolinewidth": 2
          }
         }
        },
        "title": {
         "text": "Free vs Paid games"
        }
       }
      }
     },
     "metadata": {},
     "output_type": "display_data"
    }
   ],
   "source": [
    "free_games = df['paid'].value_counts()\n",
    "label = ['Free', 'Paid']\n",
    "values = df['paid'].value_counts().values\n",
    "\n",
    "fig = px.pie(free_games, values=values, names=label, title='Free vs Paid games', color_discrete_sequence=[\"springgreen\", \"red\"])\n",
    "fig.update_traces(textposition='outside', textinfo='percent+label')\n",
    "fig.show()\n"
   ]
  },
  {
   "cell_type": "markdown",
   "metadata": {},
   "source": [
    "## Relationship Analysis"
   ]
  },
  {
   "cell_type": "code",
   "execution_count": 19,
   "metadata": {},
   "outputs": [
    {
     "data": {
      "text/html": [
       "<div>\n",
       "<style scoped>\n",
       "    .dataframe tbody tr th:only-of-type {\n",
       "        vertical-align: middle;\n",
       "    }\n",
       "\n",
       "    .dataframe tbody tr th {\n",
       "        vertical-align: top;\n",
       "    }\n",
       "\n",
       "    .dataframe thead th {\n",
       "        text-align: right;\n",
       "    }\n",
       "</style>\n",
       "<table border=\"1\" class=\"dataframe\">\n",
       "  <thead>\n",
       "    <tr style=\"text-align: right;\">\n",
       "      <th></th>\n",
       "      <th>rank</th>\n",
       "      <th>title</th>\n",
       "      <th>total ratings</th>\n",
       "      <th>installs</th>\n",
       "      <th>average rating</th>\n",
       "      <th>growth (30 days)</th>\n",
       "      <th>growth (60 days)</th>\n",
       "      <th>category</th>\n",
       "      <th>5 star ratings</th>\n",
       "      <th>4 star ratings</th>\n",
       "      <th>3 star ratings</th>\n",
       "      <th>2 star ratings</th>\n",
       "      <th>1 star ratings</th>\n",
       "      <th>paid</th>\n",
       "    </tr>\n",
       "  </thead>\n",
       "  <tbody>\n",
       "    <tr>\n",
       "      <th>0</th>\n",
       "      <td>1</td>\n",
       "      <td>Garena Free Fire- World Series</td>\n",
       "      <td>86273129</td>\n",
       "      <td>500.0 M</td>\n",
       "      <td>4</td>\n",
       "      <td>2.1</td>\n",
       "      <td>6.9</td>\n",
       "      <td>GAME ACTION</td>\n",
       "      <td>63546766</td>\n",
       "      <td>4949507</td>\n",
       "      <td>3158756</td>\n",
       "      <td>2122183</td>\n",
       "      <td>12495915</td>\n",
       "      <td>False</td>\n",
       "    </tr>\n",
       "    <tr>\n",
       "      <th>1</th>\n",
       "      <td>2</td>\n",
       "      <td>PUBG MOBILE - Traverse</td>\n",
       "      <td>37276732</td>\n",
       "      <td>500.0 M</td>\n",
       "      <td>4</td>\n",
       "      <td>1.8</td>\n",
       "      <td>3.6</td>\n",
       "      <td>GAME ACTION</td>\n",
       "      <td>28339753</td>\n",
       "      <td>2164478</td>\n",
       "      <td>1253185</td>\n",
       "      <td>809821</td>\n",
       "      <td>4709492</td>\n",
       "      <td>False</td>\n",
       "    </tr>\n",
       "    <tr>\n",
       "      <th>2</th>\n",
       "      <td>3</td>\n",
       "      <td>Mobile Legends: Bang Bang</td>\n",
       "      <td>26663595</td>\n",
       "      <td>100.0 M</td>\n",
       "      <td>4</td>\n",
       "      <td>1.5</td>\n",
       "      <td>3.2</td>\n",
       "      <td>GAME ACTION</td>\n",
       "      <td>18777988</td>\n",
       "      <td>1812094</td>\n",
       "      <td>1050600</td>\n",
       "      <td>713912</td>\n",
       "      <td>4308998</td>\n",
       "      <td>False</td>\n",
       "    </tr>\n",
       "    <tr>\n",
       "      <th>3</th>\n",
       "      <td>4</td>\n",
       "      <td>Brawl Stars</td>\n",
       "      <td>17971552</td>\n",
       "      <td>100.0 M</td>\n",
       "      <td>4</td>\n",
       "      <td>1.4</td>\n",
       "      <td>4.4</td>\n",
       "      <td>GAME ACTION</td>\n",
       "      <td>13018610</td>\n",
       "      <td>1552950</td>\n",
       "      <td>774012</td>\n",
       "      <td>406184</td>\n",
       "      <td>2219794</td>\n",
       "      <td>False</td>\n",
       "    </tr>\n",
       "    <tr>\n",
       "      <th>4</th>\n",
       "      <td>5</td>\n",
       "      <td>Sniper 3D: Fun Free Online FPS Shooting Game</td>\n",
       "      <td>14464235</td>\n",
       "      <td>500.0 M</td>\n",
       "      <td>4</td>\n",
       "      <td>0.8</td>\n",
       "      <td>1.5</td>\n",
       "      <td>GAME ACTION</td>\n",
       "      <td>9827328</td>\n",
       "      <td>2124154</td>\n",
       "      <td>1047741</td>\n",
       "      <td>380670</td>\n",
       "      <td>1084340</td>\n",
       "      <td>False</td>\n",
       "    </tr>\n",
       "  </tbody>\n",
       "</table>\n",
       "</div>"
      ],
      "text/plain": [
       "   rank                                         title  total ratings installs  \\\n",
       "0     1                Garena Free Fire- World Series       86273129  500.0 M   \n",
       "1     2                        PUBG MOBILE - Traverse       37276732  500.0 M   \n",
       "2     3                     Mobile Legends: Bang Bang       26663595  100.0 M   \n",
       "3     4                                   Brawl Stars       17971552  100.0 M   \n",
       "4     5  Sniper 3D: Fun Free Online FPS Shooting Game       14464235  500.0 M   \n",
       "\n",
       "   average rating  growth (30 days)  growth (60 days)     category  \\\n",
       "0               4               2.1               6.9  GAME ACTION   \n",
       "1               4               1.8               3.6  GAME ACTION   \n",
       "2               4               1.5               3.2  GAME ACTION   \n",
       "3               4               1.4               4.4  GAME ACTION   \n",
       "4               4               0.8               1.5  GAME ACTION   \n",
       "\n",
       "   5 star ratings  4 star ratings  3 star ratings  2 star ratings  \\\n",
       "0        63546766         4949507         3158756         2122183   \n",
       "1        28339753         2164478         1253185          809821   \n",
       "2        18777988         1812094         1050600          713912   \n",
       "3        13018610         1552950          774012          406184   \n",
       "4         9827328         2124154         1047741          380670   \n",
       "\n",
       "   1 star ratings   paid  \n",
       "0        12495915  False  \n",
       "1         4709492  False  \n",
       "2         4308998  False  \n",
       "3         2219794  False  \n",
       "4         1084340  False  "
      ]
     },
     "execution_count": 19,
     "metadata": {},
     "output_type": "execute_result"
    }
   ],
   "source": [
    "df.head(n=5)"
   ]
  },
  {
   "cell_type": "code",
   "execution_count": 20,
   "metadata": {},
   "outputs": [
    {
     "data": {
      "text/html": [
       "<div>\n",
       "<style scoped>\n",
       "    .dataframe tbody tr th:only-of-type {\n",
       "        vertical-align: middle;\n",
       "    }\n",
       "\n",
       "    .dataframe tbody tr th {\n",
       "        vertical-align: top;\n",
       "    }\n",
       "\n",
       "    .dataframe thead th {\n",
       "        text-align: right;\n",
       "    }\n",
       "</style>\n",
       "<table border=\"1\" class=\"dataframe\">\n",
       "  <thead>\n",
       "    <tr style=\"text-align: right;\">\n",
       "      <th></th>\n",
       "      <th>rank</th>\n",
       "      <th>total ratings</th>\n",
       "      <th>average rating</th>\n",
       "      <th>growth (30 days)</th>\n",
       "      <th>growth (60 days)</th>\n",
       "      <th>5 star ratings</th>\n",
       "      <th>4 star ratings</th>\n",
       "      <th>3 star ratings</th>\n",
       "      <th>2 star ratings</th>\n",
       "      <th>1 star ratings</th>\n",
       "    </tr>\n",
       "  </thead>\n",
       "  <tbody>\n",
       "    <tr>\n",
       "      <th>count</th>\n",
       "      <td>1730.000000</td>\n",
       "      <td>1.730000e+03</td>\n",
       "      <td>1730.000000</td>\n",
       "      <td>1730.000000</td>\n",
       "      <td>1730.000000</td>\n",
       "      <td>1.730000e+03</td>\n",
       "      <td>1.730000e+03</td>\n",
       "      <td>1.730000e+03</td>\n",
       "      <td>1.730000e+03</td>\n",
       "      <td>1.730000e+03</td>\n",
       "    </tr>\n",
       "    <tr>\n",
       "      <th>mean</th>\n",
       "      <td>50.386705</td>\n",
       "      <td>1.064332e+06</td>\n",
       "      <td>3.908092</td>\n",
       "      <td>321.735896</td>\n",
       "      <td>122.554971</td>\n",
       "      <td>7.622315e+05</td>\n",
       "      <td>1.164366e+05</td>\n",
       "      <td>5.706307e+04</td>\n",
       "      <td>2.710336e+04</td>\n",
       "      <td>1.014950e+05</td>\n",
       "    </tr>\n",
       "    <tr>\n",
       "      <th>std</th>\n",
       "      <td>28.936742</td>\n",
       "      <td>3.429250e+06</td>\n",
       "      <td>0.290973</td>\n",
       "      <td>6018.914507</td>\n",
       "      <td>2253.891703</td>\n",
       "      <td>2.538658e+06</td>\n",
       "      <td>3.021631e+05</td>\n",
       "      <td>1.495314e+05</td>\n",
       "      <td>8.154542e+04</td>\n",
       "      <td>4.083745e+05</td>\n",
       "    </tr>\n",
       "    <tr>\n",
       "      <th>min</th>\n",
       "      <td>1.000000</td>\n",
       "      <td>3.299300e+04</td>\n",
       "      <td>2.000000</td>\n",
       "      <td>0.000000</td>\n",
       "      <td>0.000000</td>\n",
       "      <td>1.397500e+04</td>\n",
       "      <td>2.451000e+03</td>\n",
       "      <td>7.180000e+02</td>\n",
       "      <td>2.660000e+02</td>\n",
       "      <td>5.450000e+02</td>\n",
       "    </tr>\n",
       "    <tr>\n",
       "      <th>25%</th>\n",
       "      <td>25.000000</td>\n",
       "      <td>1.759992e+05</td>\n",
       "      <td>4.000000</td>\n",
       "      <td>0.100000</td>\n",
       "      <td>0.200000</td>\n",
       "      <td>1.277300e+05</td>\n",
       "      <td>2.064300e+04</td>\n",
       "      <td>9.652500e+03</td>\n",
       "      <td>4.262250e+03</td>\n",
       "      <td>1.281200e+04</td>\n",
       "    </tr>\n",
       "    <tr>\n",
       "      <th>50%</th>\n",
       "      <td>50.000000</td>\n",
       "      <td>4.286065e+05</td>\n",
       "      <td>4.000000</td>\n",
       "      <td>0.500000</td>\n",
       "      <td>1.000000</td>\n",
       "      <td>2.964340e+05</td>\n",
       "      <td>5.098050e+04</td>\n",
       "      <td>2.507800e+04</td>\n",
       "      <td>1.067550e+04</td>\n",
       "      <td>3.368600e+04</td>\n",
       "    </tr>\n",
       "    <tr>\n",
       "      <th>75%</th>\n",
       "      <td>75.000000</td>\n",
       "      <td>8.837970e+05</td>\n",
       "      <td>4.000000</td>\n",
       "      <td>1.700000</td>\n",
       "      <td>3.300000</td>\n",
       "      <td>6.198358e+05</td>\n",
       "      <td>1.018140e+05</td>\n",
       "      <td>5.229500e+04</td>\n",
       "      <td>2.322875e+04</td>\n",
       "      <td>8.015725e+04</td>\n",
       "    </tr>\n",
       "    <tr>\n",
       "      <th>max</th>\n",
       "      <td>100.000000</td>\n",
       "      <td>8.627313e+07</td>\n",
       "      <td>4.000000</td>\n",
       "      <td>227105.700000</td>\n",
       "      <td>69441.400000</td>\n",
       "      <td>6.354677e+07</td>\n",
       "      <td>5.404966e+06</td>\n",
       "      <td>3.158756e+06</td>\n",
       "      <td>2.122183e+06</td>\n",
       "      <td>1.249592e+07</td>\n",
       "    </tr>\n",
       "  </tbody>\n",
       "</table>\n",
       "</div>"
      ],
      "text/plain": [
       "              rank  total ratings  average rating  growth (30 days)  \\\n",
       "count  1730.000000   1.730000e+03     1730.000000       1730.000000   \n",
       "mean     50.386705   1.064332e+06        3.908092        321.735896   \n",
       "std      28.936742   3.429250e+06        0.290973       6018.914507   \n",
       "min       1.000000   3.299300e+04        2.000000          0.000000   \n",
       "25%      25.000000   1.759992e+05        4.000000          0.100000   \n",
       "50%      50.000000   4.286065e+05        4.000000          0.500000   \n",
       "75%      75.000000   8.837970e+05        4.000000          1.700000   \n",
       "max     100.000000   8.627313e+07        4.000000     227105.700000   \n",
       "\n",
       "       growth (60 days)  5 star ratings  4 star ratings  3 star ratings  \\\n",
       "count       1730.000000    1.730000e+03    1.730000e+03    1.730000e+03   \n",
       "mean         122.554971    7.622315e+05    1.164366e+05    5.706307e+04   \n",
       "std         2253.891703    2.538658e+06    3.021631e+05    1.495314e+05   \n",
       "min            0.000000    1.397500e+04    2.451000e+03    7.180000e+02   \n",
       "25%            0.200000    1.277300e+05    2.064300e+04    9.652500e+03   \n",
       "50%            1.000000    2.964340e+05    5.098050e+04    2.507800e+04   \n",
       "75%            3.300000    6.198358e+05    1.018140e+05    5.229500e+04   \n",
       "max        69441.400000    6.354677e+07    5.404966e+06    3.158756e+06   \n",
       "\n",
       "       2 star ratings  1 star ratings  \n",
       "count    1.730000e+03    1.730000e+03  \n",
       "mean     2.710336e+04    1.014950e+05  \n",
       "std      8.154542e+04    4.083745e+05  \n",
       "min      2.660000e+02    5.450000e+02  \n",
       "25%      4.262250e+03    1.281200e+04  \n",
       "50%      1.067550e+04    3.368600e+04  \n",
       "75%      2.322875e+04    8.015725e+04  \n",
       "max      2.122183e+06    1.249592e+07  "
      ]
     },
     "execution_count": 20,
     "metadata": {},
     "output_type": "execute_result"
    }
   ],
   "source": [
    "df.describe()"
   ]
  },
  {
   "cell_type": "markdown",
   "metadata": {},
   "source": [
    "## Grouping"
   ]
  },
  {
   "cell_type": "code",
   "execution_count": 21,
   "metadata": {},
   "outputs": [
    {
     "data": {
      "text/plain": [
       "category\n",
       "GAME ACTION          4.011344e+06\n",
       "GAME ADVENTURE       8.935617e+05\n",
       "GAME ARCADE          1.793780e+06\n",
       "GAME BOARD           4.457431e+05\n",
       "GAME CARD            3.326041e+05\n",
       "GAME CASINO          3.619031e+05\n",
       "GAME CASUAL          2.470866e+06\n",
       "GAME EDUCATIONAL     1.529804e+05\n",
       "GAME MUSIC           2.163020e+05\n",
       "GAME PUZZLE          9.466929e+05\n",
       "GAME RACING          1.139027e+06\n",
       "GAME ROLE PLAYING    7.087648e+05\n",
       "GAME SIMULATION      9.341417e+05\n",
       "GAME SPORTS          1.353829e+06\n",
       "GAME STRATEGY        1.856570e+06\n",
       "GAME TRIVIA          2.982217e+05\n",
       "GAME WORD            3.943603e+05\n",
       "Name: total ratings, dtype: float64"
      ]
     },
     "execution_count": 21,
     "metadata": {},
     "output_type": "execute_result"
    }
   ],
   "source": [
    "total_ratings_by_cateogry = df.groupby('category')['total ratings'].mean()\n",
    "total_ratings_by_cateogry \n"
   ]
  },
  {
   "cell_type": "markdown",
   "metadata": {},
   "source": [
    "N.B. Think of groupby() splits the dataset data into buckets by 'category', and then splitting\n",
    "    the records inside  each category bucket by the 'total ratings'."
   ]
  },
  {
   "cell_type": "markdown",
   "metadata": {},
   "source": [
    "### Total Ratings grouped by Category"
   ]
  },
  {
   "cell_type": "code",
   "execution_count": 22,
   "metadata": {},
   "outputs": [
    {
     "data": {
      "application/vnd.plotly.v1+json": {
       "config": {
        "plotlyServerURL": "https://plot.ly"
       },
       "data": [
        {
         "alignmentgroup": "True",
         "hovertemplate": "category=%{x}<br>Ratings=%{y}<extra></extra>",
         "legendgroup": "",
         "marker": {
          "color": "#636efa",
          "pattern": {
           "shape": ""
          }
         },
         "name": "",
         "offsetgroup": "",
         "orientation": "v",
         "showlegend": false,
         "textposition": "auto",
         "type": "bar",
         "x": [
          "GAME ACTION",
          "GAME ADVENTURE",
          "GAME ARCADE",
          "GAME BOARD",
          "GAME CARD",
          "GAME CASINO",
          "GAME CASUAL",
          "GAME EDUCATIONAL",
          "GAME MUSIC",
          "GAME PUZZLE",
          "GAME RACING",
          "GAME ROLE PLAYING",
          "GAME SIMULATION",
          "GAME SPORTS",
          "GAME STRATEGY",
          "GAME TRIVIA",
          "GAME WORD"
         ],
         "xaxis": "x",
         "y": [
          4011343.6,
          893561.74,
          1793779.91,
          445743.07,
          332604.09523809527,
          361903.09,
          2470866.04,
          152980.35,
          216302.02,
          946692.92,
          1139026.8,
          708764.83,
          934141.65,
          1353828.82,
          1856569.75,
          298221.72,
          394360.32692307694
         ],
         "yaxis": "y"
        }
       ],
       "layout": {
        "barmode": "relative",
        "legend": {
         "tracegroupgap": 0
        },
        "margin": {
         "t": 60
        },
        "template": {
         "data": {
          "bar": [
           {
            "error_x": {
             "color": "#2a3f5f"
            },
            "error_y": {
             "color": "#2a3f5f"
            },
            "marker": {
             "line": {
              "color": "#E5ECF6",
              "width": 0.5
             },
             "pattern": {
              "fillmode": "overlay",
              "size": 10,
              "solidity": 0.2
             }
            },
            "type": "bar"
           }
          ],
          "barpolar": [
           {
            "marker": {
             "line": {
              "color": "#E5ECF6",
              "width": 0.5
             },
             "pattern": {
              "fillmode": "overlay",
              "size": 10,
              "solidity": 0.2
             }
            },
            "type": "barpolar"
           }
          ],
          "carpet": [
           {
            "aaxis": {
             "endlinecolor": "#2a3f5f",
             "gridcolor": "white",
             "linecolor": "white",
             "minorgridcolor": "white",
             "startlinecolor": "#2a3f5f"
            },
            "baxis": {
             "endlinecolor": "#2a3f5f",
             "gridcolor": "white",
             "linecolor": "white",
             "minorgridcolor": "white",
             "startlinecolor": "#2a3f5f"
            },
            "type": "carpet"
           }
          ],
          "choropleth": [
           {
            "colorbar": {
             "outlinewidth": 0,
             "ticks": ""
            },
            "type": "choropleth"
           }
          ],
          "contour": [
           {
            "colorbar": {
             "outlinewidth": 0,
             "ticks": ""
            },
            "colorscale": [
             [
              0,
              "#0d0887"
             ],
             [
              0.1111111111111111,
              "#46039f"
             ],
             [
              0.2222222222222222,
              "#7201a8"
             ],
             [
              0.3333333333333333,
              "#9c179e"
             ],
             [
              0.4444444444444444,
              "#bd3786"
             ],
             [
              0.5555555555555556,
              "#d8576b"
             ],
             [
              0.6666666666666666,
              "#ed7953"
             ],
             [
              0.7777777777777778,
              "#fb9f3a"
             ],
             [
              0.8888888888888888,
              "#fdca26"
             ],
             [
              1,
              "#f0f921"
             ]
            ],
            "type": "contour"
           }
          ],
          "contourcarpet": [
           {
            "colorbar": {
             "outlinewidth": 0,
             "ticks": ""
            },
            "type": "contourcarpet"
           }
          ],
          "heatmap": [
           {
            "colorbar": {
             "outlinewidth": 0,
             "ticks": ""
            },
            "colorscale": [
             [
              0,
              "#0d0887"
             ],
             [
              0.1111111111111111,
              "#46039f"
             ],
             [
              0.2222222222222222,
              "#7201a8"
             ],
             [
              0.3333333333333333,
              "#9c179e"
             ],
             [
              0.4444444444444444,
              "#bd3786"
             ],
             [
              0.5555555555555556,
              "#d8576b"
             ],
             [
              0.6666666666666666,
              "#ed7953"
             ],
             [
              0.7777777777777778,
              "#fb9f3a"
             ],
             [
              0.8888888888888888,
              "#fdca26"
             ],
             [
              1,
              "#f0f921"
             ]
            ],
            "type": "heatmap"
           }
          ],
          "heatmapgl": [
           {
            "colorbar": {
             "outlinewidth": 0,
             "ticks": ""
            },
            "colorscale": [
             [
              0,
              "#0d0887"
             ],
             [
              0.1111111111111111,
              "#46039f"
             ],
             [
              0.2222222222222222,
              "#7201a8"
             ],
             [
              0.3333333333333333,
              "#9c179e"
             ],
             [
              0.4444444444444444,
              "#bd3786"
             ],
             [
              0.5555555555555556,
              "#d8576b"
             ],
             [
              0.6666666666666666,
              "#ed7953"
             ],
             [
              0.7777777777777778,
              "#fb9f3a"
             ],
             [
              0.8888888888888888,
              "#fdca26"
             ],
             [
              1,
              "#f0f921"
             ]
            ],
            "type": "heatmapgl"
           }
          ],
          "histogram": [
           {
            "marker": {
             "pattern": {
              "fillmode": "overlay",
              "size": 10,
              "solidity": 0.2
             }
            },
            "type": "histogram"
           }
          ],
          "histogram2d": [
           {
            "colorbar": {
             "outlinewidth": 0,
             "ticks": ""
            },
            "colorscale": [
             [
              0,
              "#0d0887"
             ],
             [
              0.1111111111111111,
              "#46039f"
             ],
             [
              0.2222222222222222,
              "#7201a8"
             ],
             [
              0.3333333333333333,
              "#9c179e"
             ],
             [
              0.4444444444444444,
              "#bd3786"
             ],
             [
              0.5555555555555556,
              "#d8576b"
             ],
             [
              0.6666666666666666,
              "#ed7953"
             ],
             [
              0.7777777777777778,
              "#fb9f3a"
             ],
             [
              0.8888888888888888,
              "#fdca26"
             ],
             [
              1,
              "#f0f921"
             ]
            ],
            "type": "histogram2d"
           }
          ],
          "histogram2dcontour": [
           {
            "colorbar": {
             "outlinewidth": 0,
             "ticks": ""
            },
            "colorscale": [
             [
              0,
              "#0d0887"
             ],
             [
              0.1111111111111111,
              "#46039f"
             ],
             [
              0.2222222222222222,
              "#7201a8"
             ],
             [
              0.3333333333333333,
              "#9c179e"
             ],
             [
              0.4444444444444444,
              "#bd3786"
             ],
             [
              0.5555555555555556,
              "#d8576b"
             ],
             [
              0.6666666666666666,
              "#ed7953"
             ],
             [
              0.7777777777777778,
              "#fb9f3a"
             ],
             [
              0.8888888888888888,
              "#fdca26"
             ],
             [
              1,
              "#f0f921"
             ]
            ],
            "type": "histogram2dcontour"
           }
          ],
          "mesh3d": [
           {
            "colorbar": {
             "outlinewidth": 0,
             "ticks": ""
            },
            "type": "mesh3d"
           }
          ],
          "parcoords": [
           {
            "line": {
             "colorbar": {
              "outlinewidth": 0,
              "ticks": ""
             }
            },
            "type": "parcoords"
           }
          ],
          "pie": [
           {
            "automargin": true,
            "type": "pie"
           }
          ],
          "scatter": [
           {
            "marker": {
             "colorbar": {
              "outlinewidth": 0,
              "ticks": ""
             }
            },
            "type": "scatter"
           }
          ],
          "scatter3d": [
           {
            "line": {
             "colorbar": {
              "outlinewidth": 0,
              "ticks": ""
             }
            },
            "marker": {
             "colorbar": {
              "outlinewidth": 0,
              "ticks": ""
             }
            },
            "type": "scatter3d"
           }
          ],
          "scattercarpet": [
           {
            "marker": {
             "colorbar": {
              "outlinewidth": 0,
              "ticks": ""
             }
            },
            "type": "scattercarpet"
           }
          ],
          "scattergeo": [
           {
            "marker": {
             "colorbar": {
              "outlinewidth": 0,
              "ticks": ""
             }
            },
            "type": "scattergeo"
           }
          ],
          "scattergl": [
           {
            "marker": {
             "colorbar": {
              "outlinewidth": 0,
              "ticks": ""
             }
            },
            "type": "scattergl"
           }
          ],
          "scattermapbox": [
           {
            "marker": {
             "colorbar": {
              "outlinewidth": 0,
              "ticks": ""
             }
            },
            "type": "scattermapbox"
           }
          ],
          "scatterpolar": [
           {
            "marker": {
             "colorbar": {
              "outlinewidth": 0,
              "ticks": ""
             }
            },
            "type": "scatterpolar"
           }
          ],
          "scatterpolargl": [
           {
            "marker": {
             "colorbar": {
              "outlinewidth": 0,
              "ticks": ""
             }
            },
            "type": "scatterpolargl"
           }
          ],
          "scatterternary": [
           {
            "marker": {
             "colorbar": {
              "outlinewidth": 0,
              "ticks": ""
             }
            },
            "type": "scatterternary"
           }
          ],
          "surface": [
           {
            "colorbar": {
             "outlinewidth": 0,
             "ticks": ""
            },
            "colorscale": [
             [
              0,
              "#0d0887"
             ],
             [
              0.1111111111111111,
              "#46039f"
             ],
             [
              0.2222222222222222,
              "#7201a8"
             ],
             [
              0.3333333333333333,
              "#9c179e"
             ],
             [
              0.4444444444444444,
              "#bd3786"
             ],
             [
              0.5555555555555556,
              "#d8576b"
             ],
             [
              0.6666666666666666,
              "#ed7953"
             ],
             [
              0.7777777777777778,
              "#fb9f3a"
             ],
             [
              0.8888888888888888,
              "#fdca26"
             ],
             [
              1,
              "#f0f921"
             ]
            ],
            "type": "surface"
           }
          ],
          "table": [
           {
            "cells": {
             "fill": {
              "color": "#EBF0F8"
             },
             "line": {
              "color": "white"
             }
            },
            "header": {
             "fill": {
              "color": "#C8D4E3"
             },
             "line": {
              "color": "white"
             }
            },
            "type": "table"
           }
          ]
         },
         "layout": {
          "annotationdefaults": {
           "arrowcolor": "#2a3f5f",
           "arrowhead": 0,
           "arrowwidth": 1
          },
          "autotypenumbers": "strict",
          "coloraxis": {
           "colorbar": {
            "outlinewidth": 0,
            "ticks": ""
           }
          },
          "colorscale": {
           "diverging": [
            [
             0,
             "#8e0152"
            ],
            [
             0.1,
             "#c51b7d"
            ],
            [
             0.2,
             "#de77ae"
            ],
            [
             0.3,
             "#f1b6da"
            ],
            [
             0.4,
             "#fde0ef"
            ],
            [
             0.5,
             "#f7f7f7"
            ],
            [
             0.6,
             "#e6f5d0"
            ],
            [
             0.7,
             "#b8e186"
            ],
            [
             0.8,
             "#7fbc41"
            ],
            [
             0.9,
             "#4d9221"
            ],
            [
             1,
             "#276419"
            ]
           ],
           "sequential": [
            [
             0,
             "#0d0887"
            ],
            [
             0.1111111111111111,
             "#46039f"
            ],
            [
             0.2222222222222222,
             "#7201a8"
            ],
            [
             0.3333333333333333,
             "#9c179e"
            ],
            [
             0.4444444444444444,
             "#bd3786"
            ],
            [
             0.5555555555555556,
             "#d8576b"
            ],
            [
             0.6666666666666666,
             "#ed7953"
            ],
            [
             0.7777777777777778,
             "#fb9f3a"
            ],
            [
             0.8888888888888888,
             "#fdca26"
            ],
            [
             1,
             "#f0f921"
            ]
           ],
           "sequentialminus": [
            [
             0,
             "#0d0887"
            ],
            [
             0.1111111111111111,
             "#46039f"
            ],
            [
             0.2222222222222222,
             "#7201a8"
            ],
            [
             0.3333333333333333,
             "#9c179e"
            ],
            [
             0.4444444444444444,
             "#bd3786"
            ],
            [
             0.5555555555555556,
             "#d8576b"
            ],
            [
             0.6666666666666666,
             "#ed7953"
            ],
            [
             0.7777777777777778,
             "#fb9f3a"
            ],
            [
             0.8888888888888888,
             "#fdca26"
            ],
            [
             1,
             "#f0f921"
            ]
           ]
          },
          "colorway": [
           "#636efa",
           "#EF553B",
           "#00cc96",
           "#ab63fa",
           "#FFA15A",
           "#19d3f3",
           "#FF6692",
           "#B6E880",
           "#FF97FF",
           "#FECB52"
          ],
          "font": {
           "color": "#2a3f5f"
          },
          "geo": {
           "bgcolor": "white",
           "lakecolor": "white",
           "landcolor": "#E5ECF6",
           "showlakes": true,
           "showland": true,
           "subunitcolor": "white"
          },
          "hoverlabel": {
           "align": "left"
          },
          "hovermode": "closest",
          "mapbox": {
           "style": "light"
          },
          "paper_bgcolor": "white",
          "plot_bgcolor": "#E5ECF6",
          "polar": {
           "angularaxis": {
            "gridcolor": "white",
            "linecolor": "white",
            "ticks": ""
           },
           "bgcolor": "#E5ECF6",
           "radialaxis": {
            "gridcolor": "white",
            "linecolor": "white",
            "ticks": ""
           }
          },
          "scene": {
           "xaxis": {
            "backgroundcolor": "#E5ECF6",
            "gridcolor": "white",
            "gridwidth": 2,
            "linecolor": "white",
            "showbackground": true,
            "ticks": "",
            "zerolinecolor": "white"
           },
           "yaxis": {
            "backgroundcolor": "#E5ECF6",
            "gridcolor": "white",
            "gridwidth": 2,
            "linecolor": "white",
            "showbackground": true,
            "ticks": "",
            "zerolinecolor": "white"
           },
           "zaxis": {
            "backgroundcolor": "#E5ECF6",
            "gridcolor": "white",
            "gridwidth": 2,
            "linecolor": "white",
            "showbackground": true,
            "ticks": "",
            "zerolinecolor": "white"
           }
          },
          "shapedefaults": {
           "line": {
            "color": "#2a3f5f"
           }
          },
          "ternary": {
           "aaxis": {
            "gridcolor": "white",
            "linecolor": "white",
            "ticks": ""
           },
           "baxis": {
            "gridcolor": "white",
            "linecolor": "white",
            "ticks": ""
           },
           "bgcolor": "#E5ECF6",
           "caxis": {
            "gridcolor": "white",
            "linecolor": "white",
            "ticks": ""
           }
          },
          "title": {
           "x": 0.05
          },
          "xaxis": {
           "automargin": true,
           "gridcolor": "white",
           "linecolor": "white",
           "ticks": "",
           "title": {
            "standoff": 15
           },
           "zerolinecolor": "white",
           "zerolinewidth": 2
          },
          "yaxis": {
           "automargin": true,
           "gridcolor": "white",
           "linecolor": "white",
           "ticks": "",
           "title": {
            "standoff": 15
           },
           "zerolinecolor": "white",
           "zerolinewidth": 2
          }
         }
        },
        "xaxis": {
         "anchor": "y",
         "categoryorder": "total descending",
         "domain": [
          0,
          1
         ],
         "title": {
          "text": "category"
         }
        },
        "yaxis": {
         "anchor": "x",
         "domain": [
          0,
          1
         ],
         "title": {
          "text": "Ratings"
         }
        }
       }
      }
     },
     "metadata": {},
     "output_type": "display_data"
    }
   ],
   "source": [
    "fig = px.bar(total_ratings_by_cateogry, x=total_ratings_by_cateogry.index, y=total_ratings_by_cateogry.values,\n",
    "             labels={'y': 'Ratings'})\n",
    "fig.update_layout(xaxis={'categoryorder':'total descending'})\n",
    "fig.show()"
   ]
  },
  {
   "cell_type": "code",
   "execution_count": 23,
   "metadata": {},
   "outputs": [
    {
     "data": {
      "text/plain": [
       "0       500.0 M\n",
       "1       500.0 M\n",
       "2       100.0 M\n",
       "3       100.0 M\n",
       "4       500.0 M\n",
       "         ...   \n",
       "1725      1.0 M\n",
       "1726      1.0 M\n",
       "1727     10.0 M\n",
       "1728      5.0 M\n",
       "1729     10.0 M\n",
       "Name: installs, Length: 1730, dtype: object"
      ]
     },
     "execution_count": 23,
     "metadata": {},
     "output_type": "execute_result"
    }
   ],
   "source": [
    "df['installs']"
   ]
  },
  {
   "cell_type": "markdown",
   "metadata": {},
   "source": [
    "need to convert this column to a numerical type."
   ]
  },
  {
   "cell_type": "code",
   "execution_count": 24,
   "metadata": {},
   "outputs": [],
   "source": [
    "def numbers(df):\n",
    "    if df.split(\".\")[1].split(\" \")[1] == \"M\":\n",
    "        return int(df.split(\".\")[0])\n",
    "    else:\n",
    "        return int(df.split(\".\")[0])/1000\n",
    "df[\"installs\"] = df.installs.apply(numbers)\n",
    "df = df.rename(columns={'installs': 'installs_in_million'})"
   ]
  },
  {
   "cell_type": "code",
   "execution_count": 25,
   "metadata": {},
   "outputs": [
    {
     "data": {
      "text/plain": [
       "0    500.0\n",
       "1    500.0\n",
       "2    100.0\n",
       "3    100.0\n",
       "4    500.0\n",
       "Name: installs_in_million, dtype: float64"
      ]
     },
     "execution_count": 25,
     "metadata": {},
     "output_type": "execute_result"
    }
   ],
   "source": [
    "df[\"installs_in_million\"].head()"
   ]
  },
  {
   "cell_type": "markdown",
   "metadata": {},
   "source": [
    "it's now a type float."
   ]
  },
  {
   "cell_type": "markdown",
   "metadata": {},
   "source": [
    "### Installs in Millions grouped by Category"
   ]
  },
  {
   "cell_type": "code",
   "execution_count": null,
   "metadata": {},
   "outputs": [],
   "source": [
    "intalls_in_million_by_category = df.groupby('category')['installs_in_million'].mean()\n",
    "intalls_in_million_by_category"
   ]
  },
  {
   "cell_type": "code",
   "execution_count": 35,
   "metadata": {},
   "outputs": [
    {
     "data": {
      "application/vnd.plotly.v1+json": {
       "config": {
        "plotlyServerURL": "https://plot.ly"
       },
       "data": [
        {
         "alignmentgroup": "True",
         "hovertemplate": "category=%{x}<br>Total Installs in Million=%{y}<extra></extra>",
         "legendgroup": "",
         "marker": {
          "color": "#636efa",
          "pattern": {
           "shape": ""
          }
         },
         "name": "",
         "offsetgroup": "",
         "orientation": "v",
         "showlegend": false,
         "textposition": "auto",
         "type": "bar",
         "x": [
          "GAME ACTION",
          "GAME ADVENTURE",
          "GAME ARCADE",
          "GAME BOARD",
          "GAME CARD",
          "GAME CASINO",
          "GAME CASUAL",
          "GAME EDUCATIONAL",
          "GAME MUSIC",
          "GAME PUZZLE",
          "GAME RACING",
          "GAME ROLE PLAYING",
          "GAME SIMULATION",
          "GAME SPORTS",
          "GAME STRATEGY",
          "GAME TRIVIA",
          "GAME WORD"
         ],
         "xaxis": "x",
         "y": [
          74.1,
          18.03,
          71.61,
          21.23,
          12.484126984126984,
          7.715,
          63.97,
          17.895,
          12.487,
          36.21,
          46.75,
          14.08,
          27.71,
          33.61,
          23.91,
          6.901,
          12.317307692307692
         ],
         "yaxis": "y"
        }
       ],
       "layout": {
        "barmode": "relative",
        "legend": {
         "tracegroupgap": 0
        },
        "margin": {
         "t": 60
        },
        "template": {
         "data": {
          "bar": [
           {
            "error_x": {
             "color": "#2a3f5f"
            },
            "error_y": {
             "color": "#2a3f5f"
            },
            "marker": {
             "line": {
              "color": "#E5ECF6",
              "width": 0.5
             },
             "pattern": {
              "fillmode": "overlay",
              "size": 10,
              "solidity": 0.2
             }
            },
            "type": "bar"
           }
          ],
          "barpolar": [
           {
            "marker": {
             "line": {
              "color": "#E5ECF6",
              "width": 0.5
             },
             "pattern": {
              "fillmode": "overlay",
              "size": 10,
              "solidity": 0.2
             }
            },
            "type": "barpolar"
           }
          ],
          "carpet": [
           {
            "aaxis": {
             "endlinecolor": "#2a3f5f",
             "gridcolor": "white",
             "linecolor": "white",
             "minorgridcolor": "white",
             "startlinecolor": "#2a3f5f"
            },
            "baxis": {
             "endlinecolor": "#2a3f5f",
             "gridcolor": "white",
             "linecolor": "white",
             "minorgridcolor": "white",
             "startlinecolor": "#2a3f5f"
            },
            "type": "carpet"
           }
          ],
          "choropleth": [
           {
            "colorbar": {
             "outlinewidth": 0,
             "ticks": ""
            },
            "type": "choropleth"
           }
          ],
          "contour": [
           {
            "colorbar": {
             "outlinewidth": 0,
             "ticks": ""
            },
            "colorscale": [
             [
              0,
              "#0d0887"
             ],
             [
              0.1111111111111111,
              "#46039f"
             ],
             [
              0.2222222222222222,
              "#7201a8"
             ],
             [
              0.3333333333333333,
              "#9c179e"
             ],
             [
              0.4444444444444444,
              "#bd3786"
             ],
             [
              0.5555555555555556,
              "#d8576b"
             ],
             [
              0.6666666666666666,
              "#ed7953"
             ],
             [
              0.7777777777777778,
              "#fb9f3a"
             ],
             [
              0.8888888888888888,
              "#fdca26"
             ],
             [
              1,
              "#f0f921"
             ]
            ],
            "type": "contour"
           }
          ],
          "contourcarpet": [
           {
            "colorbar": {
             "outlinewidth": 0,
             "ticks": ""
            },
            "type": "contourcarpet"
           }
          ],
          "heatmap": [
           {
            "colorbar": {
             "outlinewidth": 0,
             "ticks": ""
            },
            "colorscale": [
             [
              0,
              "#0d0887"
             ],
             [
              0.1111111111111111,
              "#46039f"
             ],
             [
              0.2222222222222222,
              "#7201a8"
             ],
             [
              0.3333333333333333,
              "#9c179e"
             ],
             [
              0.4444444444444444,
              "#bd3786"
             ],
             [
              0.5555555555555556,
              "#d8576b"
             ],
             [
              0.6666666666666666,
              "#ed7953"
             ],
             [
              0.7777777777777778,
              "#fb9f3a"
             ],
             [
              0.8888888888888888,
              "#fdca26"
             ],
             [
              1,
              "#f0f921"
             ]
            ],
            "type": "heatmap"
           }
          ],
          "heatmapgl": [
           {
            "colorbar": {
             "outlinewidth": 0,
             "ticks": ""
            },
            "colorscale": [
             [
              0,
              "#0d0887"
             ],
             [
              0.1111111111111111,
              "#46039f"
             ],
             [
              0.2222222222222222,
              "#7201a8"
             ],
             [
              0.3333333333333333,
              "#9c179e"
             ],
             [
              0.4444444444444444,
              "#bd3786"
             ],
             [
              0.5555555555555556,
              "#d8576b"
             ],
             [
              0.6666666666666666,
              "#ed7953"
             ],
             [
              0.7777777777777778,
              "#fb9f3a"
             ],
             [
              0.8888888888888888,
              "#fdca26"
             ],
             [
              1,
              "#f0f921"
             ]
            ],
            "type": "heatmapgl"
           }
          ],
          "histogram": [
           {
            "marker": {
             "pattern": {
              "fillmode": "overlay",
              "size": 10,
              "solidity": 0.2
             }
            },
            "type": "histogram"
           }
          ],
          "histogram2d": [
           {
            "colorbar": {
             "outlinewidth": 0,
             "ticks": ""
            },
            "colorscale": [
             [
              0,
              "#0d0887"
             ],
             [
              0.1111111111111111,
              "#46039f"
             ],
             [
              0.2222222222222222,
              "#7201a8"
             ],
             [
              0.3333333333333333,
              "#9c179e"
             ],
             [
              0.4444444444444444,
              "#bd3786"
             ],
             [
              0.5555555555555556,
              "#d8576b"
             ],
             [
              0.6666666666666666,
              "#ed7953"
             ],
             [
              0.7777777777777778,
              "#fb9f3a"
             ],
             [
              0.8888888888888888,
              "#fdca26"
             ],
             [
              1,
              "#f0f921"
             ]
            ],
            "type": "histogram2d"
           }
          ],
          "histogram2dcontour": [
           {
            "colorbar": {
             "outlinewidth": 0,
             "ticks": ""
            },
            "colorscale": [
             [
              0,
              "#0d0887"
             ],
             [
              0.1111111111111111,
              "#46039f"
             ],
             [
              0.2222222222222222,
              "#7201a8"
             ],
             [
              0.3333333333333333,
              "#9c179e"
             ],
             [
              0.4444444444444444,
              "#bd3786"
             ],
             [
              0.5555555555555556,
              "#d8576b"
             ],
             [
              0.6666666666666666,
              "#ed7953"
             ],
             [
              0.7777777777777778,
              "#fb9f3a"
             ],
             [
              0.8888888888888888,
              "#fdca26"
             ],
             [
              1,
              "#f0f921"
             ]
            ],
            "type": "histogram2dcontour"
           }
          ],
          "mesh3d": [
           {
            "colorbar": {
             "outlinewidth": 0,
             "ticks": ""
            },
            "type": "mesh3d"
           }
          ],
          "parcoords": [
           {
            "line": {
             "colorbar": {
              "outlinewidth": 0,
              "ticks": ""
             }
            },
            "type": "parcoords"
           }
          ],
          "pie": [
           {
            "automargin": true,
            "type": "pie"
           }
          ],
          "scatter": [
           {
            "marker": {
             "colorbar": {
              "outlinewidth": 0,
              "ticks": ""
             }
            },
            "type": "scatter"
           }
          ],
          "scatter3d": [
           {
            "line": {
             "colorbar": {
              "outlinewidth": 0,
              "ticks": ""
             }
            },
            "marker": {
             "colorbar": {
              "outlinewidth": 0,
              "ticks": ""
             }
            },
            "type": "scatter3d"
           }
          ],
          "scattercarpet": [
           {
            "marker": {
             "colorbar": {
              "outlinewidth": 0,
              "ticks": ""
             }
            },
            "type": "scattercarpet"
           }
          ],
          "scattergeo": [
           {
            "marker": {
             "colorbar": {
              "outlinewidth": 0,
              "ticks": ""
             }
            },
            "type": "scattergeo"
           }
          ],
          "scattergl": [
           {
            "marker": {
             "colorbar": {
              "outlinewidth": 0,
              "ticks": ""
             }
            },
            "type": "scattergl"
           }
          ],
          "scattermapbox": [
           {
            "marker": {
             "colorbar": {
              "outlinewidth": 0,
              "ticks": ""
             }
            },
            "type": "scattermapbox"
           }
          ],
          "scatterpolar": [
           {
            "marker": {
             "colorbar": {
              "outlinewidth": 0,
              "ticks": ""
             }
            },
            "type": "scatterpolar"
           }
          ],
          "scatterpolargl": [
           {
            "marker": {
             "colorbar": {
              "outlinewidth": 0,
              "ticks": ""
             }
            },
            "type": "scatterpolargl"
           }
          ],
          "scatterternary": [
           {
            "marker": {
             "colorbar": {
              "outlinewidth": 0,
              "ticks": ""
             }
            },
            "type": "scatterternary"
           }
          ],
          "surface": [
           {
            "colorbar": {
             "outlinewidth": 0,
             "ticks": ""
            },
            "colorscale": [
             [
              0,
              "#0d0887"
             ],
             [
              0.1111111111111111,
              "#46039f"
             ],
             [
              0.2222222222222222,
              "#7201a8"
             ],
             [
              0.3333333333333333,
              "#9c179e"
             ],
             [
              0.4444444444444444,
              "#bd3786"
             ],
             [
              0.5555555555555556,
              "#d8576b"
             ],
             [
              0.6666666666666666,
              "#ed7953"
             ],
             [
              0.7777777777777778,
              "#fb9f3a"
             ],
             [
              0.8888888888888888,
              "#fdca26"
             ],
             [
              1,
              "#f0f921"
             ]
            ],
            "type": "surface"
           }
          ],
          "table": [
           {
            "cells": {
             "fill": {
              "color": "#EBF0F8"
             },
             "line": {
              "color": "white"
             }
            },
            "header": {
             "fill": {
              "color": "#C8D4E3"
             },
             "line": {
              "color": "white"
             }
            },
            "type": "table"
           }
          ]
         },
         "layout": {
          "annotationdefaults": {
           "arrowcolor": "#2a3f5f",
           "arrowhead": 0,
           "arrowwidth": 1
          },
          "autotypenumbers": "strict",
          "coloraxis": {
           "colorbar": {
            "outlinewidth": 0,
            "ticks": ""
           }
          },
          "colorscale": {
           "diverging": [
            [
             0,
             "#8e0152"
            ],
            [
             0.1,
             "#c51b7d"
            ],
            [
             0.2,
             "#de77ae"
            ],
            [
             0.3,
             "#f1b6da"
            ],
            [
             0.4,
             "#fde0ef"
            ],
            [
             0.5,
             "#f7f7f7"
            ],
            [
             0.6,
             "#e6f5d0"
            ],
            [
             0.7,
             "#b8e186"
            ],
            [
             0.8,
             "#7fbc41"
            ],
            [
             0.9,
             "#4d9221"
            ],
            [
             1,
             "#276419"
            ]
           ],
           "sequential": [
            [
             0,
             "#0d0887"
            ],
            [
             0.1111111111111111,
             "#46039f"
            ],
            [
             0.2222222222222222,
             "#7201a8"
            ],
            [
             0.3333333333333333,
             "#9c179e"
            ],
            [
             0.4444444444444444,
             "#bd3786"
            ],
            [
             0.5555555555555556,
             "#d8576b"
            ],
            [
             0.6666666666666666,
             "#ed7953"
            ],
            [
             0.7777777777777778,
             "#fb9f3a"
            ],
            [
             0.8888888888888888,
             "#fdca26"
            ],
            [
             1,
             "#f0f921"
            ]
           ],
           "sequentialminus": [
            [
             0,
             "#0d0887"
            ],
            [
             0.1111111111111111,
             "#46039f"
            ],
            [
             0.2222222222222222,
             "#7201a8"
            ],
            [
             0.3333333333333333,
             "#9c179e"
            ],
            [
             0.4444444444444444,
             "#bd3786"
            ],
            [
             0.5555555555555556,
             "#d8576b"
            ],
            [
             0.6666666666666666,
             "#ed7953"
            ],
            [
             0.7777777777777778,
             "#fb9f3a"
            ],
            [
             0.8888888888888888,
             "#fdca26"
            ],
            [
             1,
             "#f0f921"
            ]
           ]
          },
          "colorway": [
           "#636efa",
           "#EF553B",
           "#00cc96",
           "#ab63fa",
           "#FFA15A",
           "#19d3f3",
           "#FF6692",
           "#B6E880",
           "#FF97FF",
           "#FECB52"
          ],
          "font": {
           "color": "#2a3f5f"
          },
          "geo": {
           "bgcolor": "white",
           "lakecolor": "white",
           "landcolor": "#E5ECF6",
           "showlakes": true,
           "showland": true,
           "subunitcolor": "white"
          },
          "hoverlabel": {
           "align": "left"
          },
          "hovermode": "closest",
          "mapbox": {
           "style": "light"
          },
          "paper_bgcolor": "white",
          "plot_bgcolor": "#E5ECF6",
          "polar": {
           "angularaxis": {
            "gridcolor": "white",
            "linecolor": "white",
            "ticks": ""
           },
           "bgcolor": "#E5ECF6",
           "radialaxis": {
            "gridcolor": "white",
            "linecolor": "white",
            "ticks": ""
           }
          },
          "scene": {
           "xaxis": {
            "backgroundcolor": "#E5ECF6",
            "gridcolor": "white",
            "gridwidth": 2,
            "linecolor": "white",
            "showbackground": true,
            "ticks": "",
            "zerolinecolor": "white"
           },
           "yaxis": {
            "backgroundcolor": "#E5ECF6",
            "gridcolor": "white",
            "gridwidth": 2,
            "linecolor": "white",
            "showbackground": true,
            "ticks": "",
            "zerolinecolor": "white"
           },
           "zaxis": {
            "backgroundcolor": "#E5ECF6",
            "gridcolor": "white",
            "gridwidth": 2,
            "linecolor": "white",
            "showbackground": true,
            "ticks": "",
            "zerolinecolor": "white"
           }
          },
          "shapedefaults": {
           "line": {
            "color": "#2a3f5f"
           }
          },
          "ternary": {
           "aaxis": {
            "gridcolor": "white",
            "linecolor": "white",
            "ticks": ""
           },
           "baxis": {
            "gridcolor": "white",
            "linecolor": "white",
            "ticks": ""
           },
           "bgcolor": "#E5ECF6",
           "caxis": {
            "gridcolor": "white",
            "linecolor": "white",
            "ticks": ""
           }
          },
          "title": {
           "x": 0.05
          },
          "xaxis": {
           "automargin": true,
           "gridcolor": "white",
           "linecolor": "white",
           "ticks": "",
           "title": {
            "standoff": 15
           },
           "zerolinecolor": "white",
           "zerolinewidth": 2
          },
          "yaxis": {
           "automargin": true,
           "gridcolor": "white",
           "linecolor": "white",
           "ticks": "",
           "title": {
            "standoff": 15
           },
           "zerolinecolor": "white",
           "zerolinewidth": 2
          }
         }
        },
        "xaxis": {
         "anchor": "y",
         "categoryorder": "total descending",
         "domain": [
          0,
          1
         ],
         "title": {
          "text": "category"
         }
        },
        "yaxis": {
         "anchor": "x",
         "domain": [
          0,
          1
         ],
         "title": {
          "text": "Total Installs in Million"
         }
        }
       }
      }
     },
     "metadata": {},
     "output_type": "display_data"
    }
   ],
   "source": [
    "fig = px.bar(intalls_in_million_by_category, x=intalls_in_million_by_category.index, y=intalls_in_million_by_category.values,\n",
    "            labels={\"y\":\"Total Installs in Million\"})\n",
    "fig.update_layout(xaxis={\"categoryorder\":\"total descending\"})\n",
    "fig.show()\n"
   ]
  },
  {
   "cell_type": "markdown",
   "metadata": {},
   "source": [
    "## Growth (30 days) grouped by Category"
   ]
  },
  {
   "cell_type": "code",
   "execution_count": 36,
   "metadata": {},
   "outputs": [
    {
     "data": {
      "text/html": [
       "<div>\n",
       "<style scoped>\n",
       "    .dataframe tbody tr th:only-of-type {\n",
       "        vertical-align: middle;\n",
       "    }\n",
       "\n",
       "    .dataframe tbody tr th {\n",
       "        vertical-align: top;\n",
       "    }\n",
       "\n",
       "    .dataframe thead th {\n",
       "        text-align: right;\n",
       "    }\n",
       "</style>\n",
       "<table border=\"1\" class=\"dataframe\">\n",
       "  <thead>\n",
       "    <tr style=\"text-align: right;\">\n",
       "      <th></th>\n",
       "      <th>rank</th>\n",
       "      <th>title</th>\n",
       "      <th>total ratings</th>\n",
       "      <th>installs_in_million</th>\n",
       "      <th>average rating</th>\n",
       "      <th>growth (30 days)</th>\n",
       "      <th>growth (60 days)</th>\n",
       "      <th>category</th>\n",
       "      <th>5 star ratings</th>\n",
       "      <th>4 star ratings</th>\n",
       "      <th>3 star ratings</th>\n",
       "      <th>2 star ratings</th>\n",
       "      <th>1 star ratings</th>\n",
       "      <th>paid</th>\n",
       "    </tr>\n",
       "  </thead>\n",
       "  <tbody>\n",
       "    <tr>\n",
       "      <th>1</th>\n",
       "      <td>2</td>\n",
       "      <td>PUBG MOBILE - Traverse</td>\n",
       "      <td>37276732</td>\n",
       "      <td>500.0</td>\n",
       "      <td>4</td>\n",
       "      <td>1.8</td>\n",
       "      <td>3.6</td>\n",
       "      <td>GAME ACTION</td>\n",
       "      <td>28339753</td>\n",
       "      <td>2164478</td>\n",
       "      <td>1253185</td>\n",
       "      <td>809821</td>\n",
       "      <td>4709492</td>\n",
       "      <td>False</td>\n",
       "    </tr>\n",
       "    <tr>\n",
       "      <th>668</th>\n",
       "      <td>43</td>\n",
       "      <td>My Dolphin Show</td>\n",
       "      <td>939577</td>\n",
       "      <td>50.0</td>\n",
       "      <td>4</td>\n",
       "      <td>0.3</td>\n",
       "      <td>0.7</td>\n",
       "      <td>GAME CASUAL</td>\n",
       "      <td>676889</td>\n",
       "      <td>96965</td>\n",
       "      <td>56485</td>\n",
       "      <td>26929</td>\n",
       "      <td>82307</td>\n",
       "      <td>False</td>\n",
       "    </tr>\n",
       "    <tr>\n",
       "      <th>655</th>\n",
       "      <td>30</td>\n",
       "      <td>Pirate Kings™️</td>\n",
       "      <td>1432166</td>\n",
       "      <td>10.0</td>\n",
       "      <td>4</td>\n",
       "      <td>0.2</td>\n",
       "      <td>0.3</td>\n",
       "      <td>GAME CASUAL</td>\n",
       "      <td>1049465</td>\n",
       "      <td>142061</td>\n",
       "      <td>64707</td>\n",
       "      <td>33473</td>\n",
       "      <td>142459</td>\n",
       "      <td>False</td>\n",
       "    </tr>\n",
       "    <tr>\n",
       "      <th>1224</th>\n",
       "      <td>99</td>\n",
       "      <td>원피스 트레저 크루즈</td>\n",
       "      <td>281148</td>\n",
       "      <td>1.0</td>\n",
       "      <td>4</td>\n",
       "      <td>0.0</td>\n",
       "      <td>0.0</td>\n",
       "      <td>GAME ROLE PLAYING</td>\n",
       "      <td>208788</td>\n",
       "      <td>37624</td>\n",
       "      <td>15607</td>\n",
       "      <td>3864</td>\n",
       "      <td>15262</td>\n",
       "      <td>False</td>\n",
       "    </tr>\n",
       "  </tbody>\n",
       "</table>\n",
       "</div>"
      ],
      "text/plain": [
       "      rank                   title  total ratings  installs_in_million  \\\n",
       "1        2  PUBG MOBILE - Traverse       37276732                500.0   \n",
       "668     43         My Dolphin Show         939577                 50.0   \n",
       "655     30          Pirate Kings™️        1432166                 10.0   \n",
       "1224    99             원피스 트레저 크루즈         281148                  1.0   \n",
       "\n",
       "      average rating  growth (30 days)  growth (60 days)           category  \\\n",
       "1                  4               1.8               3.6        GAME ACTION   \n",
       "668                4               0.3               0.7        GAME CASUAL   \n",
       "655                4               0.2               0.3        GAME CASUAL   \n",
       "1224               4               0.0               0.0  GAME ROLE PLAYING   \n",
       "\n",
       "      5 star ratings  4 star ratings  3 star ratings  2 star ratings  \\\n",
       "1           28339753         2164478         1253185          809821   \n",
       "668           676889           96965           56485           26929   \n",
       "655          1049465          142061           64707           33473   \n",
       "1224          208788           37624           15607            3864   \n",
       "\n",
       "      1 star ratings   paid  \n",
       "1            4709492  False  \n",
       "668            82307  False  \n",
       "655           142459  False  \n",
       "1224           15262  False  "
      ]
     },
     "execution_count": 36,
     "metadata": {},
     "output_type": "execute_result"
    }
   ],
   "source": [
    "df.sample(n=4)"
   ]
  },
  {
   "cell_type": "code",
   "execution_count": 39,
   "metadata": {},
   "outputs": [
    {
     "data": {
      "text/html": [
       "<div>\n",
       "<style scoped>\n",
       "    .dataframe tbody tr th:only-of-type {\n",
       "        vertical-align: middle;\n",
       "    }\n",
       "\n",
       "    .dataframe tbody tr th {\n",
       "        vertical-align: top;\n",
       "    }\n",
       "\n",
       "    .dataframe thead th {\n",
       "        text-align: right;\n",
       "    }\n",
       "</style>\n",
       "<table border=\"1\" class=\"dataframe\">\n",
       "  <thead>\n",
       "    <tr style=\"text-align: right;\">\n",
       "      <th></th>\n",
       "      <th>growth (30 days)</th>\n",
       "      <th>growth (60 days)</th>\n",
       "    </tr>\n",
       "    <tr>\n",
       "      <th>category</th>\n",
       "      <th></th>\n",
       "      <th></th>\n",
       "    </tr>\n",
       "  </thead>\n",
       "  <tbody>\n",
       "    <tr>\n",
       "      <th>GAME ACTION</th>\n",
       "      <td>18.808000</td>\n",
       "      <td>118.294000</td>\n",
       "    </tr>\n",
       "    <tr>\n",
       "      <th>GAME ADVENTURE</th>\n",
       "      <td>259.101000</td>\n",
       "      <td>6.084000</td>\n",
       "    </tr>\n",
       "    <tr>\n",
       "      <th>GAME ARCADE</th>\n",
       "      <td>58.924000</td>\n",
       "      <td>21.970000</td>\n",
       "    </tr>\n",
       "    <tr>\n",
       "      <th>GAME BOARD</th>\n",
       "      <td>34.445000</td>\n",
       "      <td>587.891000</td>\n",
       "    </tr>\n",
       "    <tr>\n",
       "      <th>GAME CARD</th>\n",
       "      <td>746.598413</td>\n",
       "      <td>555.337302</td>\n",
       "    </tr>\n",
       "    <tr>\n",
       "      <th>GAME CASINO</th>\n",
       "      <td>2335.253000</td>\n",
       "      <td>2.193000</td>\n",
       "    </tr>\n",
       "    <tr>\n",
       "      <th>GAME CASUAL</th>\n",
       "      <td>36.020000</td>\n",
       "      <td>14.812000</td>\n",
       "    </tr>\n",
       "    <tr>\n",
       "      <th>GAME EDUCATIONAL</th>\n",
       "      <td>102.455000</td>\n",
       "      <td>14.748000</td>\n",
       "    </tr>\n",
       "    <tr>\n",
       "      <th>GAME MUSIC</th>\n",
       "      <td>24.626000</td>\n",
       "      <td>22.160000</td>\n",
       "    </tr>\n",
       "    <tr>\n",
       "      <th>GAME PUZZLE</th>\n",
       "      <td>44.362000</td>\n",
       "      <td>12.062000</td>\n",
       "    </tr>\n",
       "    <tr>\n",
       "      <th>GAME RACING</th>\n",
       "      <td>207.103000</td>\n",
       "      <td>88.963000</td>\n",
       "    </tr>\n",
       "    <tr>\n",
       "      <th>GAME ROLE PLAYING</th>\n",
       "      <td>209.979000</td>\n",
       "      <td>3.037000</td>\n",
       "    </tr>\n",
       "    <tr>\n",
       "      <th>GAME SIMULATION</th>\n",
       "      <td>13.406000</td>\n",
       "      <td>20.196000</td>\n",
       "    </tr>\n",
       "    <tr>\n",
       "      <th>GAME SPORTS</th>\n",
       "      <td>159.543000</td>\n",
       "      <td>8.492000</td>\n",
       "    </tr>\n",
       "    <tr>\n",
       "      <th>GAME STRATEGY</th>\n",
       "      <td>18.281000</td>\n",
       "      <td>435.440000</td>\n",
       "    </tr>\n",
       "    <tr>\n",
       "      <th>GAME TRIVIA</th>\n",
       "      <td>1079.680000</td>\n",
       "      <td>6.180000</td>\n",
       "    </tr>\n",
       "    <tr>\n",
       "      <th>GAME WORD</th>\n",
       "      <td>22.433654</td>\n",
       "      <td>55.725000</td>\n",
       "    </tr>\n",
       "  </tbody>\n",
       "</table>\n",
       "</div>"
      ],
      "text/plain": [
       "                   growth (30 days)  growth (60 days)\n",
       "category                                             \n",
       "GAME ACTION               18.808000        118.294000\n",
       "GAME ADVENTURE           259.101000          6.084000\n",
       "GAME ARCADE               58.924000         21.970000\n",
       "GAME BOARD                34.445000        587.891000\n",
       "GAME CARD                746.598413        555.337302\n",
       "GAME CASINO             2335.253000          2.193000\n",
       "GAME CASUAL               36.020000         14.812000\n",
       "GAME EDUCATIONAL         102.455000         14.748000\n",
       "GAME MUSIC                24.626000         22.160000\n",
       "GAME PUZZLE               44.362000         12.062000\n",
       "GAME RACING              207.103000         88.963000\n",
       "GAME ROLE PLAYING        209.979000          3.037000\n",
       "GAME SIMULATION           13.406000         20.196000\n",
       "GAME SPORTS              159.543000          8.492000\n",
       "GAME STRATEGY             18.281000        435.440000\n",
       "GAME TRIVIA             1079.680000          6.180000\n",
       "GAME WORD                 22.433654         55.725000"
      ]
     },
     "execution_count": 39,
     "metadata": {},
     "output_type": "execute_result"
    }
   ],
   "source": [
    "growth = df.groupby('category')[['growth (30 days)',\"growth (60 days)\"]].mean()\n",
    "growth"
   ]
  },
  {
   "cell_type": "code",
   "execution_count": 42,
   "metadata": {},
   "outputs": [
    {
     "data": {
      "application/vnd.plotly.v1+json": {
       "config": {
        "plotlyServerURL": "https://plot.ly"
       },
       "data": [
        {
         "alignmentgroup": "True",
         "hovertemplate": "Category=%{x}<br>growth (30 days)=%{y}<extra></extra>",
         "legendgroup": "",
         "marker": {
          "color": "#636efa",
          "pattern": {
           "shape": ""
          }
         },
         "name": "",
         "offsetgroup": "",
         "orientation": "v",
         "showlegend": false,
         "textposition": "auto",
         "type": "bar",
         "x": [
          "GAME ACTION",
          "GAME ADVENTURE",
          "GAME ARCADE",
          "GAME BOARD",
          "GAME CARD",
          "GAME CASINO",
          "GAME CASUAL",
          "GAME EDUCATIONAL",
          "GAME MUSIC",
          "GAME PUZZLE",
          "GAME RACING",
          "GAME ROLE PLAYING",
          "GAME SIMULATION",
          "GAME SPORTS",
          "GAME STRATEGY",
          "GAME TRIVIA",
          "GAME WORD"
         ],
         "xaxis": "x",
         "y": [
          18.808,
          259.101,
          58.924,
          34.445,
          746.5984126984127,
          2335.253,
          36.02,
          102.455,
          24.625999999999998,
          44.361999999999995,
          207.10299999999998,
          209.97899999999998,
          13.405999999999999,
          159.543,
          18.281,
          1079.68,
          22.433653846153845
         ],
         "yaxis": "y"
        }
       ],
       "layout": {
        "barmode": "relative",
        "legend": {
         "tracegroupgap": 0
        },
        "margin": {
         "t": 60
        },
        "template": {
         "data": {
          "bar": [
           {
            "error_x": {
             "color": "#2a3f5f"
            },
            "error_y": {
             "color": "#2a3f5f"
            },
            "marker": {
             "line": {
              "color": "#E5ECF6",
              "width": 0.5
             },
             "pattern": {
              "fillmode": "overlay",
              "size": 10,
              "solidity": 0.2
             }
            },
            "type": "bar"
           }
          ],
          "barpolar": [
           {
            "marker": {
             "line": {
              "color": "#E5ECF6",
              "width": 0.5
             },
             "pattern": {
              "fillmode": "overlay",
              "size": 10,
              "solidity": 0.2
             }
            },
            "type": "barpolar"
           }
          ],
          "carpet": [
           {
            "aaxis": {
             "endlinecolor": "#2a3f5f",
             "gridcolor": "white",
             "linecolor": "white",
             "minorgridcolor": "white",
             "startlinecolor": "#2a3f5f"
            },
            "baxis": {
             "endlinecolor": "#2a3f5f",
             "gridcolor": "white",
             "linecolor": "white",
             "minorgridcolor": "white",
             "startlinecolor": "#2a3f5f"
            },
            "type": "carpet"
           }
          ],
          "choropleth": [
           {
            "colorbar": {
             "outlinewidth": 0,
             "ticks": ""
            },
            "type": "choropleth"
           }
          ],
          "contour": [
           {
            "colorbar": {
             "outlinewidth": 0,
             "ticks": ""
            },
            "colorscale": [
             [
              0,
              "#0d0887"
             ],
             [
              0.1111111111111111,
              "#46039f"
             ],
             [
              0.2222222222222222,
              "#7201a8"
             ],
             [
              0.3333333333333333,
              "#9c179e"
             ],
             [
              0.4444444444444444,
              "#bd3786"
             ],
             [
              0.5555555555555556,
              "#d8576b"
             ],
             [
              0.6666666666666666,
              "#ed7953"
             ],
             [
              0.7777777777777778,
              "#fb9f3a"
             ],
             [
              0.8888888888888888,
              "#fdca26"
             ],
             [
              1,
              "#f0f921"
             ]
            ],
            "type": "contour"
           }
          ],
          "contourcarpet": [
           {
            "colorbar": {
             "outlinewidth": 0,
             "ticks": ""
            },
            "type": "contourcarpet"
           }
          ],
          "heatmap": [
           {
            "colorbar": {
             "outlinewidth": 0,
             "ticks": ""
            },
            "colorscale": [
             [
              0,
              "#0d0887"
             ],
             [
              0.1111111111111111,
              "#46039f"
             ],
             [
              0.2222222222222222,
              "#7201a8"
             ],
             [
              0.3333333333333333,
              "#9c179e"
             ],
             [
              0.4444444444444444,
              "#bd3786"
             ],
             [
              0.5555555555555556,
              "#d8576b"
             ],
             [
              0.6666666666666666,
              "#ed7953"
             ],
             [
              0.7777777777777778,
              "#fb9f3a"
             ],
             [
              0.8888888888888888,
              "#fdca26"
             ],
             [
              1,
              "#f0f921"
             ]
            ],
            "type": "heatmap"
           }
          ],
          "heatmapgl": [
           {
            "colorbar": {
             "outlinewidth": 0,
             "ticks": ""
            },
            "colorscale": [
             [
              0,
              "#0d0887"
             ],
             [
              0.1111111111111111,
              "#46039f"
             ],
             [
              0.2222222222222222,
              "#7201a8"
             ],
             [
              0.3333333333333333,
              "#9c179e"
             ],
             [
              0.4444444444444444,
              "#bd3786"
             ],
             [
              0.5555555555555556,
              "#d8576b"
             ],
             [
              0.6666666666666666,
              "#ed7953"
             ],
             [
              0.7777777777777778,
              "#fb9f3a"
             ],
             [
              0.8888888888888888,
              "#fdca26"
             ],
             [
              1,
              "#f0f921"
             ]
            ],
            "type": "heatmapgl"
           }
          ],
          "histogram": [
           {
            "marker": {
             "pattern": {
              "fillmode": "overlay",
              "size": 10,
              "solidity": 0.2
             }
            },
            "type": "histogram"
           }
          ],
          "histogram2d": [
           {
            "colorbar": {
             "outlinewidth": 0,
             "ticks": ""
            },
            "colorscale": [
             [
              0,
              "#0d0887"
             ],
             [
              0.1111111111111111,
              "#46039f"
             ],
             [
              0.2222222222222222,
              "#7201a8"
             ],
             [
              0.3333333333333333,
              "#9c179e"
             ],
             [
              0.4444444444444444,
              "#bd3786"
             ],
             [
              0.5555555555555556,
              "#d8576b"
             ],
             [
              0.6666666666666666,
              "#ed7953"
             ],
             [
              0.7777777777777778,
              "#fb9f3a"
             ],
             [
              0.8888888888888888,
              "#fdca26"
             ],
             [
              1,
              "#f0f921"
             ]
            ],
            "type": "histogram2d"
           }
          ],
          "histogram2dcontour": [
           {
            "colorbar": {
             "outlinewidth": 0,
             "ticks": ""
            },
            "colorscale": [
             [
              0,
              "#0d0887"
             ],
             [
              0.1111111111111111,
              "#46039f"
             ],
             [
              0.2222222222222222,
              "#7201a8"
             ],
             [
              0.3333333333333333,
              "#9c179e"
             ],
             [
              0.4444444444444444,
              "#bd3786"
             ],
             [
              0.5555555555555556,
              "#d8576b"
             ],
             [
              0.6666666666666666,
              "#ed7953"
             ],
             [
              0.7777777777777778,
              "#fb9f3a"
             ],
             [
              0.8888888888888888,
              "#fdca26"
             ],
             [
              1,
              "#f0f921"
             ]
            ],
            "type": "histogram2dcontour"
           }
          ],
          "mesh3d": [
           {
            "colorbar": {
             "outlinewidth": 0,
             "ticks": ""
            },
            "type": "mesh3d"
           }
          ],
          "parcoords": [
           {
            "line": {
             "colorbar": {
              "outlinewidth": 0,
              "ticks": ""
             }
            },
            "type": "parcoords"
           }
          ],
          "pie": [
           {
            "automargin": true,
            "type": "pie"
           }
          ],
          "scatter": [
           {
            "marker": {
             "colorbar": {
              "outlinewidth": 0,
              "ticks": ""
             }
            },
            "type": "scatter"
           }
          ],
          "scatter3d": [
           {
            "line": {
             "colorbar": {
              "outlinewidth": 0,
              "ticks": ""
             }
            },
            "marker": {
             "colorbar": {
              "outlinewidth": 0,
              "ticks": ""
             }
            },
            "type": "scatter3d"
           }
          ],
          "scattercarpet": [
           {
            "marker": {
             "colorbar": {
              "outlinewidth": 0,
              "ticks": ""
             }
            },
            "type": "scattercarpet"
           }
          ],
          "scattergeo": [
           {
            "marker": {
             "colorbar": {
              "outlinewidth": 0,
              "ticks": ""
             }
            },
            "type": "scattergeo"
           }
          ],
          "scattergl": [
           {
            "marker": {
             "colorbar": {
              "outlinewidth": 0,
              "ticks": ""
             }
            },
            "type": "scattergl"
           }
          ],
          "scattermapbox": [
           {
            "marker": {
             "colorbar": {
              "outlinewidth": 0,
              "ticks": ""
             }
            },
            "type": "scattermapbox"
           }
          ],
          "scatterpolar": [
           {
            "marker": {
             "colorbar": {
              "outlinewidth": 0,
              "ticks": ""
             }
            },
            "type": "scatterpolar"
           }
          ],
          "scatterpolargl": [
           {
            "marker": {
             "colorbar": {
              "outlinewidth": 0,
              "ticks": ""
             }
            },
            "type": "scatterpolargl"
           }
          ],
          "scatterternary": [
           {
            "marker": {
             "colorbar": {
              "outlinewidth": 0,
              "ticks": ""
             }
            },
            "type": "scatterternary"
           }
          ],
          "surface": [
           {
            "colorbar": {
             "outlinewidth": 0,
             "ticks": ""
            },
            "colorscale": [
             [
              0,
              "#0d0887"
             ],
             [
              0.1111111111111111,
              "#46039f"
             ],
             [
              0.2222222222222222,
              "#7201a8"
             ],
             [
              0.3333333333333333,
              "#9c179e"
             ],
             [
              0.4444444444444444,
              "#bd3786"
             ],
             [
              0.5555555555555556,
              "#d8576b"
             ],
             [
              0.6666666666666666,
              "#ed7953"
             ],
             [
              0.7777777777777778,
              "#fb9f3a"
             ],
             [
              0.8888888888888888,
              "#fdca26"
             ],
             [
              1,
              "#f0f921"
             ]
            ],
            "type": "surface"
           }
          ],
          "table": [
           {
            "cells": {
             "fill": {
              "color": "#EBF0F8"
             },
             "line": {
              "color": "white"
             }
            },
            "header": {
             "fill": {
              "color": "#C8D4E3"
             },
             "line": {
              "color": "white"
             }
            },
            "type": "table"
           }
          ]
         },
         "layout": {
          "annotationdefaults": {
           "arrowcolor": "#2a3f5f",
           "arrowhead": 0,
           "arrowwidth": 1
          },
          "autotypenumbers": "strict",
          "coloraxis": {
           "colorbar": {
            "outlinewidth": 0,
            "ticks": ""
           }
          },
          "colorscale": {
           "diverging": [
            [
             0,
             "#8e0152"
            ],
            [
             0.1,
             "#c51b7d"
            ],
            [
             0.2,
             "#de77ae"
            ],
            [
             0.3,
             "#f1b6da"
            ],
            [
             0.4,
             "#fde0ef"
            ],
            [
             0.5,
             "#f7f7f7"
            ],
            [
             0.6,
             "#e6f5d0"
            ],
            [
             0.7,
             "#b8e186"
            ],
            [
             0.8,
             "#7fbc41"
            ],
            [
             0.9,
             "#4d9221"
            ],
            [
             1,
             "#276419"
            ]
           ],
           "sequential": [
            [
             0,
             "#0d0887"
            ],
            [
             0.1111111111111111,
             "#46039f"
            ],
            [
             0.2222222222222222,
             "#7201a8"
            ],
            [
             0.3333333333333333,
             "#9c179e"
            ],
            [
             0.4444444444444444,
             "#bd3786"
            ],
            [
             0.5555555555555556,
             "#d8576b"
            ],
            [
             0.6666666666666666,
             "#ed7953"
            ],
            [
             0.7777777777777778,
             "#fb9f3a"
            ],
            [
             0.8888888888888888,
             "#fdca26"
            ],
            [
             1,
             "#f0f921"
            ]
           ],
           "sequentialminus": [
            [
             0,
             "#0d0887"
            ],
            [
             0.1111111111111111,
             "#46039f"
            ],
            [
             0.2222222222222222,
             "#7201a8"
            ],
            [
             0.3333333333333333,
             "#9c179e"
            ],
            [
             0.4444444444444444,
             "#bd3786"
            ],
            [
             0.5555555555555556,
             "#d8576b"
            ],
            [
             0.6666666666666666,
             "#ed7953"
            ],
            [
             0.7777777777777778,
             "#fb9f3a"
            ],
            [
             0.8888888888888888,
             "#fdca26"
            ],
            [
             1,
             "#f0f921"
            ]
           ]
          },
          "colorway": [
           "#636efa",
           "#EF553B",
           "#00cc96",
           "#ab63fa",
           "#FFA15A",
           "#19d3f3",
           "#FF6692",
           "#B6E880",
           "#FF97FF",
           "#FECB52"
          ],
          "font": {
           "color": "#2a3f5f"
          },
          "geo": {
           "bgcolor": "white",
           "lakecolor": "white",
           "landcolor": "#E5ECF6",
           "showlakes": true,
           "showland": true,
           "subunitcolor": "white"
          },
          "hoverlabel": {
           "align": "left"
          },
          "hovermode": "closest",
          "mapbox": {
           "style": "light"
          },
          "paper_bgcolor": "white",
          "plot_bgcolor": "#E5ECF6",
          "polar": {
           "angularaxis": {
            "gridcolor": "white",
            "linecolor": "white",
            "ticks": ""
           },
           "bgcolor": "#E5ECF6",
           "radialaxis": {
            "gridcolor": "white",
            "linecolor": "white",
            "ticks": ""
           }
          },
          "scene": {
           "xaxis": {
            "backgroundcolor": "#E5ECF6",
            "gridcolor": "white",
            "gridwidth": 2,
            "linecolor": "white",
            "showbackground": true,
            "ticks": "",
            "zerolinecolor": "white"
           },
           "yaxis": {
            "backgroundcolor": "#E5ECF6",
            "gridcolor": "white",
            "gridwidth": 2,
            "linecolor": "white",
            "showbackground": true,
            "ticks": "",
            "zerolinecolor": "white"
           },
           "zaxis": {
            "backgroundcolor": "#E5ECF6",
            "gridcolor": "white",
            "gridwidth": 2,
            "linecolor": "white",
            "showbackground": true,
            "ticks": "",
            "zerolinecolor": "white"
           }
          },
          "shapedefaults": {
           "line": {
            "color": "#2a3f5f"
           }
          },
          "ternary": {
           "aaxis": {
            "gridcolor": "white",
            "linecolor": "white",
            "ticks": ""
           },
           "baxis": {
            "gridcolor": "white",
            "linecolor": "white",
            "ticks": ""
           },
           "bgcolor": "#E5ECF6",
           "caxis": {
            "gridcolor": "white",
            "linecolor": "white",
            "ticks": ""
           }
          },
          "title": {
           "x": 0.05
          },
          "xaxis": {
           "automargin": true,
           "gridcolor": "white",
           "linecolor": "white",
           "ticks": "",
           "title": {
            "standoff": 15
           },
           "zerolinecolor": "white",
           "zerolinewidth": 2
          },
          "yaxis": {
           "automargin": true,
           "gridcolor": "white",
           "linecolor": "white",
           "ticks": "",
           "title": {
            "standoff": 15
           },
           "zerolinecolor": "white",
           "zerolinewidth": 2
          }
         }
        },
        "xaxis": {
         "anchor": "y",
         "categoryorder": "total descending",
         "domain": [
          0,
          1
         ],
         "title": {
          "text": "Category"
         }
        },
        "yaxis": {
         "anchor": "x",
         "domain": [
          0,
          1
         ],
         "title": {
          "text": "growth (30 days)"
         }
        }
       }
      }
     },
     "metadata": {},
     "output_type": "display_data"
    }
   ],
   "source": [
    "fig = px.bar(growth, y=\"growth (30 days)\",\n",
    "labels={\"y\":\"Growth (30 Days)\", \"category\": \"Category\", \"value\":\"Total Growth\"})\n",
    "fig.update_layout(xaxis={\"categoryorder\":\"total descending\"})"
   ]
  },
  {
   "cell_type": "code",
   "execution_count": 50,
   "metadata": {},
   "outputs": [
    {
     "data": {
      "application/vnd.plotly.v1+json": {
       "config": {
        "plotlyServerURL": "https://plot.ly"
       },
       "data": [
        {
         "alignmentgroup": "True",
         "hovertemplate": "Category=%{x}<br>growth (60 days)=%{y}<extra></extra>",
         "legendgroup": "",
         "marker": {
          "color": "#636efa",
          "pattern": {
           "shape": ""
          }
         },
         "name": "",
         "offsetgroup": "",
         "orientation": "v",
         "showlegend": false,
         "textposition": "auto",
         "type": "bar",
         "x": [
          "GAME ACTION",
          "GAME ADVENTURE",
          "GAME ARCADE",
          "GAME BOARD",
          "GAME CARD",
          "GAME CASINO",
          "GAME CASUAL",
          "GAME EDUCATIONAL",
          "GAME MUSIC",
          "GAME PUZZLE",
          "GAME RACING",
          "GAME ROLE PLAYING",
          "GAME SIMULATION",
          "GAME SPORTS",
          "GAME STRATEGY",
          "GAME TRIVIA",
          "GAME WORD"
         ],
         "xaxis": "x",
         "y": [
          118.294,
          6.084,
          21.97,
          587.891,
          555.3373015873015,
          2.1929999999999996,
          14.812000000000001,
          14.748,
          22.16,
          12.062000000000001,
          88.963,
          3.037,
          20.195999999999998,
          8.491999999999999,
          435.44,
          6.18,
          55.724999999999994
         ],
         "yaxis": "y"
        }
       ],
       "layout": {
        "barmode": "relative",
        "legend": {
         "tracegroupgap": 0
        },
        "margin": {
         "t": 60
        },
        "template": {
         "data": {
          "bar": [
           {
            "error_x": {
             "color": "#2a3f5f"
            },
            "error_y": {
             "color": "#2a3f5f"
            },
            "marker": {
             "line": {
              "color": "#E5ECF6",
              "width": 0.5
             },
             "pattern": {
              "fillmode": "overlay",
              "size": 10,
              "solidity": 0.2
             }
            },
            "type": "bar"
           }
          ],
          "barpolar": [
           {
            "marker": {
             "line": {
              "color": "#E5ECF6",
              "width": 0.5
             },
             "pattern": {
              "fillmode": "overlay",
              "size": 10,
              "solidity": 0.2
             }
            },
            "type": "barpolar"
           }
          ],
          "carpet": [
           {
            "aaxis": {
             "endlinecolor": "#2a3f5f",
             "gridcolor": "white",
             "linecolor": "white",
             "minorgridcolor": "white",
             "startlinecolor": "#2a3f5f"
            },
            "baxis": {
             "endlinecolor": "#2a3f5f",
             "gridcolor": "white",
             "linecolor": "white",
             "minorgridcolor": "white",
             "startlinecolor": "#2a3f5f"
            },
            "type": "carpet"
           }
          ],
          "choropleth": [
           {
            "colorbar": {
             "outlinewidth": 0,
             "ticks": ""
            },
            "type": "choropleth"
           }
          ],
          "contour": [
           {
            "colorbar": {
             "outlinewidth": 0,
             "ticks": ""
            },
            "colorscale": [
             [
              0,
              "#0d0887"
             ],
             [
              0.1111111111111111,
              "#46039f"
             ],
             [
              0.2222222222222222,
              "#7201a8"
             ],
             [
              0.3333333333333333,
              "#9c179e"
             ],
             [
              0.4444444444444444,
              "#bd3786"
             ],
             [
              0.5555555555555556,
              "#d8576b"
             ],
             [
              0.6666666666666666,
              "#ed7953"
             ],
             [
              0.7777777777777778,
              "#fb9f3a"
             ],
             [
              0.8888888888888888,
              "#fdca26"
             ],
             [
              1,
              "#f0f921"
             ]
            ],
            "type": "contour"
           }
          ],
          "contourcarpet": [
           {
            "colorbar": {
             "outlinewidth": 0,
             "ticks": ""
            },
            "type": "contourcarpet"
           }
          ],
          "heatmap": [
           {
            "colorbar": {
             "outlinewidth": 0,
             "ticks": ""
            },
            "colorscale": [
             [
              0,
              "#0d0887"
             ],
             [
              0.1111111111111111,
              "#46039f"
             ],
             [
              0.2222222222222222,
              "#7201a8"
             ],
             [
              0.3333333333333333,
              "#9c179e"
             ],
             [
              0.4444444444444444,
              "#bd3786"
             ],
             [
              0.5555555555555556,
              "#d8576b"
             ],
             [
              0.6666666666666666,
              "#ed7953"
             ],
             [
              0.7777777777777778,
              "#fb9f3a"
             ],
             [
              0.8888888888888888,
              "#fdca26"
             ],
             [
              1,
              "#f0f921"
             ]
            ],
            "type": "heatmap"
           }
          ],
          "heatmapgl": [
           {
            "colorbar": {
             "outlinewidth": 0,
             "ticks": ""
            },
            "colorscale": [
             [
              0,
              "#0d0887"
             ],
             [
              0.1111111111111111,
              "#46039f"
             ],
             [
              0.2222222222222222,
              "#7201a8"
             ],
             [
              0.3333333333333333,
              "#9c179e"
             ],
             [
              0.4444444444444444,
              "#bd3786"
             ],
             [
              0.5555555555555556,
              "#d8576b"
             ],
             [
              0.6666666666666666,
              "#ed7953"
             ],
             [
              0.7777777777777778,
              "#fb9f3a"
             ],
             [
              0.8888888888888888,
              "#fdca26"
             ],
             [
              1,
              "#f0f921"
             ]
            ],
            "type": "heatmapgl"
           }
          ],
          "histogram": [
           {
            "marker": {
             "pattern": {
              "fillmode": "overlay",
              "size": 10,
              "solidity": 0.2
             }
            },
            "type": "histogram"
           }
          ],
          "histogram2d": [
           {
            "colorbar": {
             "outlinewidth": 0,
             "ticks": ""
            },
            "colorscale": [
             [
              0,
              "#0d0887"
             ],
             [
              0.1111111111111111,
              "#46039f"
             ],
             [
              0.2222222222222222,
              "#7201a8"
             ],
             [
              0.3333333333333333,
              "#9c179e"
             ],
             [
              0.4444444444444444,
              "#bd3786"
             ],
             [
              0.5555555555555556,
              "#d8576b"
             ],
             [
              0.6666666666666666,
              "#ed7953"
             ],
             [
              0.7777777777777778,
              "#fb9f3a"
             ],
             [
              0.8888888888888888,
              "#fdca26"
             ],
             [
              1,
              "#f0f921"
             ]
            ],
            "type": "histogram2d"
           }
          ],
          "histogram2dcontour": [
           {
            "colorbar": {
             "outlinewidth": 0,
             "ticks": ""
            },
            "colorscale": [
             [
              0,
              "#0d0887"
             ],
             [
              0.1111111111111111,
              "#46039f"
             ],
             [
              0.2222222222222222,
              "#7201a8"
             ],
             [
              0.3333333333333333,
              "#9c179e"
             ],
             [
              0.4444444444444444,
              "#bd3786"
             ],
             [
              0.5555555555555556,
              "#d8576b"
             ],
             [
              0.6666666666666666,
              "#ed7953"
             ],
             [
              0.7777777777777778,
              "#fb9f3a"
             ],
             [
              0.8888888888888888,
              "#fdca26"
             ],
             [
              1,
              "#f0f921"
             ]
            ],
            "type": "histogram2dcontour"
           }
          ],
          "mesh3d": [
           {
            "colorbar": {
             "outlinewidth": 0,
             "ticks": ""
            },
            "type": "mesh3d"
           }
          ],
          "parcoords": [
           {
            "line": {
             "colorbar": {
              "outlinewidth": 0,
              "ticks": ""
             }
            },
            "type": "parcoords"
           }
          ],
          "pie": [
           {
            "automargin": true,
            "type": "pie"
           }
          ],
          "scatter": [
           {
            "marker": {
             "colorbar": {
              "outlinewidth": 0,
              "ticks": ""
             }
            },
            "type": "scatter"
           }
          ],
          "scatter3d": [
           {
            "line": {
             "colorbar": {
              "outlinewidth": 0,
              "ticks": ""
             }
            },
            "marker": {
             "colorbar": {
              "outlinewidth": 0,
              "ticks": ""
             }
            },
            "type": "scatter3d"
           }
          ],
          "scattercarpet": [
           {
            "marker": {
             "colorbar": {
              "outlinewidth": 0,
              "ticks": ""
             }
            },
            "type": "scattercarpet"
           }
          ],
          "scattergeo": [
           {
            "marker": {
             "colorbar": {
              "outlinewidth": 0,
              "ticks": ""
             }
            },
            "type": "scattergeo"
           }
          ],
          "scattergl": [
           {
            "marker": {
             "colorbar": {
              "outlinewidth": 0,
              "ticks": ""
             }
            },
            "type": "scattergl"
           }
          ],
          "scattermapbox": [
           {
            "marker": {
             "colorbar": {
              "outlinewidth": 0,
              "ticks": ""
             }
            },
            "type": "scattermapbox"
           }
          ],
          "scatterpolar": [
           {
            "marker": {
             "colorbar": {
              "outlinewidth": 0,
              "ticks": ""
             }
            },
            "type": "scatterpolar"
           }
          ],
          "scatterpolargl": [
           {
            "marker": {
             "colorbar": {
              "outlinewidth": 0,
              "ticks": ""
             }
            },
            "type": "scatterpolargl"
           }
          ],
          "scatterternary": [
           {
            "marker": {
             "colorbar": {
              "outlinewidth": 0,
              "ticks": ""
             }
            },
            "type": "scatterternary"
           }
          ],
          "surface": [
           {
            "colorbar": {
             "outlinewidth": 0,
             "ticks": ""
            },
            "colorscale": [
             [
              0,
              "#0d0887"
             ],
             [
              0.1111111111111111,
              "#46039f"
             ],
             [
              0.2222222222222222,
              "#7201a8"
             ],
             [
              0.3333333333333333,
              "#9c179e"
             ],
             [
              0.4444444444444444,
              "#bd3786"
             ],
             [
              0.5555555555555556,
              "#d8576b"
             ],
             [
              0.6666666666666666,
              "#ed7953"
             ],
             [
              0.7777777777777778,
              "#fb9f3a"
             ],
             [
              0.8888888888888888,
              "#fdca26"
             ],
             [
              1,
              "#f0f921"
             ]
            ],
            "type": "surface"
           }
          ],
          "table": [
           {
            "cells": {
             "fill": {
              "color": "#EBF0F8"
             },
             "line": {
              "color": "white"
             }
            },
            "header": {
             "fill": {
              "color": "#C8D4E3"
             },
             "line": {
              "color": "white"
             }
            },
            "type": "table"
           }
          ]
         },
         "layout": {
          "annotationdefaults": {
           "arrowcolor": "#2a3f5f",
           "arrowhead": 0,
           "arrowwidth": 1
          },
          "autotypenumbers": "strict",
          "coloraxis": {
           "colorbar": {
            "outlinewidth": 0,
            "ticks": ""
           }
          },
          "colorscale": {
           "diverging": [
            [
             0,
             "#8e0152"
            ],
            [
             0.1,
             "#c51b7d"
            ],
            [
             0.2,
             "#de77ae"
            ],
            [
             0.3,
             "#f1b6da"
            ],
            [
             0.4,
             "#fde0ef"
            ],
            [
             0.5,
             "#f7f7f7"
            ],
            [
             0.6,
             "#e6f5d0"
            ],
            [
             0.7,
             "#b8e186"
            ],
            [
             0.8,
             "#7fbc41"
            ],
            [
             0.9,
             "#4d9221"
            ],
            [
             1,
             "#276419"
            ]
           ],
           "sequential": [
            [
             0,
             "#0d0887"
            ],
            [
             0.1111111111111111,
             "#46039f"
            ],
            [
             0.2222222222222222,
             "#7201a8"
            ],
            [
             0.3333333333333333,
             "#9c179e"
            ],
            [
             0.4444444444444444,
             "#bd3786"
            ],
            [
             0.5555555555555556,
             "#d8576b"
            ],
            [
             0.6666666666666666,
             "#ed7953"
            ],
            [
             0.7777777777777778,
             "#fb9f3a"
            ],
            [
             0.8888888888888888,
             "#fdca26"
            ],
            [
             1,
             "#f0f921"
            ]
           ],
           "sequentialminus": [
            [
             0,
             "#0d0887"
            ],
            [
             0.1111111111111111,
             "#46039f"
            ],
            [
             0.2222222222222222,
             "#7201a8"
            ],
            [
             0.3333333333333333,
             "#9c179e"
            ],
            [
             0.4444444444444444,
             "#bd3786"
            ],
            [
             0.5555555555555556,
             "#d8576b"
            ],
            [
             0.6666666666666666,
             "#ed7953"
            ],
            [
             0.7777777777777778,
             "#fb9f3a"
            ],
            [
             0.8888888888888888,
             "#fdca26"
            ],
            [
             1,
             "#f0f921"
            ]
           ]
          },
          "colorway": [
           "#636efa",
           "#EF553B",
           "#00cc96",
           "#ab63fa",
           "#FFA15A",
           "#19d3f3",
           "#FF6692",
           "#B6E880",
           "#FF97FF",
           "#FECB52"
          ],
          "font": {
           "color": "#2a3f5f"
          },
          "geo": {
           "bgcolor": "white",
           "lakecolor": "white",
           "landcolor": "#E5ECF6",
           "showlakes": true,
           "showland": true,
           "subunitcolor": "white"
          },
          "hoverlabel": {
           "align": "left"
          },
          "hovermode": "closest",
          "mapbox": {
           "style": "light"
          },
          "paper_bgcolor": "white",
          "plot_bgcolor": "#E5ECF6",
          "polar": {
           "angularaxis": {
            "gridcolor": "white",
            "linecolor": "white",
            "ticks": ""
           },
           "bgcolor": "#E5ECF6",
           "radialaxis": {
            "gridcolor": "white",
            "linecolor": "white",
            "ticks": ""
           }
          },
          "scene": {
           "xaxis": {
            "backgroundcolor": "#E5ECF6",
            "gridcolor": "white",
            "gridwidth": 2,
            "linecolor": "white",
            "showbackground": true,
            "ticks": "",
            "zerolinecolor": "white"
           },
           "yaxis": {
            "backgroundcolor": "#E5ECF6",
            "gridcolor": "white",
            "gridwidth": 2,
            "linecolor": "white",
            "showbackground": true,
            "ticks": "",
            "zerolinecolor": "white"
           },
           "zaxis": {
            "backgroundcolor": "#E5ECF6",
            "gridcolor": "white",
            "gridwidth": 2,
            "linecolor": "white",
            "showbackground": true,
            "ticks": "",
            "zerolinecolor": "white"
           }
          },
          "shapedefaults": {
           "line": {
            "color": "#2a3f5f"
           }
          },
          "ternary": {
           "aaxis": {
            "gridcolor": "white",
            "linecolor": "white",
            "ticks": ""
           },
           "baxis": {
            "gridcolor": "white",
            "linecolor": "white",
            "ticks": ""
           },
           "bgcolor": "#E5ECF6",
           "caxis": {
            "gridcolor": "white",
            "linecolor": "white",
            "ticks": ""
           }
          },
          "title": {
           "x": 0.05
          },
          "xaxis": {
           "automargin": true,
           "gridcolor": "white",
           "linecolor": "white",
           "ticks": "",
           "title": {
            "standoff": 15
           },
           "zerolinecolor": "white",
           "zerolinewidth": 2
          },
          "yaxis": {
           "automargin": true,
           "gridcolor": "white",
           "linecolor": "white",
           "ticks": "",
           "title": {
            "standoff": 15
           },
           "zerolinecolor": "white",
           "zerolinewidth": 2
          }
         }
        },
        "xaxis": {
         "anchor": "y",
         "categoryorder": "total descending",
         "domain": [
          0,
          1
         ],
         "title": {
          "text": "Category"
         }
        },
        "yaxis": {
         "anchor": "x",
         "domain": [
          0,
          1
         ],
         "title": {
          "text": "growth (60 days)"
         }
        }
       }
      }
     },
     "metadata": {},
     "output_type": "display_data"
    }
   ],
   "source": [
    "fig = px.bar(growth,y=\"growth (60 days)\",\n",
    "labels={\"y\":\"Growth (60 Days)\", \"category\":\"Category\", \"value\":\"Total Growth\"})\n",
    "fig.update_layout(xaxis={\"categoryorder\":\"total descending\"})"
   ]
  },
  {
   "cell_type": "code",
   "execution_count": 53,
   "metadata": {},
   "outputs": [
    {
     "data": {
      "application/vnd.plotly.v1+json": {
       "config": {
        "plotlyServerURL": "https://plot.ly"
       },
       "data": [
        {
         "hovertemplate": "variable=growth (30 days)<br>Category=%{x}<br>value=%{y}<extra></extra>",
         "legendgroup": "growth (30 days)",
         "line": {
          "color": "#636efa",
          "dash": "solid"
         },
         "mode": "lines",
         "name": "growth (30 days)",
         "orientation": "v",
         "showlegend": true,
         "type": "scatter",
         "x": [
          "GAME ACTION",
          "GAME ADVENTURE",
          "GAME ARCADE",
          "GAME BOARD",
          "GAME CARD",
          "GAME CASINO",
          "GAME CASUAL",
          "GAME EDUCATIONAL",
          "GAME MUSIC",
          "GAME PUZZLE",
          "GAME RACING",
          "GAME ROLE PLAYING",
          "GAME SIMULATION",
          "GAME SPORTS",
          "GAME STRATEGY",
          "GAME TRIVIA",
          "GAME WORD"
         ],
         "xaxis": "x",
         "y": [
          18.808,
          259.101,
          58.924,
          34.445,
          746.5984126984127,
          2335.253,
          36.02,
          102.455,
          24.625999999999998,
          44.361999999999995,
          207.10299999999998,
          209.97899999999998,
          13.405999999999999,
          159.543,
          18.281,
          1079.68,
          22.433653846153845
         ],
         "yaxis": "y"
        },
        {
         "hovertemplate": "variable=growth (60 days)<br>Category=%{x}<br>value=%{y}<extra></extra>",
         "legendgroup": "growth (60 days)",
         "line": {
          "color": "#EF553B",
          "dash": "solid"
         },
         "mode": "lines",
         "name": "growth (60 days)",
         "orientation": "v",
         "showlegend": true,
         "type": "scatter",
         "x": [
          "GAME ACTION",
          "GAME ADVENTURE",
          "GAME ARCADE",
          "GAME BOARD",
          "GAME CARD",
          "GAME CASINO",
          "GAME CASUAL",
          "GAME EDUCATIONAL",
          "GAME MUSIC",
          "GAME PUZZLE",
          "GAME RACING",
          "GAME ROLE PLAYING",
          "GAME SIMULATION",
          "GAME SPORTS",
          "GAME STRATEGY",
          "GAME TRIVIA",
          "GAME WORD"
         ],
         "xaxis": "x",
         "y": [
          118.294,
          6.084,
          21.97,
          587.891,
          555.3373015873015,
          2.1929999999999996,
          14.812000000000001,
          14.748,
          22.16,
          12.062000000000001,
          88.963,
          3.037,
          20.195999999999998,
          8.491999999999999,
          435.44,
          6.18,
          55.724999999999994
         ],
         "yaxis": "y"
        }
       ],
       "layout": {
        "legend": {
         "title": {
          "text": "variable"
         },
         "tracegroupgap": 0
        },
        "template": {
         "data": {
          "bar": [
           {
            "error_x": {
             "color": "#2a3f5f"
            },
            "error_y": {
             "color": "#2a3f5f"
            },
            "marker": {
             "line": {
              "color": "#E5ECF6",
              "width": 0.5
             },
             "pattern": {
              "fillmode": "overlay",
              "size": 10,
              "solidity": 0.2
             }
            },
            "type": "bar"
           }
          ],
          "barpolar": [
           {
            "marker": {
             "line": {
              "color": "#E5ECF6",
              "width": 0.5
             },
             "pattern": {
              "fillmode": "overlay",
              "size": 10,
              "solidity": 0.2
             }
            },
            "type": "barpolar"
           }
          ],
          "carpet": [
           {
            "aaxis": {
             "endlinecolor": "#2a3f5f",
             "gridcolor": "white",
             "linecolor": "white",
             "minorgridcolor": "white",
             "startlinecolor": "#2a3f5f"
            },
            "baxis": {
             "endlinecolor": "#2a3f5f",
             "gridcolor": "white",
             "linecolor": "white",
             "minorgridcolor": "white",
             "startlinecolor": "#2a3f5f"
            },
            "type": "carpet"
           }
          ],
          "choropleth": [
           {
            "colorbar": {
             "outlinewidth": 0,
             "ticks": ""
            },
            "type": "choropleth"
           }
          ],
          "contour": [
           {
            "colorbar": {
             "outlinewidth": 0,
             "ticks": ""
            },
            "colorscale": [
             [
              0,
              "#0d0887"
             ],
             [
              0.1111111111111111,
              "#46039f"
             ],
             [
              0.2222222222222222,
              "#7201a8"
             ],
             [
              0.3333333333333333,
              "#9c179e"
             ],
             [
              0.4444444444444444,
              "#bd3786"
             ],
             [
              0.5555555555555556,
              "#d8576b"
             ],
             [
              0.6666666666666666,
              "#ed7953"
             ],
             [
              0.7777777777777778,
              "#fb9f3a"
             ],
             [
              0.8888888888888888,
              "#fdca26"
             ],
             [
              1,
              "#f0f921"
             ]
            ],
            "type": "contour"
           }
          ],
          "contourcarpet": [
           {
            "colorbar": {
             "outlinewidth": 0,
             "ticks": ""
            },
            "type": "contourcarpet"
           }
          ],
          "heatmap": [
           {
            "colorbar": {
             "outlinewidth": 0,
             "ticks": ""
            },
            "colorscale": [
             [
              0,
              "#0d0887"
             ],
             [
              0.1111111111111111,
              "#46039f"
             ],
             [
              0.2222222222222222,
              "#7201a8"
             ],
             [
              0.3333333333333333,
              "#9c179e"
             ],
             [
              0.4444444444444444,
              "#bd3786"
             ],
             [
              0.5555555555555556,
              "#d8576b"
             ],
             [
              0.6666666666666666,
              "#ed7953"
             ],
             [
              0.7777777777777778,
              "#fb9f3a"
             ],
             [
              0.8888888888888888,
              "#fdca26"
             ],
             [
              1,
              "#f0f921"
             ]
            ],
            "type": "heatmap"
           }
          ],
          "heatmapgl": [
           {
            "colorbar": {
             "outlinewidth": 0,
             "ticks": ""
            },
            "colorscale": [
             [
              0,
              "#0d0887"
             ],
             [
              0.1111111111111111,
              "#46039f"
             ],
             [
              0.2222222222222222,
              "#7201a8"
             ],
             [
              0.3333333333333333,
              "#9c179e"
             ],
             [
              0.4444444444444444,
              "#bd3786"
             ],
             [
              0.5555555555555556,
              "#d8576b"
             ],
             [
              0.6666666666666666,
              "#ed7953"
             ],
             [
              0.7777777777777778,
              "#fb9f3a"
             ],
             [
              0.8888888888888888,
              "#fdca26"
             ],
             [
              1,
              "#f0f921"
             ]
            ],
            "type": "heatmapgl"
           }
          ],
          "histogram": [
           {
            "marker": {
             "pattern": {
              "fillmode": "overlay",
              "size": 10,
              "solidity": 0.2
             }
            },
            "type": "histogram"
           }
          ],
          "histogram2d": [
           {
            "colorbar": {
             "outlinewidth": 0,
             "ticks": ""
            },
            "colorscale": [
             [
              0,
              "#0d0887"
             ],
             [
              0.1111111111111111,
              "#46039f"
             ],
             [
              0.2222222222222222,
              "#7201a8"
             ],
             [
              0.3333333333333333,
              "#9c179e"
             ],
             [
              0.4444444444444444,
              "#bd3786"
             ],
             [
              0.5555555555555556,
              "#d8576b"
             ],
             [
              0.6666666666666666,
              "#ed7953"
             ],
             [
              0.7777777777777778,
              "#fb9f3a"
             ],
             [
              0.8888888888888888,
              "#fdca26"
             ],
             [
              1,
              "#f0f921"
             ]
            ],
            "type": "histogram2d"
           }
          ],
          "histogram2dcontour": [
           {
            "colorbar": {
             "outlinewidth": 0,
             "ticks": ""
            },
            "colorscale": [
             [
              0,
              "#0d0887"
             ],
             [
              0.1111111111111111,
              "#46039f"
             ],
             [
              0.2222222222222222,
              "#7201a8"
             ],
             [
              0.3333333333333333,
              "#9c179e"
             ],
             [
              0.4444444444444444,
              "#bd3786"
             ],
             [
              0.5555555555555556,
              "#d8576b"
             ],
             [
              0.6666666666666666,
              "#ed7953"
             ],
             [
              0.7777777777777778,
              "#fb9f3a"
             ],
             [
              0.8888888888888888,
              "#fdca26"
             ],
             [
              1,
              "#f0f921"
             ]
            ],
            "type": "histogram2dcontour"
           }
          ],
          "mesh3d": [
           {
            "colorbar": {
             "outlinewidth": 0,
             "ticks": ""
            },
            "type": "mesh3d"
           }
          ],
          "parcoords": [
           {
            "line": {
             "colorbar": {
              "outlinewidth": 0,
              "ticks": ""
             }
            },
            "type": "parcoords"
           }
          ],
          "pie": [
           {
            "automargin": true,
            "type": "pie"
           }
          ],
          "scatter": [
           {
            "marker": {
             "colorbar": {
              "outlinewidth": 0,
              "ticks": ""
             }
            },
            "type": "scatter"
           }
          ],
          "scatter3d": [
           {
            "line": {
             "colorbar": {
              "outlinewidth": 0,
              "ticks": ""
             }
            },
            "marker": {
             "colorbar": {
              "outlinewidth": 0,
              "ticks": ""
             }
            },
            "type": "scatter3d"
           }
          ],
          "scattercarpet": [
           {
            "marker": {
             "colorbar": {
              "outlinewidth": 0,
              "ticks": ""
             }
            },
            "type": "scattercarpet"
           }
          ],
          "scattergeo": [
           {
            "marker": {
             "colorbar": {
              "outlinewidth": 0,
              "ticks": ""
             }
            },
            "type": "scattergeo"
           }
          ],
          "scattergl": [
           {
            "marker": {
             "colorbar": {
              "outlinewidth": 0,
              "ticks": ""
             }
            },
            "type": "scattergl"
           }
          ],
          "scattermapbox": [
           {
            "marker": {
             "colorbar": {
              "outlinewidth": 0,
              "ticks": ""
             }
            },
            "type": "scattermapbox"
           }
          ],
          "scatterpolar": [
           {
            "marker": {
             "colorbar": {
              "outlinewidth": 0,
              "ticks": ""
             }
            },
            "type": "scatterpolar"
           }
          ],
          "scatterpolargl": [
           {
            "marker": {
             "colorbar": {
              "outlinewidth": 0,
              "ticks": ""
             }
            },
            "type": "scatterpolargl"
           }
          ],
          "scatterternary": [
           {
            "marker": {
             "colorbar": {
              "outlinewidth": 0,
              "ticks": ""
             }
            },
            "type": "scatterternary"
           }
          ],
          "surface": [
           {
            "colorbar": {
             "outlinewidth": 0,
             "ticks": ""
            },
            "colorscale": [
             [
              0,
              "#0d0887"
             ],
             [
              0.1111111111111111,
              "#46039f"
             ],
             [
              0.2222222222222222,
              "#7201a8"
             ],
             [
              0.3333333333333333,
              "#9c179e"
             ],
             [
              0.4444444444444444,
              "#bd3786"
             ],
             [
              0.5555555555555556,
              "#d8576b"
             ],
             [
              0.6666666666666666,
              "#ed7953"
             ],
             [
              0.7777777777777778,
              "#fb9f3a"
             ],
             [
              0.8888888888888888,
              "#fdca26"
             ],
             [
              1,
              "#f0f921"
             ]
            ],
            "type": "surface"
           }
          ],
          "table": [
           {
            "cells": {
             "fill": {
              "color": "#EBF0F8"
             },
             "line": {
              "color": "white"
             }
            },
            "header": {
             "fill": {
              "color": "#C8D4E3"
             },
             "line": {
              "color": "white"
             }
            },
            "type": "table"
           }
          ]
         },
         "layout": {
          "annotationdefaults": {
           "arrowcolor": "#2a3f5f",
           "arrowhead": 0,
           "arrowwidth": 1
          },
          "autotypenumbers": "strict",
          "coloraxis": {
           "colorbar": {
            "outlinewidth": 0,
            "ticks": ""
           }
          },
          "colorscale": {
           "diverging": [
            [
             0,
             "#8e0152"
            ],
            [
             0.1,
             "#c51b7d"
            ],
            [
             0.2,
             "#de77ae"
            ],
            [
             0.3,
             "#f1b6da"
            ],
            [
             0.4,
             "#fde0ef"
            ],
            [
             0.5,
             "#f7f7f7"
            ],
            [
             0.6,
             "#e6f5d0"
            ],
            [
             0.7,
             "#b8e186"
            ],
            [
             0.8,
             "#7fbc41"
            ],
            [
             0.9,
             "#4d9221"
            ],
            [
             1,
             "#276419"
            ]
           ],
           "sequential": [
            [
             0,
             "#0d0887"
            ],
            [
             0.1111111111111111,
             "#46039f"
            ],
            [
             0.2222222222222222,
             "#7201a8"
            ],
            [
             0.3333333333333333,
             "#9c179e"
            ],
            [
             0.4444444444444444,
             "#bd3786"
            ],
            [
             0.5555555555555556,
             "#d8576b"
            ],
            [
             0.6666666666666666,
             "#ed7953"
            ],
            [
             0.7777777777777778,
             "#fb9f3a"
            ],
            [
             0.8888888888888888,
             "#fdca26"
            ],
            [
             1,
             "#f0f921"
            ]
           ],
           "sequentialminus": [
            [
             0,
             "#0d0887"
            ],
            [
             0.1111111111111111,
             "#46039f"
            ],
            [
             0.2222222222222222,
             "#7201a8"
            ],
            [
             0.3333333333333333,
             "#9c179e"
            ],
            [
             0.4444444444444444,
             "#bd3786"
            ],
            [
             0.5555555555555556,
             "#d8576b"
            ],
            [
             0.6666666666666666,
             "#ed7953"
            ],
            [
             0.7777777777777778,
             "#fb9f3a"
            ],
            [
             0.8888888888888888,
             "#fdca26"
            ],
            [
             1,
             "#f0f921"
            ]
           ]
          },
          "colorway": [
           "#636efa",
           "#EF553B",
           "#00cc96",
           "#ab63fa",
           "#FFA15A",
           "#19d3f3",
           "#FF6692",
           "#B6E880",
           "#FF97FF",
           "#FECB52"
          ],
          "font": {
           "color": "#2a3f5f"
          },
          "geo": {
           "bgcolor": "white",
           "lakecolor": "white",
           "landcolor": "#E5ECF6",
           "showlakes": true,
           "showland": true,
           "subunitcolor": "white"
          },
          "hoverlabel": {
           "align": "left"
          },
          "hovermode": "closest",
          "mapbox": {
           "style": "light"
          },
          "paper_bgcolor": "white",
          "plot_bgcolor": "#E5ECF6",
          "polar": {
           "angularaxis": {
            "gridcolor": "white",
            "linecolor": "white",
            "ticks": ""
           },
           "bgcolor": "#E5ECF6",
           "radialaxis": {
            "gridcolor": "white",
            "linecolor": "white",
            "ticks": ""
           }
          },
          "scene": {
           "xaxis": {
            "backgroundcolor": "#E5ECF6",
            "gridcolor": "white",
            "gridwidth": 2,
            "linecolor": "white",
            "showbackground": true,
            "ticks": "",
            "zerolinecolor": "white"
           },
           "yaxis": {
            "backgroundcolor": "#E5ECF6",
            "gridcolor": "white",
            "gridwidth": 2,
            "linecolor": "white",
            "showbackground": true,
            "ticks": "",
            "zerolinecolor": "white"
           },
           "zaxis": {
            "backgroundcolor": "#E5ECF6",
            "gridcolor": "white",
            "gridwidth": 2,
            "linecolor": "white",
            "showbackground": true,
            "ticks": "",
            "zerolinecolor": "white"
           }
          },
          "shapedefaults": {
           "line": {
            "color": "#2a3f5f"
           }
          },
          "ternary": {
           "aaxis": {
            "gridcolor": "white",
            "linecolor": "white",
            "ticks": ""
           },
           "baxis": {
            "gridcolor": "white",
            "linecolor": "white",
            "ticks": ""
           },
           "bgcolor": "#E5ECF6",
           "caxis": {
            "gridcolor": "white",
            "linecolor": "white",
            "ticks": ""
           }
          },
          "title": {
           "x": 0.05
          },
          "xaxis": {
           "automargin": true,
           "gridcolor": "white",
           "linecolor": "white",
           "ticks": "",
           "title": {
            "standoff": 15
           },
           "zerolinecolor": "white",
           "zerolinewidth": 2
          },
          "yaxis": {
           "automargin": true,
           "gridcolor": "white",
           "linecolor": "white",
           "ticks": "",
           "title": {
            "standoff": 15
           },
           "zerolinecolor": "white",
           "zerolinewidth": 2
          }
         }
        },
        "title": {
         "text": "Games Growth"
        },
        "xaxis": {
         "anchor": "y",
         "domain": [
          0,
          1
         ],
         "title": {
          "text": "Category"
         }
        },
        "yaxis": {
         "anchor": "x",
         "domain": [
          0,
          1
         ],
         "title": {
          "text": "value"
         }
        }
       }
      }
     },
     "metadata": {},
     "output_type": "display_data"
    }
   ],
   "source": [
    "fig = px.line(growth,  y=[\"growth (30 days)\", \"growth (60 days)\"],title=\"Games Growth\",\n",
    "labels={\"category\":\"Category\", \"values\":\"Total Growth\"})\n",
    "fig.show()"
   ]
  }
 ],
 "metadata": {
  "interpreter": {
   "hash": "932bb86fe413b86d91a65f7f6d90fdc0b10b670ac0cfa9268af676852afa2c49"
  },
  "kernelspec": {
   "display_name": "Python 3.8.11 64-bit ('demo': conda)",
   "name": "python3"
  },
  "language_info": {
   "codemirror_mode": {
    "name": "ipython",
    "version": 3
   },
   "file_extension": ".py",
   "mimetype": "text/x-python",
   "name": "python",
   "nbconvert_exporter": "python",
   "pygments_lexer": "ipython3",
   "version": "3.8.11"
  },
  "orig_nbformat": 4
 },
 "nbformat": 4,
 "nbformat_minor": 2
}
