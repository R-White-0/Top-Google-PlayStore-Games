{
 "cells": [
  {
   "cell_type": "markdown",
   "source": [
    "## Dataset Privided by : Dhruvil Dave - https://www.kaggle.com/dhruvildave/top-play-store-games"
   ],
   "metadata": {}
  },
  {
   "cell_type": "markdown",
   "source": [
    "# Import Libraries"
   ],
   "metadata": {}
  },
  {
   "cell_type": "code",
   "execution_count": 130,
   "source": [
    "import pandas as pd\r\n",
    "import numpy as np\r\n",
    "import os\r\n",
    "\r\n",
    "import matplotlib.pyplot as plt\r\n",
    "import plotly.express as px\r\n",
    "import seaborn as sns\r\n",
    "import nbformat "
   ],
   "outputs": [],
   "metadata": {}
  },
  {
   "cell_type": "code",
   "execution_count": 131,
   "source": [
    "pwd = os.getcwd() \r\n",
    "filepath = pwd + \"/android-games.csv\"\r\n",
    "df = pd.read_csv(filepath)"
   ],
   "outputs": [],
   "metadata": {}
  },
  {
   "cell_type": "markdown",
   "source": [
    "## Viewing the Dataset\r\n",
    " lets read and check our dataset"
   ],
   "metadata": {}
  },
  {
   "cell_type": "code",
   "execution_count": 132,
   "source": [
    "print ('Data shape is: ', df.shape)"
   ],
   "outputs": [
    {
     "output_type": "stream",
     "name": "stdout",
     "text": [
      "Data shape is:  (1730, 15)\n"
     ]
    }
   ],
   "metadata": {}
  },
  {
   "cell_type": "markdown",
   "source": [
    "* so we have 1730 rows and 15 columns working with\r\n",
    "* lets take a look at the columns and general summary info."
   ],
   "metadata": {}
  },
  {
   "cell_type": "code",
   "execution_count": 133,
   "source": [
    "pd.DataFrame({\"Columns\": df.columns})"
   ],
   "outputs": [
    {
     "output_type": "execute_result",
     "data": {
      "text/html": [
       "<div>\n",
       "<style scoped>\n",
       "    .dataframe tbody tr th:only-of-type {\n",
       "        vertical-align: middle;\n",
       "    }\n",
       "\n",
       "    .dataframe tbody tr th {\n",
       "        vertical-align: top;\n",
       "    }\n",
       "\n",
       "    .dataframe thead th {\n",
       "        text-align: right;\n",
       "    }\n",
       "</style>\n",
       "<table border=\"1\" class=\"dataframe\">\n",
       "  <thead>\n",
       "    <tr style=\"text-align: right;\">\n",
       "      <th></th>\n",
       "      <th>Columns</th>\n",
       "    </tr>\n",
       "  </thead>\n",
       "  <tbody>\n",
       "    <tr>\n",
       "      <th>0</th>\n",
       "      <td>rank</td>\n",
       "    </tr>\n",
       "    <tr>\n",
       "      <th>1</th>\n",
       "      <td>title</td>\n",
       "    </tr>\n",
       "    <tr>\n",
       "      <th>2</th>\n",
       "      <td>total ratings</td>\n",
       "    </tr>\n",
       "    <tr>\n",
       "      <th>3</th>\n",
       "      <td>installs</td>\n",
       "    </tr>\n",
       "    <tr>\n",
       "      <th>4</th>\n",
       "      <td>average rating</td>\n",
       "    </tr>\n",
       "    <tr>\n",
       "      <th>5</th>\n",
       "      <td>growth (30 days)</td>\n",
       "    </tr>\n",
       "    <tr>\n",
       "      <th>6</th>\n",
       "      <td>growth (60 days)</td>\n",
       "    </tr>\n",
       "    <tr>\n",
       "      <th>7</th>\n",
       "      <td>price</td>\n",
       "    </tr>\n",
       "    <tr>\n",
       "      <th>8</th>\n",
       "      <td>category</td>\n",
       "    </tr>\n",
       "    <tr>\n",
       "      <th>9</th>\n",
       "      <td>5 star ratings</td>\n",
       "    </tr>\n",
       "    <tr>\n",
       "      <th>10</th>\n",
       "      <td>4 star ratings</td>\n",
       "    </tr>\n",
       "    <tr>\n",
       "      <th>11</th>\n",
       "      <td>3 star ratings</td>\n",
       "    </tr>\n",
       "    <tr>\n",
       "      <th>12</th>\n",
       "      <td>2 star ratings</td>\n",
       "    </tr>\n",
       "    <tr>\n",
       "      <th>13</th>\n",
       "      <td>1 star ratings</td>\n",
       "    </tr>\n",
       "    <tr>\n",
       "      <th>14</th>\n",
       "      <td>paid</td>\n",
       "    </tr>\n",
       "  </tbody>\n",
       "</table>\n",
       "</div>"
      ],
      "text/plain": [
       "             Columns\n",
       "0               rank\n",
       "1              title\n",
       "2      total ratings\n",
       "3           installs\n",
       "4     average rating\n",
       "5   growth (30 days)\n",
       "6   growth (60 days)\n",
       "7              price\n",
       "8           category\n",
       "9     5 star ratings\n",
       "10    4 star ratings\n",
       "11    3 star ratings\n",
       "12    2 star ratings\n",
       "13    1 star ratings\n",
       "14              paid"
      ]
     },
     "metadata": {},
     "execution_count": 133
    }
   ],
   "metadata": {}
  },
  {
   "cell_type": "code",
   "execution_count": 134,
   "source": [
    "df.isnull().sum()"
   ],
   "outputs": [
    {
     "output_type": "execute_result",
     "data": {
      "text/plain": [
       "rank                0\n",
       "title               0\n",
       "total ratings       0\n",
       "installs            0\n",
       "average rating      0\n",
       "growth (30 days)    0\n",
       "growth (60 days)    0\n",
       "price               0\n",
       "category            0\n",
       "5 star ratings      0\n",
       "4 star ratings      0\n",
       "3 star ratings      0\n",
       "2 star ratings      0\n",
       "1 star ratings      0\n",
       "paid                0\n",
       "dtype: int64"
      ]
     },
     "metadata": {},
     "execution_count": 134
    }
   ],
   "metadata": {}
  },
  {
   "cell_type": "markdown",
   "source": [
    "Great there are no missing vlaues within this dataset. That saves us some time from dealing with NAN's.\r\n",
    "* Lets sample our dataset to explore what it contains.\r\n",
    "* lets sample the first 8 rows."
   ],
   "metadata": {}
  },
  {
   "cell_type": "code",
   "execution_count": 135,
   "source": [
    "df.sample(n=8)"
   ],
   "outputs": [
    {
     "output_type": "execute_result",
     "data": {
      "text/html": [
       "<div>\n",
       "<style scoped>\n",
       "    .dataframe tbody tr th:only-of-type {\n",
       "        vertical-align: middle;\n",
       "    }\n",
       "\n",
       "    .dataframe tbody tr th {\n",
       "        vertical-align: top;\n",
       "    }\n",
       "\n",
       "    .dataframe thead th {\n",
       "        text-align: right;\n",
       "    }\n",
       "</style>\n",
       "<table border=\"1\" class=\"dataframe\">\n",
       "  <thead>\n",
       "    <tr style=\"text-align: right;\">\n",
       "      <th></th>\n",
       "      <th>rank</th>\n",
       "      <th>title</th>\n",
       "      <th>total ratings</th>\n",
       "      <th>installs</th>\n",
       "      <th>average rating</th>\n",
       "      <th>growth (30 days)</th>\n",
       "      <th>growth (60 days)</th>\n",
       "      <th>price</th>\n",
       "      <th>category</th>\n",
       "      <th>5 star ratings</th>\n",
       "      <th>4 star ratings</th>\n",
       "      <th>3 star ratings</th>\n",
       "      <th>2 star ratings</th>\n",
       "      <th>1 star ratings</th>\n",
       "      <th>paid</th>\n",
       "    </tr>\n",
       "  </thead>\n",
       "  <tbody>\n",
       "    <tr>\n",
       "      <th>648</th>\n",
       "      <td>23</td>\n",
       "      <td>PewDiePie's Tuber Simulator</td>\n",
       "      <td>2001718</td>\n",
       "      <td>10.0 M</td>\n",
       "      <td>4</td>\n",
       "      <td>0.1</td>\n",
       "      <td>0.2</td>\n",
       "      <td>0.0</td>\n",
       "      <td>GAME CASUAL</td>\n",
       "      <td>1671110</td>\n",
       "      <td>180104</td>\n",
       "      <td>55116</td>\n",
       "      <td>21918</td>\n",
       "      <td>73468</td>\n",
       "      <td>False</td>\n",
       "    </tr>\n",
       "    <tr>\n",
       "      <th>27</th>\n",
       "      <td>28</td>\n",
       "      <td>Call of Duty®: Mobile - Garena</td>\n",
       "      <td>2695923</td>\n",
       "      <td>10.0 M</td>\n",
       "      <td>4</td>\n",
       "      <td>3.2</td>\n",
       "      <td>5.5</td>\n",
       "      <td>0.0</td>\n",
       "      <td>GAME ACTION</td>\n",
       "      <td>1922909</td>\n",
       "      <td>223625</td>\n",
       "      <td>133776</td>\n",
       "      <td>79762</td>\n",
       "      <td>335849</td>\n",
       "      <td>False</td>\n",
       "    </tr>\n",
       "    <tr>\n",
       "      <th>1014</th>\n",
       "      <td>89</td>\n",
       "      <td>Match 3D - Matching Puzzle Game</td>\n",
       "      <td>420325</td>\n",
       "      <td>10.0 M</td>\n",
       "      <td>4</td>\n",
       "      <td>4.6</td>\n",
       "      <td>11.2</td>\n",
       "      <td>0.0</td>\n",
       "      <td>GAME PUZZLE</td>\n",
       "      <td>286657</td>\n",
       "      <td>61968</td>\n",
       "      <td>16908</td>\n",
       "      <td>13744</td>\n",
       "      <td>41045</td>\n",
       "      <td>False</td>\n",
       "    </tr>\n",
       "    <tr>\n",
       "      <th>300</th>\n",
       "      <td>1</td>\n",
       "      <td>Ludo King™</td>\n",
       "      <td>7512316</td>\n",
       "      <td>500.0 M</td>\n",
       "      <td>4</td>\n",
       "      <td>4.0</td>\n",
       "      <td>6.5</td>\n",
       "      <td>0.0</td>\n",
       "      <td>GAME BOARD</td>\n",
       "      <td>5291589</td>\n",
       "      <td>773193</td>\n",
       "      <td>369290</td>\n",
       "      <td>204053</td>\n",
       "      <td>874188</td>\n",
       "      <td>False</td>\n",
       "    </tr>\n",
       "    <tr>\n",
       "      <th>939</th>\n",
       "      <td>14</td>\n",
       "      <td>Candy Crush Jelly Saga</td>\n",
       "      <td>1652333</td>\n",
       "      <td>100.0 M</td>\n",
       "      <td>4</td>\n",
       "      <td>0.5</td>\n",
       "      <td>1.1</td>\n",
       "      <td>0.0</td>\n",
       "      <td>GAME PUZZLE</td>\n",
       "      <td>1199685</td>\n",
       "      <td>241711</td>\n",
       "      <td>99714</td>\n",
       "      <td>31883</td>\n",
       "      <td>79338</td>\n",
       "      <td>False</td>\n",
       "    </tr>\n",
       "    <tr>\n",
       "      <th>1055</th>\n",
       "      <td>30</td>\n",
       "      <td>CSR Classics</td>\n",
       "      <td>899964</td>\n",
       "      <td>10.0 M</td>\n",
       "      <td>4</td>\n",
       "      <td>0.0</td>\n",
       "      <td>0.1</td>\n",
       "      <td>0.0</td>\n",
       "      <td>GAME RACING</td>\n",
       "      <td>697561</td>\n",
       "      <td>102310</td>\n",
       "      <td>38678</td>\n",
       "      <td>12966</td>\n",
       "      <td>48447</td>\n",
       "      <td>False</td>\n",
       "    </tr>\n",
       "    <tr>\n",
       "      <th>1394</th>\n",
       "      <td>69</td>\n",
       "      <td>Homerun Battle 2</td>\n",
       "      <td>413619</td>\n",
       "      <td>5.0 M</td>\n",
       "      <td>4</td>\n",
       "      <td>0.0</td>\n",
       "      <td>0.0</td>\n",
       "      <td>0.0</td>\n",
       "      <td>GAME SPORTS</td>\n",
       "      <td>343505</td>\n",
       "      <td>38787</td>\n",
       "      <td>12196</td>\n",
       "      <td>3675</td>\n",
       "      <td>15453</td>\n",
       "      <td>False</td>\n",
       "    </tr>\n",
       "    <tr>\n",
       "      <th>890</th>\n",
       "      <td>65</td>\n",
       "      <td>Marshmello Music Dance</td>\n",
       "      <td>64028</td>\n",
       "      <td>10.0 M</td>\n",
       "      <td>4</td>\n",
       "      <td>3.0</td>\n",
       "      <td>6.0</td>\n",
       "      <td>0.0</td>\n",
       "      <td>GAME MUSIC</td>\n",
       "      <td>52167</td>\n",
       "      <td>3567</td>\n",
       "      <td>2048</td>\n",
       "      <td>1418</td>\n",
       "      <td>4826</td>\n",
       "      <td>False</td>\n",
       "    </tr>\n",
       "  </tbody>\n",
       "</table>\n",
       "</div>"
      ],
      "text/plain": [
       "      rank                            title  total ratings installs  \\\n",
       "648     23      PewDiePie's Tuber Simulator        2001718   10.0 M   \n",
       "27      28   Call of Duty®: Mobile - Garena        2695923   10.0 M   \n",
       "1014    89  Match 3D - Matching Puzzle Game         420325   10.0 M   \n",
       "300      1                       Ludo King™        7512316  500.0 M   \n",
       "939     14           Candy Crush Jelly Saga        1652333  100.0 M   \n",
       "1055    30                     CSR Classics         899964   10.0 M   \n",
       "1394    69                 Homerun Battle 2         413619    5.0 M   \n",
       "890     65           Marshmello Music Dance          64028   10.0 M   \n",
       "\n",
       "      average rating  growth (30 days)  growth (60 days)  price     category  \\\n",
       "648                4               0.1               0.2    0.0  GAME CASUAL   \n",
       "27                 4               3.2               5.5    0.0  GAME ACTION   \n",
       "1014               4               4.6              11.2    0.0  GAME PUZZLE   \n",
       "300                4               4.0               6.5    0.0   GAME BOARD   \n",
       "939                4               0.5               1.1    0.0  GAME PUZZLE   \n",
       "1055               4               0.0               0.1    0.0  GAME RACING   \n",
       "1394               4               0.0               0.0    0.0  GAME SPORTS   \n",
       "890                4               3.0               6.0    0.0   GAME MUSIC   \n",
       "\n",
       "      5 star ratings  4 star ratings  3 star ratings  2 star ratings  \\\n",
       "648          1671110          180104           55116           21918   \n",
       "27           1922909          223625          133776           79762   \n",
       "1014          286657           61968           16908           13744   \n",
       "300          5291589          773193          369290          204053   \n",
       "939          1199685          241711           99714           31883   \n",
       "1055          697561          102310           38678           12966   \n",
       "1394          343505           38787           12196            3675   \n",
       "890            52167            3567            2048            1418   \n",
       "\n",
       "      1 star ratings   paid  \n",
       "648            73468  False  \n",
       "27            335849  False  \n",
       "1014           41045  False  \n",
       "300           874188  False  \n",
       "939            79338  False  \n",
       "1055           48447  False  \n",
       "1394           15453  False  \n",
       "890             4826  False  "
      ]
     },
     "metadata": {},
     "execution_count": 135
    }
   ],
   "metadata": {}
  },
  {
   "cell_type": "code",
   "execution_count": 136,
   "source": [
    "df.info()"
   ],
   "outputs": [
    {
     "output_type": "stream",
     "name": "stdout",
     "text": [
      "<class 'pandas.core.frame.DataFrame'>\n",
      "RangeIndex: 1730 entries, 0 to 1729\n",
      "Data columns (total 15 columns):\n",
      " #   Column            Non-Null Count  Dtype  \n",
      "---  ------            --------------  -----  \n",
      " 0   rank              1730 non-null   int64  \n",
      " 1   title             1730 non-null   object \n",
      " 2   total ratings     1730 non-null   int64  \n",
      " 3   installs          1730 non-null   object \n",
      " 4   average rating    1730 non-null   int64  \n",
      " 5   growth (30 days)  1730 non-null   float64\n",
      " 6   growth (60 days)  1730 non-null   float64\n",
      " 7   price             1730 non-null   float64\n",
      " 8   category          1730 non-null   object \n",
      " 9   5 star ratings    1730 non-null   int64  \n",
      " 10  4 star ratings    1730 non-null   int64  \n",
      " 11  3 star ratings    1730 non-null   int64  \n",
      " 12  2 star ratings    1730 non-null   int64  \n",
      " 13  1 star ratings    1730 non-null   int64  \n",
      " 14  paid              1730 non-null   bool   \n",
      "dtypes: bool(1), float64(3), int64(8), object(3)\n",
      "memory usage: 191.0+ KB\n"
     ]
    }
   ],
   "metadata": {}
  },
  {
   "cell_type": "markdown",
   "source": [
    "The install column can be useful for analysis. However note that it's a object type .\r\n",
    "It may be more useful if it were an *integer (int)* or *float*.\r\n",
    "*  May need to reformat this later on."
   ],
   "metadata": {}
  },
  {
   "cell_type": "markdown",
   "source": [
    "# Summary so far: \r\n",
    "*   The dataset consists of games from different categories, ratings and number of installs.\r\n",
    "*   there are no NAN / null values.\r\n",
    "*   **installs** can be useful for analysis. It would be good to reformat it to a numerical variable.\r\n",
    "* **category** is a categorical variable, making it useful for groupings.\r\n",
    "* numerical varibles should be paid close attentions to.\r\n",
    "* should some columns be dropped ?"
   ],
   "metadata": {}
  },
  {
   "cell_type": "code",
   "execution_count": 137,
   "source": [
    "df['price'].value_counts()"
   ],
   "outputs": [
    {
     "output_type": "execute_result",
     "data": {
      "text/plain": [
       "0.00    1723\n",
       "1.99       3\n",
       "7.49       1\n",
       "2.99       1\n",
       "1.49       1\n",
       "0.99       1\n",
       "Name: price, dtype: int64"
      ]
     },
     "metadata": {},
     "execution_count": 137
    }
   ],
   "metadata": {}
  },
  {
   "cell_type": "code",
   "execution_count": 138,
   "source": [
    "df['paid'].value_counts()"
   ],
   "outputs": [
    {
     "output_type": "execute_result",
     "data": {
      "text/plain": [
       "False    1723\n",
       "True        7\n",
       "Name: paid, dtype: int64"
      ]
     },
     "metadata": {},
     "execution_count": 138
    }
   ],
   "metadata": {}
  },
  {
   "cell_type": "markdown",
   "source": [
    "## Dropping Price column\r\n",
    "we can drop the price column since most games are free and only 7 aren't, also the price of a game isn't relevant to the EDA."
   ],
   "metadata": {}
  },
  {
   "cell_type": "code",
   "execution_count": 139,
   "source": [
    "df.drop('price', axis=1, inplace=True)"
   ],
   "outputs": [],
   "metadata": {}
  },
  {
   "cell_type": "code",
   "execution_count": 140,
   "source": [
    "df.info()"
   ],
   "outputs": [
    {
     "output_type": "stream",
     "name": "stdout",
     "text": [
      "<class 'pandas.core.frame.DataFrame'>\n",
      "RangeIndex: 1730 entries, 0 to 1729\n",
      "Data columns (total 14 columns):\n",
      " #   Column            Non-Null Count  Dtype  \n",
      "---  ------            --------------  -----  \n",
      " 0   rank              1730 non-null   int64  \n",
      " 1   title             1730 non-null   object \n",
      " 2   total ratings     1730 non-null   int64  \n",
      " 3   installs          1730 non-null   object \n",
      " 4   average rating    1730 non-null   int64  \n",
      " 5   growth (30 days)  1730 non-null   float64\n",
      " 6   growth (60 days)  1730 non-null   float64\n",
      " 7   category          1730 non-null   object \n",
      " 8   5 star ratings    1730 non-null   int64  \n",
      " 9   4 star ratings    1730 non-null   int64  \n",
      " 10  3 star ratings    1730 non-null   int64  \n",
      " 11  2 star ratings    1730 non-null   int64  \n",
      " 12  1 star ratings    1730 non-null   int64  \n",
      " 13  paid              1730 non-null   bool   \n",
      "dtypes: bool(1), float64(2), int64(8), object(3)\n",
      "memory usage: 177.5+ KB\n"
     ]
    }
   ],
   "metadata": {}
  },
  {
   "cell_type": "markdown",
   "source": [
    "## Categories"
   ],
   "metadata": {}
  },
  {
   "cell_type": "code",
   "execution_count": 141,
   "source": [
    "df['category'].value_counts()"
   ],
   "outputs": [
    {
     "output_type": "execute_result",
     "data": {
      "text/plain": [
       "GAME CARD            126\n",
       "GAME WORD            104\n",
       "GAME PUZZLE          100\n",
       "GAME TRIVIA          100\n",
       "GAME STRATEGY        100\n",
       "GAME SPORTS          100\n",
       "GAME SIMULATION      100\n",
       "GAME ROLE PLAYING    100\n",
       "GAME RACING          100\n",
       "GAME ACTION          100\n",
       "GAME ADVENTURE       100\n",
       "GAME EDUCATIONAL     100\n",
       "GAME CASUAL          100\n",
       "GAME CASINO          100\n",
       "GAME BOARD           100\n",
       "GAME ARCADE          100\n",
       "GAME MUSIC           100\n",
       "Name: category, dtype: int64"
      ]
     },
     "metadata": {},
     "execution_count": 141
    }
   ],
   "metadata": {}
  },
  {
   "cell_type": "code",
   "execution_count": 142,
   "source": [
    "df['category'].value_counts(ascending=True).plot(kind='barh', title='Game Categories')"
   ],
   "outputs": [
    {
     "output_type": "execute_result",
     "data": {
      "text/plain": [
       "<AxesSubplot:title={'center':'Game Categories'}>"
      ]
     },
     "metadata": {},
     "execution_count": 142
    },
    {
     "output_type": "display_data",
     "data": {
      "image/png": "[encoded data removed]",
      "text/plain": [
       "<Figure size 432x288 with 1 Axes>"
      ]
     },
     "metadata": {}
    }
   ],
   "metadata": {}
  },
  {
   "cell_type": "code",
   "execution_count": 143,
   "source": [
    "plt.figure(figsize=(30,5))\r\n",
    "sns.set_theme(style=\"darkgrid\")\r\n",
    "sns.countplot(df['category'])\r\n",
    "plt.title('Number of Games by Category')\r\n",
    "plt.xlabel('game category')\r\n",
    "plt.ylabel('# of games')"
   ],
   "outputs": [
    {
     "output_type": "stream",
     "name": "stderr",
     "text": [
      "C:\\Users\\ro-ja\\anaconda3\\envs\\demo\\lib\\site-packages\\seaborn\\_decorators.py:36: FutureWarning:\n",
      "\n",
      "Pass the following variable as a keyword arg: x. From version 0.12, the only valid positional argument will be `data`, and passing other arguments without an explicit keyword will result in an error or misinterpretation.\n",
      "\n"
     ]
    },
    {
     "output_type": "execute_result",
     "data": {
      "text/plain": [
       "Text(0, 0.5, '# of games')"
      ]
     },
     "metadata": {},
     "execution_count": 143
    },
    {
     "output_type": "display_data",
     "data": {
      "image/png": "[encoded data removed]",
      "text/plain": [
       "<Figure size 2160x360 with 1 Axes>"
      ]
     },
     "metadata": {}
    }
   ],
   "metadata": {}
  },
  {
   "cell_type": "code",
   "execution_count": 144,
   "source": [
    "# using the plotly.express library\r\n",
    "fig = px.histogram(df, x=\"category\", title=\"Game Categories\", labels={\"category\": \"Categories\"})\r\n",
    "fig.update_layout(xaxis={\"categoryorder\":\"total descending\"})\r\n",
    "fig.show()"
   ],
   "outputs": [
    {
     "output_type": "display_data",
     "data": {
      "application/vnd.plotly.v1+json": {
       "config": {
        "plotlyServerURL": "https://plot.ly"
       },
       "data": [
        {
         "alignmentgroup": "True",
         "bingroup": "x",
         "hovertemplate": "Categories=%{x}<br>count=%{y}<extra></extra>",
         "legendgroup": "",
         "marker": {
          "color": "#636efa",
          "pattern": {
           "shape": ""
          }
         },
         "name": "",
         "offsetgroup": "",
         "orientation": "v",
         "showlegend": false,
         "type": "histogram",
         "x": [
          "GAME ACTION",
          "GAME ACTION",
          "GAME ACTION",
          "GAME ACTION",
          "GAME ACTION",
          "GAME ACTION",
          "GAME ACTION",
          "GAME ACTION",
          "GAME ACTION",
          "GAME ACTION",
          "GAME ACTION",
          "GAME ACTION",
          "GAME ACTION",
          "GAME ACTION",
          "GAME ACTION",
          "GAME ACTION",
          "GAME ACTION",
          "GAME ACTION",
          "GAME ACTION",
          "GAME ACTION",
          "GAME ACTION",
          "GAME ACTION",
          "GAME ACTION",
          "GAME ACTION",
          "GAME ACTION",
          "GAME ACTION",
          "GAME ACTION",
          "GAME ACTION",
          "GAME ACTION",
          "GAME ACTION",
          "GAME ACTION",
          "GAME ACTION",
          "GAME ACTION",
          "GAME ACTION",
          "GAME ACTION",
          "GAME ACTION",
          "GAME ACTION",
          "GAME ACTION",
          "GAME ACTION",
          "GAME ACTION",
          "GAME ACTION",
          "GAME ACTION",
          "GAME ACTION",
          "GAME ACTION",
          "GAME ACTION",
          "GAME ACTION",
          "GAME ACTION",
          "GAME ACTION",
          "GAME ACTION",
          "GAME ACTION",
          "GAME ACTION",
          "GAME ACTION",
          "GAME ACTION",
          "GAME ACTION",
          "GAME ACTION",
          "GAME ACTION",
          "GAME ACTION",
          "GAME ACTION",
          "GAME ACTION",
          "GAME ACTION",
          "GAME ACTION",
          "GAME ACTION",
          "GAME ACTION",
          "GAME ACTION",
          "GAME ACTION",
          "GAME ACTION",
          "GAME ACTION",
          "GAME ACTION",
          "GAME ACTION",
          "GAME ACTION",
          "GAME ACTION",
          "GAME ACTION",
          "GAME ACTION",
          "GAME ACTION",
          "GAME ACTION",
          "GAME ACTION",
          "GAME ACTION",
          "GAME ACTION",
          "GAME ACTION",
          "GAME ACTION",
          "GAME ACTION",
          "GAME ACTION",
          "GAME ACTION",
          "GAME ACTION",
          "GAME ACTION",
          "GAME ACTION",
          "GAME ACTION",
          "GAME ACTION",
          "GAME ACTION",
          "GAME ACTION",
          "GAME ACTION",
          "GAME ACTION",
          "GAME ACTION",
          "GAME ACTION",
          "GAME ACTION",
          "GAME ACTION",
          "GAME ACTION",
          "GAME ACTION",
          "GAME ACTION",
          "GAME ACTION",
          "GAME ADVENTURE",
          "GAME ADVENTURE",
          "GAME ADVENTURE",
          "GAME ADVENTURE",
          "GAME ADVENTURE",
          "GAME ADVENTURE",
          "GAME ADVENTURE",
          "GAME ADVENTURE",
          "GAME ADVENTURE",
          "GAME ADVENTURE",
          "GAME ADVENTURE",
          "GAME ADVENTURE",
          "GAME ADVENTURE",
          "GAME ADVENTURE",
          "GAME ADVENTURE",
          "GAME ADVENTURE",
          "GAME ADVENTURE",
          "GAME ADVENTURE",
          "GAME ADVENTURE",
          "GAME ADVENTURE",
          "GAME ADVENTURE",
          "GAME ADVENTURE",
          "GAME ADVENTURE",
          "GAME ADVENTURE",
          "GAME ADVENTURE",
          "GAME ADVENTURE",
          "GAME ADVENTURE",
          "GAME ADVENTURE",
          "GAME ADVENTURE",
          "GAME ADVENTURE",
          "GAME ADVENTURE",
          "GAME ADVENTURE",
          "GAME ADVENTURE",
          "GAME ADVENTURE",
          "GAME ADVENTURE",
          "GAME ADVENTURE",
          "GAME ADVENTURE",
          "GAME ADVENTURE",
          "GAME ADVENTURE",
          "GAME ADVENTURE",
          "GAME ADVENTURE",
          "GAME ADVENTURE",
          "GAME ADVENTURE",
          "GAME ADVENTURE",
          "GAME ADVENTURE",
          "GAME ADVENTURE",
          "GAME ADVENTURE",
          "GAME ADVENTURE",
          "GAME ADVENTURE",
          "GAME ADVENTURE",
          "GAME ADVENTURE",
          "GAME ADVENTURE",
          "GAME ADVENTURE",
          "GAME ADVENTURE",
          "GAME ADVENTURE",
          "GAME ADVENTURE",
          "GAME ADVENTURE",
          "GAME ADVENTURE",
          "GAME ADVENTURE",
          "GAME ADVENTURE",
          "GAME ADVENTURE",
          "GAME ADVENTURE",
          "GAME ADVENTURE",
          "GAME ADVENTURE",
          "GAME ADVENTURE",
          "GAME ADVENTURE",
          "GAME ADVENTURE",
          "GAME ADVENTURE",
          "GAME ADVENTURE",
          "GAME ADVENTURE",
          "GAME ADVENTURE",
          "GAME ADVENTURE",
          "GAME ADVENTURE",
          "GAME ADVENTURE",
          "GAME ADVENTURE",
          "GAME ADVENTURE",
          "GAME ADVENTURE",
          "GAME ADVENTURE",
          "GAME ADVENTURE",
          "GAME ADVENTURE",
          "GAME ADVENTURE",
          "GAME ADVENTURE",
          "GAME ADVENTURE",
          "GAME ADVENTURE",
          "GAME ADVENTURE",
          "GAME ADVENTURE",
          "GAME ADVENTURE",
          "GAME ADVENTURE",
          "GAME ADVENTURE",
          "GAME ADVENTURE",
          "GAME ADVENTURE",
          "GAME ADVENTURE",
          "GAME ADVENTURE",
          "GAME ADVENTURE",
          "GAME ADVENTURE",
          "GAME ADVENTURE",
          "GAME ADVENTURE",
          "GAME ADVENTURE",
          "GAME ADVENTURE",
          "GAME ADVENTURE",
          "GAME ARCADE",
          "GAME ARCADE",
          "GAME ARCADE",
          "GAME ARCADE",
          "GAME ARCADE",
          "GAME ARCADE",
          "GAME ARCADE",
          "GAME ARCADE",
          "GAME ARCADE",
          "GAME ARCADE",
          "GAME ARCADE",
          "GAME ARCADE",
          "GAME ARCADE",
          "GAME ARCADE",
          "GAME ARCADE",
          "GAME ARCADE",
          "GAME ARCADE",
          "GAME ARCADE",
          "GAME ARCADE",
          "GAME ARCADE",
          "GAME ARCADE",
          "GAME ARCADE",
          "GAME ARCADE",
          "GAME ARCADE",
          "GAME ARCADE",
          "GAME ARCADE",
          "GAME ARCADE",
          "GAME ARCADE",
          "GAME ARCADE",
          "GAME ARCADE",
          "GAME ARCADE",
          "GAME ARCADE",
          "GAME ARCADE",
          "GAME ARCADE",
          "GAME ARCADE",
          "GAME ARCADE",
          "GAME ARCADE",
          "GAME ARCADE",
          "GAME ARCADE",
          "GAME ARCADE",
          "GAME ARCADE",
          "GAME ARCADE",
          "GAME ARCADE",
          "GAME ARCADE",
          "GAME ARCADE",
          "GAME ARCADE",
          "GAME ARCADE",
          "GAME ARCADE",
          "GAME ARCADE",
          "GAME ARCADE",
          "GAME ARCADE",
          "GAME ARCADE",
          "GAME ARCADE",
          "GAME ARCADE",
          "GAME ARCADE",
          "GAME ARCADE",
          "GAME ARCADE",
          "GAME ARCADE",
          "GAME ARCADE",
          "GAME ARCADE",
          "GAME ARCADE",
          "GAME ARCADE",
          "GAME ARCADE",
          "GAME ARCADE",
          "GAME ARCADE",
          "GAME ARCADE",
          "GAME ARCADE",
          "GAME ARCADE",
          "GAME ARCADE",
          "GAME ARCADE",
          "GAME ARCADE",
          "GAME ARCADE",
          "GAME ARCADE",
          "GAME ARCADE",
          "GAME ARCADE",
          "GAME ARCADE",
          "GAME ARCADE",
          "GAME ARCADE",
          "GAME ARCADE",
          "GAME ARCADE",
          "GAME ARCADE",
          "GAME ARCADE",
          "GAME ARCADE",
          "GAME ARCADE",
          "GAME ARCADE",
          "GAME ARCADE",
          "GAME ARCADE",
          "GAME ARCADE",
          "GAME ARCADE",
          "GAME ARCADE",
          "GAME ARCADE",
          "GAME ARCADE",
          "GAME ARCADE",
          "GAME ARCADE",
          "GAME ARCADE",
          "GAME ARCADE",
          "GAME ARCADE",
          "GAME ARCADE",
          "GAME ARCADE",
          "GAME ARCADE",
          "GAME BOARD",
          "GAME BOARD",
          "GAME BOARD",
          "GAME BOARD",
          "GAME BOARD",
          "GAME BOARD",
          "GAME BOARD",
          "GAME BOARD",
          "GAME BOARD",
          "GAME BOARD",
          "GAME BOARD",
          "GAME BOARD",
          "GAME BOARD",
          "GAME BOARD",
          "GAME BOARD",
          "GAME BOARD",
          "GAME BOARD",
          "GAME BOARD",
          "GAME BOARD",
          "GAME BOARD",
          "GAME BOARD",
          "GAME BOARD",
          "GAME BOARD",
          "GAME BOARD",
          "GAME BOARD",
          "GAME BOARD",
          "GAME BOARD",
          "GAME BOARD",
          "GAME BOARD",
          "GAME BOARD",
          "GAME BOARD",
          "GAME BOARD",
          "GAME BOARD",
          "GAME BOARD",
          "GAME BOARD",
          "GAME BOARD",
          "GAME BOARD",
          "GAME BOARD",
          "GAME BOARD",
          "GAME BOARD",
          "GAME BOARD",
          "GAME BOARD",
          "GAME BOARD",
          "GAME BOARD",
          "GAME BOARD",
          "GAME BOARD",
          "GAME BOARD",
          "GAME BOARD",
          "GAME BOARD",
          "GAME BOARD",
          "GAME BOARD",
          "GAME BOARD",
          "GAME BOARD",
          "GAME BOARD",
          "GAME BOARD",
          "GAME BOARD",
          "GAME BOARD",
          "GAME BOARD",
          "GAME BOARD",
          "GAME BOARD",
          "GAME BOARD",
          "GAME BOARD",
          "GAME BOARD",
          "GAME BOARD",
          "GAME BOARD",
          "GAME BOARD",
          "GAME BOARD",
          "GAME BOARD",
          "GAME BOARD",
          "GAME BOARD",
          "GAME BOARD",
          "GAME BOARD",
          "GAME BOARD",
          "GAME BOARD",
          "GAME BOARD",
          "GAME BOARD",
          "GAME BOARD",
          "GAME BOARD",
          "GAME BOARD",
          "GAME BOARD",
          "GAME BOARD",
          "GAME BOARD",
          "GAME BOARD",
          "GAME BOARD",
          "GAME BOARD",
          "GAME BOARD",
          "GAME BOARD",
          "GAME BOARD",
          "GAME BOARD",
          "GAME BOARD",
          "GAME BOARD",
          "GAME BOARD",
          "GAME BOARD",
          "GAME BOARD",
          "GAME BOARD",
          "GAME BOARD",
          "GAME BOARD",
          "GAME BOARD",
          "GAME BOARD",
          "GAME BOARD",
          "GAME CARD",
          "GAME CARD",
          "GAME CARD",
          "GAME CARD",
          "GAME CARD",
          "GAME CARD",
          "GAME CARD",
          "GAME CARD",
          "GAME CARD",
          "GAME CARD",
          "GAME CARD",
          "GAME CARD",
          "GAME CARD",
          "GAME CARD",
          "GAME CARD",
          "GAME CARD",
          "GAME CARD",
          "GAME CARD",
          "GAME CARD",
          "GAME CARD",
          "GAME CARD",
          "GAME CARD",
          "GAME CARD",
          "GAME CARD",
          "GAME CARD",
          "GAME CARD",
          "GAME CARD",
          "GAME CARD",
          "GAME CARD",
          "GAME CARD",
          "GAME CARD",
          "GAME CARD",
          "GAME CARD",
          "GAME CARD",
          "GAME CARD",
          "GAME CARD",
          "GAME CARD",
          "GAME CARD",
          "GAME CARD",
          "GAME CARD",
          "GAME CARD",
          "GAME CARD",
          "GAME CARD",
          "GAME CARD",
          "GAME CARD",
          "GAME CARD",
          "GAME CARD",
          "GAME CARD",
          "GAME CARD",
          "GAME CARD",
          "GAME CARD",
          "GAME CARD",
          "GAME CARD",
          "GAME CARD",
          "GAME CARD",
          "GAME CARD",
          "GAME CARD",
          "GAME CARD",
          "GAME CARD",
          "GAME CARD",
          "GAME CARD",
          "GAME CARD",
          "GAME CARD",
          "GAME CARD",
          "GAME CARD",
          "GAME CARD",
          "GAME CARD",
          "GAME CARD",
          "GAME CARD",
          "GAME CARD",
          "GAME CARD",
          "GAME CARD",
          "GAME CARD",
          "GAME CARD",
          "GAME CARD",
          "GAME CARD",
          "GAME CARD",
          "GAME CARD",
          "GAME CARD",
          "GAME CARD",
          "GAME CARD",
          "GAME CARD",
          "GAME CARD",
          "GAME CARD",
          "GAME CARD",
          "GAME CARD",
          "GAME CARD",
          "GAME CARD",
          "GAME CARD",
          "GAME CARD",
          "GAME CARD",
          "GAME CARD",
          "GAME CARD",
          "GAME CARD",
          "GAME CARD",
          "GAME CARD",
          "GAME CARD",
          "GAME CARD",
          "GAME CARD",
          "GAME CARD",
          "GAME CARD",
          "GAME CARD",
          "GAME CARD",
          "GAME CARD",
          "GAME CARD",
          "GAME CARD",
          "GAME CARD",
          "GAME CARD",
          "GAME CARD",
          "GAME CARD",
          "GAME CARD",
          "GAME CARD",
          "GAME CARD",
          "GAME CARD",
          "GAME CARD",
          "GAME CARD",
          "GAME CARD",
          "GAME CARD",
          "GAME CARD",
          "GAME CARD",
          "GAME CARD",
          "GAME CARD",
          "GAME CARD",
          "GAME CARD",
          "GAME CARD",
          "GAME CARD",
          "GAME CASINO",
          "GAME CASINO",
          "GAME CASINO",
          "GAME CASINO",
          "GAME CASINO",
          "GAME CASINO",
          "GAME CASINO",
          "GAME CASINO",
          "GAME CASINO",
          "GAME CASINO",
          "GAME CASINO",
          "GAME CASINO",
          "GAME CASINO",
          "GAME CASINO",
          "GAME CASINO",
          "GAME CASINO",
          "GAME CASINO",
          "GAME CASINO",
          "GAME CASINO",
          "GAME CASINO",
          "GAME CASINO",
          "GAME CASINO",
          "GAME CASINO",
          "GAME CASINO",
          "GAME CASINO",
          "GAME CASINO",
          "GAME CASINO",
          "GAME CASINO",
          "GAME CASINO",
          "GAME CASINO",
          "GAME CASINO",
          "GAME CASINO",
          "GAME CASINO",
          "GAME CASINO",
          "GAME CASINO",
          "GAME CASINO",
          "GAME CASINO",
          "GAME CASINO",
          "GAME CASINO",
          "GAME CASINO",
          "GAME CASINO",
          "GAME CASINO",
          "GAME CASINO",
          "GAME CASINO",
          "GAME CASINO",
          "GAME CASINO",
          "GAME CASINO",
          "GAME CASINO",
          "GAME CASINO",
          "GAME CASINO",
          "GAME CASINO",
          "GAME CASINO",
          "GAME CASINO",
          "GAME CASINO",
          "GAME CASINO",
          "GAME CASINO",
          "GAME CASINO",
          "GAME CASINO",
          "GAME CASINO",
          "GAME CASINO",
          "GAME CASINO",
          "GAME CASINO",
          "GAME CASINO",
          "GAME CASINO",
          "GAME CASINO",
          "GAME CASINO",
          "GAME CASINO",
          "GAME CASINO",
          "GAME CASINO",
          "GAME CASINO",
          "GAME CASINO",
          "GAME CASINO",
          "GAME CASINO",
          "GAME CASINO",
          "GAME CASINO",
          "GAME CASINO",
          "GAME CASINO",
          "GAME CASINO",
          "GAME CASINO",
          "GAME CASINO",
          "GAME CASINO",
          "GAME CASINO",
          "GAME CASINO",
          "GAME CASINO",
          "GAME CASINO",
          "GAME CASINO",
          "GAME CASINO",
          "GAME CASINO",
          "GAME CASINO",
          "GAME CASINO",
          "GAME CASINO",
          "GAME CASINO",
          "GAME CASINO",
          "GAME CASINO",
          "GAME CASINO",
          "GAME CASINO",
          "GAME CASINO",
          "GAME CASINO",
          "GAME CASINO",
          "GAME CASINO",
          "GAME CASUAL",
          "GAME CASUAL",
          "GAME CASUAL",
          "GAME CASUAL",
          "GAME CASUAL",
          "GAME CASUAL",
          "GAME CASUAL",
          "GAME CASUAL",
          "GAME CASUAL",
          "GAME CASUAL",
          "GAME CASUAL",
          "GAME CASUAL",
          "GAME CASUAL",
          "GAME CASUAL",
          "GAME CASUAL",
          "GAME CASUAL",
          "GAME CASUAL",
          "GAME CASUAL",
          "GAME CASUAL",
          "GAME CASUAL",
          "GAME CASUAL",
          "GAME CASUAL",
          "GAME CASUAL",
          "GAME CASUAL",
          "GAME CASUAL",
          "GAME CASUAL",
          "GAME CASUAL",
          "GAME CASUAL",
          "GAME CASUAL",
          "GAME CASUAL",
          "GAME CASUAL",
          "GAME CASUAL",
          "GAME CASUAL",
          "GAME CASUAL",
          "GAME CASUAL",
          "GAME CASUAL",
          "GAME CASUAL",
          "GAME CASUAL",
          "GAME CASUAL",
          "GAME CASUAL",
          "GAME CASUAL",
          "GAME CASUAL",
          "GAME CASUAL",
          "GAME CASUAL",
          "GAME CASUAL",
          "GAME CASUAL",
          "GAME CASUAL",
          "GAME CASUAL",
          "GAME CASUAL",
          "GAME CASUAL",
          "GAME CASUAL",
          "GAME CASUAL",
          "GAME CASUAL",
          "GAME CASUAL",
          "GAME CASUAL",
          "GAME CASUAL",
          "GAME CASUAL",
          "GAME CASUAL",
          "GAME CASUAL",
          "GAME CASUAL",
          "GAME CASUAL",
          "GAME CASUAL",
          "GAME CASUAL",
          "GAME CASUAL",
          "GAME CASUAL",
          "GAME CASUAL",
          "GAME CASUAL",
          "GAME CASUAL",
          "GAME CASUAL",
          "GAME CASUAL",
          "GAME CASUAL",
          "GAME CASUAL",
          "GAME CASUAL",
          "GAME CASUAL",
          "GAME CASUAL",
          "GAME CASUAL",
          "GAME CASUAL",
          "GAME CASUAL",
          "GAME CASUAL",
          "GAME CASUAL",
          "GAME CASUAL",
          "GAME CASUAL",
          "GAME CASUAL",
          "GAME CASUAL",
          "GAME CASUAL",
          "GAME CASUAL",
          "GAME CASUAL",
          "GAME CASUAL",
          "GAME CASUAL",
          "GAME CASUAL",
          "GAME CASUAL",
          "GAME CASUAL",
          "GAME CASUAL",
          "GAME CASUAL",
          "GAME CASUAL",
          "GAME CASUAL",
          "GAME CASUAL",
          "GAME CASUAL",
          "GAME CASUAL",
          "GAME CASUAL",
          "GAME EDUCATIONAL",
          "GAME EDUCATIONAL",
          "GAME EDUCATIONAL",
          "GAME EDUCATIONAL",
          "GAME EDUCATIONAL",
          "GAME EDUCATIONAL",
          "GAME EDUCATIONAL",
          "GAME EDUCATIONAL",
          "GAME EDUCATIONAL",
          "GAME EDUCATIONAL",
          "GAME EDUCATIONAL",
          "GAME EDUCATIONAL",
          "GAME EDUCATIONAL",
          "GAME EDUCATIONAL",
          "GAME EDUCATIONAL",
          "GAME EDUCATIONAL",
          "GAME EDUCATIONAL",
          "GAME EDUCATIONAL",
          "GAME EDUCATIONAL",
          "GAME EDUCATIONAL",
          "GAME EDUCATIONAL",
          "GAME EDUCATIONAL",
          "GAME EDUCATIONAL",
          "GAME EDUCATIONAL",
          "GAME EDUCATIONAL",
          "GAME EDUCATIONAL",
          "GAME EDUCATIONAL",
          "GAME EDUCATIONAL",
          "GAME EDUCATIONAL",
          "GAME EDUCATIONAL",
          "GAME EDUCATIONAL",
          "GAME EDUCATIONAL",
          "GAME EDUCATIONAL",
          "GAME EDUCATIONAL",
          "GAME EDUCATIONAL",
          "GAME EDUCATIONAL",
          "GAME EDUCATIONAL",
          "GAME EDUCATIONAL",
          "GAME EDUCATIONAL",
          "GAME EDUCATIONAL",
          "GAME EDUCATIONAL",
          "GAME EDUCATIONAL",
          "GAME EDUCATIONAL",
          "GAME EDUCATIONAL",
          "GAME EDUCATIONAL",
          "GAME EDUCATIONAL",
          "GAME EDUCATIONAL",
          "GAME EDUCATIONAL",
          "GAME EDUCATIONAL",
          "GAME EDUCATIONAL",
          "GAME EDUCATIONAL",
          "GAME EDUCATIONAL",
          "GAME EDUCATIONAL",
          "GAME EDUCATIONAL",
          "GAME EDUCATIONAL",
          "GAME EDUCATIONAL",
          "GAME EDUCATIONAL",
          "GAME EDUCATIONAL",
          "GAME EDUCATIONAL",
          "GAME EDUCATIONAL",
          "GAME EDUCATIONAL",
          "GAME EDUCATIONAL",
          "GAME EDUCATIONAL",
          "GAME EDUCATIONAL",
          "GAME EDUCATIONAL",
          "GAME EDUCATIONAL",
          "GAME EDUCATIONAL",
          "GAME EDUCATIONAL",
          "GAME EDUCATIONAL",
          "GAME EDUCATIONAL",
          "GAME EDUCATIONAL",
          "GAME EDUCATIONAL",
          "GAME EDUCATIONAL",
          "GAME EDUCATIONAL",
          "GAME EDUCATIONAL",
          "GAME EDUCATIONAL",
          "GAME EDUCATIONAL",
          "GAME EDUCATIONAL",
          "GAME EDUCATIONAL",
          "GAME EDUCATIONAL",
          "GAME EDUCATIONAL",
          "GAME EDUCATIONAL",
          "GAME EDUCATIONAL",
          "GAME EDUCATIONAL",
          "GAME EDUCATIONAL",
          "GAME EDUCATIONAL",
          "GAME EDUCATIONAL",
          "GAME EDUCATIONAL",
          "GAME EDUCATIONAL",
          "GAME EDUCATIONAL",
          "GAME EDUCATIONAL",
          "GAME EDUCATIONAL",
          "GAME EDUCATIONAL",
          "GAME EDUCATIONAL",
          "GAME EDUCATIONAL",
          "GAME EDUCATIONAL",
          "GAME EDUCATIONAL",
          "GAME EDUCATIONAL",
          "GAME EDUCATIONAL",
          "GAME EDUCATIONAL",
          "GAME MUSIC",
          "GAME MUSIC",
          "GAME MUSIC",
          "GAME MUSIC",
          "GAME MUSIC",
          "GAME MUSIC",
          "GAME MUSIC",
          "GAME MUSIC",
          "GAME MUSIC",
          "GAME MUSIC",
          "GAME MUSIC",
          "GAME MUSIC",
          "GAME MUSIC",
          "GAME MUSIC",
          "GAME MUSIC",
          "GAME MUSIC",
          "GAME MUSIC",
          "GAME MUSIC",
          "GAME MUSIC",
          "GAME MUSIC",
          "GAME MUSIC",
          "GAME MUSIC",
          "GAME MUSIC",
          "GAME MUSIC",
          "GAME MUSIC",
          "GAME MUSIC",
          "GAME MUSIC",
          "GAME MUSIC",
          "GAME MUSIC",
          "GAME MUSIC",
          "GAME MUSIC",
          "GAME MUSIC",
          "GAME MUSIC",
          "GAME MUSIC",
          "GAME MUSIC",
          "GAME MUSIC",
          "GAME MUSIC",
          "GAME MUSIC",
          "GAME MUSIC",
          "GAME MUSIC",
          "GAME MUSIC",
          "GAME MUSIC",
          "GAME MUSIC",
          "GAME MUSIC",
          "GAME MUSIC",
          "GAME MUSIC",
          "GAME MUSIC",
          "GAME MUSIC",
          "GAME MUSIC",
          "GAME MUSIC",
          "GAME MUSIC",
          "GAME MUSIC",
          "GAME MUSIC",
          "GAME MUSIC",
          "GAME MUSIC",
          "GAME MUSIC",
          "GAME MUSIC",
          "GAME MUSIC",
          "GAME MUSIC",
          "GAME MUSIC",
          "GAME MUSIC",
          "GAME MUSIC",
          "GAME MUSIC",
          "GAME MUSIC",
          "GAME MUSIC",
          "GAME MUSIC",
          "GAME MUSIC",
          "GAME MUSIC",
          "GAME MUSIC",
          "GAME MUSIC",
          "GAME MUSIC",
          "GAME MUSIC",
          "GAME MUSIC",
          "GAME MUSIC",
          "GAME MUSIC",
          "GAME MUSIC",
          "GAME MUSIC",
          "GAME MUSIC",
          "GAME MUSIC",
          "GAME MUSIC",
          "GAME MUSIC",
          "GAME MUSIC",
          "GAME MUSIC",
          "GAME MUSIC",
          "GAME MUSIC",
          "GAME MUSIC",
          "GAME MUSIC",
          "GAME MUSIC",
          "GAME MUSIC",
          "GAME MUSIC",
          "GAME MUSIC",
          "GAME MUSIC",
          "GAME MUSIC",
          "GAME MUSIC",
          "GAME MUSIC",
          "GAME MUSIC",
          "GAME MUSIC",
          "GAME MUSIC",
          "GAME MUSIC",
          "GAME MUSIC",
          "GAME PUZZLE",
          "GAME PUZZLE",
          "GAME PUZZLE",
          "GAME PUZZLE",
          "GAME PUZZLE",
          "GAME PUZZLE",
          "GAME PUZZLE",
          "GAME PUZZLE",
          "GAME PUZZLE",
          "GAME PUZZLE",
          "GAME PUZZLE",
          "GAME PUZZLE",
          "GAME PUZZLE",
          "GAME PUZZLE",
          "GAME PUZZLE",
          "GAME PUZZLE",
          "GAME PUZZLE",
          "GAME PUZZLE",
          "GAME PUZZLE",
          "GAME PUZZLE",
          "GAME PUZZLE",
          "GAME PUZZLE",
          "GAME PUZZLE",
          "GAME PUZZLE",
          "GAME PUZZLE",
          "GAME PUZZLE",
          "GAME PUZZLE",
          "GAME PUZZLE",
          "GAME PUZZLE",
          "GAME PUZZLE",
          "GAME PUZZLE",
          "GAME PUZZLE",
          "GAME PUZZLE",
          "GAME PUZZLE",
          "GAME PUZZLE",
          "GAME PUZZLE",
          "GAME PUZZLE",
          "GAME PUZZLE",
          "GAME PUZZLE",
          "GAME PUZZLE",
          "GAME PUZZLE",
          "GAME PUZZLE",
          "GAME PUZZLE",
          "GAME PUZZLE",
          "GAME PUZZLE",
          "GAME PUZZLE",
          "GAME PUZZLE",
          "GAME PUZZLE",
          "GAME PUZZLE",
          "GAME PUZZLE",
          "GAME PUZZLE",
          "GAME PUZZLE",
          "GAME PUZZLE",
          "GAME PUZZLE",
          "GAME PUZZLE",
          "GAME PUZZLE",
          "GAME PUZZLE",
          "GAME PUZZLE",
          "GAME PUZZLE",
          "GAME PUZZLE",
          "GAME PUZZLE",
          "GAME PUZZLE",
          "GAME PUZZLE",
          "GAME PUZZLE",
          "GAME PUZZLE",
          "GAME PUZZLE",
          "GAME PUZZLE",
          "GAME PUZZLE",
          "GAME PUZZLE",
          "GAME PUZZLE",
          "GAME PUZZLE",
          "GAME PUZZLE",
          "GAME PUZZLE",
          "GAME PUZZLE",
          "GAME PUZZLE",
          "GAME PUZZLE",
          "GAME PUZZLE",
          "GAME PUZZLE",
          "GAME PUZZLE",
          "GAME PUZZLE",
          "GAME PUZZLE",
          "GAME PUZZLE",
          "GAME PUZZLE",
          "GAME PUZZLE",
          "GAME PUZZLE",
          "GAME PUZZLE",
          "GAME PUZZLE",
          "GAME PUZZLE",
          "GAME PUZZLE",
          "GAME PUZZLE",
          "GAME PUZZLE",
          "GAME PUZZLE",
          "GAME PUZZLE",
          "GAME PUZZLE",
          "GAME PUZZLE",
          "GAME PUZZLE",
          "GAME PUZZLE",
          "GAME PUZZLE",
          "GAME PUZZLE",
          "GAME PUZZLE",
          "GAME RACING",
          "GAME RACING",
          "GAME RACING",
          "GAME RACING",
          "GAME RACING",
          "GAME RACING",
          "GAME RACING",
          "GAME RACING",
          "GAME RACING",
          "GAME RACING",
          "GAME RACING",
          "GAME RACING",
          "GAME RACING",
          "GAME RACING",
          "GAME RACING",
          "GAME RACING",
          "GAME RACING",
          "GAME RACING",
          "GAME RACING",
          "GAME RACING",
          "GAME RACING",
          "GAME RACING",
          "GAME RACING",
          "GAME RACING",
          "GAME RACING",
          "GAME RACING",
          "GAME RACING",
          "GAME RACING",
          "GAME RACING",
          "GAME RACING",
          "GAME RACING",
          "GAME RACING",
          "GAME RACING",
          "GAME RACING",
          "GAME RACING",
          "GAME RACING",
          "GAME RACING",
          "GAME RACING",
          "GAME RACING",
          "GAME RACING",
          "GAME RACING",
          "GAME RACING",
          "GAME RACING",
          "GAME RACING",
          "GAME RACING",
          "GAME RACING",
          "GAME RACING",
          "GAME RACING",
          "GAME RACING",
          "GAME RACING",
          "GAME RACING",
          "GAME RACING",
          "GAME RACING",
          "GAME RACING",
          "GAME RACING",
          "GAME RACING",
          "GAME RACING",
          "GAME RACING",
          "GAME RACING",
          "GAME RACING",
          "GAME RACING",
          "GAME RACING",
          "GAME RACING",
          "GAME RACING",
          "GAME RACING",
          "GAME RACING",
          "GAME RACING",
          "GAME RACING",
          "GAME RACING",
          "GAME RACING",
          "GAME RACING",
          "GAME RACING",
          "GAME RACING",
          "GAME RACING",
          "GAME RACING",
          "GAME RACING",
          "GAME RACING",
          "GAME RACING",
          "GAME RACING",
          "GAME RACING",
          "GAME RACING",
          "GAME RACING",
          "GAME RACING",
          "GAME RACING",
          "GAME RACING",
          "GAME RACING",
          "GAME RACING",
          "GAME RACING",
          "GAME RACING",
          "GAME RACING",
          "GAME RACING",
          "GAME RACING",
          "GAME RACING",
          "GAME RACING",
          "GAME RACING",
          "GAME RACING",
          "GAME RACING",
          "GAME RACING",
          "GAME RACING",
          "GAME RACING",
          "GAME ROLE PLAYING",
          "GAME ROLE PLAYING",
          "GAME ROLE PLAYING",
          "GAME ROLE PLAYING",
          "GAME ROLE PLAYING",
          "GAME ROLE PLAYING",
          "GAME ROLE PLAYING",
          "GAME ROLE PLAYING",
          "GAME ROLE PLAYING",
          "GAME ROLE PLAYING",
          "GAME ROLE PLAYING",
          "GAME ROLE PLAYING",
          "GAME ROLE PLAYING",
          "GAME ROLE PLAYING",
          "GAME ROLE PLAYING",
          "GAME ROLE PLAYING",
          "GAME ROLE PLAYING",
          "GAME ROLE PLAYING",
          "GAME ROLE PLAYING",
          "GAME ROLE PLAYING",
          "GAME ROLE PLAYING",
          "GAME ROLE PLAYING",
          "GAME ROLE PLAYING",
          "GAME ROLE PLAYING",
          "GAME ROLE PLAYING",
          "GAME ROLE PLAYING",
          "GAME ROLE PLAYING",
          "GAME ROLE PLAYING",
          "GAME ROLE PLAYING",
          "GAME ROLE PLAYING",
          "GAME ROLE PLAYING",
          "GAME ROLE PLAYING",
          "GAME ROLE PLAYING",
          "GAME ROLE PLAYING",
          "GAME ROLE PLAYING",
          "GAME ROLE PLAYING",
          "GAME ROLE PLAYING",
          "GAME ROLE PLAYING",
          "GAME ROLE PLAYING",
          "GAME ROLE PLAYING",
          "GAME ROLE PLAYING",
          "GAME ROLE PLAYING",
          "GAME ROLE PLAYING",
          "GAME ROLE PLAYING",
          "GAME ROLE PLAYING",
          "GAME ROLE PLAYING",
          "GAME ROLE PLAYING",
          "GAME ROLE PLAYING",
          "GAME ROLE PLAYING",
          "GAME ROLE PLAYING",
          "GAME ROLE PLAYING",
          "GAME ROLE PLAYING",
          "GAME ROLE PLAYING",
          "GAME ROLE PLAYING",
          "GAME ROLE PLAYING",
          "GAME ROLE PLAYING",
          "GAME ROLE PLAYING",
          "GAME ROLE PLAYING",
          "GAME ROLE PLAYING",
          "GAME ROLE PLAYING",
          "GAME ROLE PLAYING",
          "GAME ROLE PLAYING",
          "GAME ROLE PLAYING",
          "GAME ROLE PLAYING",
          "GAME ROLE PLAYING",
          "GAME ROLE PLAYING",
          "GAME ROLE PLAYING",
          "GAME ROLE PLAYING",
          "GAME ROLE PLAYING",
          "GAME ROLE PLAYING",
          "GAME ROLE PLAYING",
          "GAME ROLE PLAYING",
          "GAME ROLE PLAYING",
          "GAME ROLE PLAYING",
          "GAME ROLE PLAYING",
          "GAME ROLE PLAYING",
          "GAME ROLE PLAYING",
          "GAME ROLE PLAYING",
          "GAME ROLE PLAYING",
          "GAME ROLE PLAYING",
          "GAME ROLE PLAYING",
          "GAME ROLE PLAYING",
          "GAME ROLE PLAYING",
          "GAME ROLE PLAYING",
          "GAME ROLE PLAYING",
          "GAME ROLE PLAYING",
          "GAME ROLE PLAYING",
          "GAME ROLE PLAYING",
          "GAME ROLE PLAYING",
          "GAME ROLE PLAYING",
          "GAME ROLE PLAYING",
          "GAME ROLE PLAYING",
          "GAME ROLE PLAYING",
          "GAME ROLE PLAYING",
          "GAME ROLE PLAYING",
          "GAME ROLE PLAYING",
          "GAME ROLE PLAYING",
          "GAME ROLE PLAYING",
          "GAME ROLE PLAYING",
          "GAME ROLE PLAYING",
          "GAME SIMULATION",
          "GAME SIMULATION",
          "GAME SIMULATION",
          "GAME SIMULATION",
          "GAME SIMULATION",
          "GAME SIMULATION",
          "GAME SIMULATION",
          "GAME SIMULATION",
          "GAME SIMULATION",
          "GAME SIMULATION",
          "GAME SIMULATION",
          "GAME SIMULATION",
          "GAME SIMULATION",
          "GAME SIMULATION",
          "GAME SIMULATION",
          "GAME SIMULATION",
          "GAME SIMULATION",
          "GAME SIMULATION",
          "GAME SIMULATION",
          "GAME SIMULATION",
          "GAME SIMULATION",
          "GAME SIMULATION",
          "GAME SIMULATION",
          "GAME SIMULATION",
          "GAME SIMULATION",
          "GAME SIMULATION",
          "GAME SIMULATION",
          "GAME SIMULATION",
          "GAME SIMULATION",
          "GAME SIMULATION",
          "GAME SIMULATION",
          "GAME SIMULATION",
          "GAME SIMULATION",
          "GAME SIMULATION",
          "GAME SIMULATION",
          "GAME SIMULATION",
          "GAME SIMULATION",
          "GAME SIMULATION",
          "GAME SIMULATION",
          "GAME SIMULATION",
          "GAME SIMULATION",
          "GAME SIMULATION",
          "GAME SIMULATION",
          "GAME SIMULATION",
          "GAME SIMULATION",
          "GAME SIMULATION",
          "GAME SIMULATION",
          "GAME SIMULATION",
          "GAME SIMULATION",
          "GAME SIMULATION",
          "GAME SIMULATION",
          "GAME SIMULATION",
          "GAME SIMULATION",
          "GAME SIMULATION",
          "GAME SIMULATION",
          "GAME SIMULATION",
          "GAME SIMULATION",
          "GAME SIMULATION",
          "GAME SIMULATION",
          "GAME SIMULATION",
          "GAME SIMULATION",
          "GAME SIMULATION",
          "GAME SIMULATION",
          "GAME SIMULATION",
          "GAME SIMULATION",
          "GAME SIMULATION",
          "GAME SIMULATION",
          "GAME SIMULATION",
          "GAME SIMULATION",
          "GAME SIMULATION",
          "GAME SIMULATION",
          "GAME SIMULATION",
          "GAME SIMULATION",
          "GAME SIMULATION",
          "GAME SIMULATION",
          "GAME SIMULATION",
          "GAME SIMULATION",
          "GAME SIMULATION",
          "GAME SIMULATION",
          "GAME SIMULATION",
          "GAME SIMULATION",
          "GAME SIMULATION",
          "GAME SIMULATION",
          "GAME SIMULATION",
          "GAME SIMULATION",
          "GAME SIMULATION",
          "GAME SIMULATION",
          "GAME SIMULATION",
          "GAME SIMULATION",
          "GAME SIMULATION",
          "GAME SIMULATION",
          "GAME SIMULATION",
          "GAME SIMULATION",
          "GAME SIMULATION",
          "GAME SIMULATION",
          "GAME SIMULATION",
          "GAME SIMULATION",
          "GAME SIMULATION",
          "GAME SIMULATION",
          "GAME SIMULATION",
          "GAME SPORTS",
          "GAME SPORTS",
          "GAME SPORTS",
          "GAME SPORTS",
          "GAME SPORTS",
          "GAME SPORTS",
          "GAME SPORTS",
          "GAME SPORTS",
          "GAME SPORTS",
          "GAME SPORTS",
          "GAME SPORTS",
          "GAME SPORTS",
          "GAME SPORTS",
          "GAME SPORTS",
          "GAME SPORTS",
          "GAME SPORTS",
          "GAME SPORTS",
          "GAME SPORTS",
          "GAME SPORTS",
          "GAME SPORTS",
          "GAME SPORTS",
          "GAME SPORTS",
          "GAME SPORTS",
          "GAME SPORTS",
          "GAME SPORTS",
          "GAME SPORTS",
          "GAME SPORTS",
          "GAME SPORTS",
          "GAME SPORTS",
          "GAME SPORTS",
          "GAME SPORTS",
          "GAME SPORTS",
          "GAME SPORTS",
          "GAME SPORTS",
          "GAME SPORTS",
          "GAME SPORTS",
          "GAME SPORTS",
          "GAME SPORTS",
          "GAME SPORTS",
          "GAME SPORTS",
          "GAME SPORTS",
          "GAME SPORTS",
          "GAME SPORTS",
          "GAME SPORTS",
          "GAME SPORTS",
          "GAME SPORTS",
          "GAME SPORTS",
          "GAME SPORTS",
          "GAME SPORTS",
          "GAME SPORTS",
          "GAME SPORTS",
          "GAME SPORTS",
          "GAME SPORTS",
          "GAME SPORTS",
          "GAME SPORTS",
          "GAME SPORTS",
          "GAME SPORTS",
          "GAME SPORTS",
          "GAME SPORTS",
          "GAME SPORTS",
          "GAME SPORTS",
          "GAME SPORTS",
          "GAME SPORTS",
          "GAME SPORTS",
          "GAME SPORTS",
          "GAME SPORTS",
          "GAME SPORTS",
          "GAME SPORTS",
          "GAME SPORTS",
          "GAME SPORTS",
          "GAME SPORTS",
          "GAME SPORTS",
          "GAME SPORTS",
          "GAME SPORTS",
          "GAME SPORTS",
          "GAME SPORTS",
          "GAME SPORTS",
          "GAME SPORTS",
          "GAME SPORTS",
          "GAME SPORTS",
          "GAME SPORTS",
          "GAME SPORTS",
          "GAME SPORTS",
          "GAME SPORTS",
          "GAME SPORTS",
          "GAME SPORTS",
          "GAME SPORTS",
          "GAME SPORTS",
          "GAME SPORTS",
          "GAME SPORTS",
          "GAME SPORTS",
          "GAME SPORTS",
          "GAME SPORTS",
          "GAME SPORTS",
          "GAME SPORTS",
          "GAME SPORTS",
          "GAME SPORTS",
          "GAME SPORTS",
          "GAME SPORTS",
          "GAME SPORTS",
          "GAME STRATEGY",
          "GAME STRATEGY",
          "GAME STRATEGY",
          "GAME STRATEGY",
          "GAME STRATEGY",
          "GAME STRATEGY",
          "GAME STRATEGY",
          "GAME STRATEGY",
          "GAME STRATEGY",
          "GAME STRATEGY",
          "GAME STRATEGY",
          "GAME STRATEGY",
          "GAME STRATEGY",
          "GAME STRATEGY",
          "GAME STRATEGY",
          "GAME STRATEGY",
          "GAME STRATEGY",
          "GAME STRATEGY",
          "GAME STRATEGY",
          "GAME STRATEGY",
          "GAME STRATEGY",
          "GAME STRATEGY",
          "GAME STRATEGY",
          "GAME STRATEGY",
          "GAME STRATEGY",
          "GAME STRATEGY",
          "GAME STRATEGY",
          "GAME STRATEGY",
          "GAME STRATEGY",
          "GAME STRATEGY",
          "GAME STRATEGY",
          "GAME STRATEGY",
          "GAME STRATEGY",
          "GAME STRATEGY",
          "GAME STRATEGY",
          "GAME STRATEGY",
          "GAME STRATEGY",
          "GAME STRATEGY",
          "GAME STRATEGY",
          "GAME STRATEGY",
          "GAME STRATEGY",
          "GAME STRATEGY",
          "GAME STRATEGY",
          "GAME STRATEGY",
          "GAME STRATEGY",
          "GAME STRATEGY",
          "GAME STRATEGY",
          "GAME STRATEGY",
          "GAME STRATEGY",
          "GAME STRATEGY",
          "GAME STRATEGY",
          "GAME STRATEGY",
          "GAME STRATEGY",
          "GAME STRATEGY",
          "GAME STRATEGY",
          "GAME STRATEGY",
          "GAME STRATEGY",
          "GAME STRATEGY",
          "GAME STRATEGY",
          "GAME STRATEGY",
          "GAME STRATEGY",
          "GAME STRATEGY",
          "GAME STRATEGY",
          "GAME STRATEGY",
          "GAME STRATEGY",
          "GAME STRATEGY",
          "GAME STRATEGY",
          "GAME STRATEGY",
          "GAME STRATEGY",
          "GAME STRATEGY",
          "GAME STRATEGY",
          "GAME STRATEGY",
          "GAME STRATEGY",
          "GAME STRATEGY",
          "GAME STRATEGY",
          "GAME STRATEGY",
          "GAME STRATEGY",
          "GAME STRATEGY",
          "GAME STRATEGY",
          "GAME STRATEGY",
          "GAME STRATEGY",
          "GAME STRATEGY",
          "GAME STRATEGY",
          "GAME STRATEGY",
          "GAME STRATEGY",
          "GAME STRATEGY",
          "GAME STRATEGY",
          "GAME STRATEGY",
          "GAME STRATEGY",
          "GAME STRATEGY",
          "GAME STRATEGY",
          "GAME STRATEGY",
          "GAME STRATEGY",
          "GAME STRATEGY",
          "GAME STRATEGY",
          "GAME STRATEGY",
          "GAME STRATEGY",
          "GAME STRATEGY",
          "GAME STRATEGY",
          "GAME STRATEGY",
          "GAME TRIVIA",
          "GAME TRIVIA",
          "GAME TRIVIA",
          "GAME TRIVIA",
          "GAME TRIVIA",
          "GAME TRIVIA",
          "GAME TRIVIA",
          "GAME TRIVIA",
          "GAME TRIVIA",
          "GAME TRIVIA",
          "GAME TRIVIA",
          "GAME TRIVIA",
          "GAME TRIVIA",
          "GAME TRIVIA",
          "GAME TRIVIA",
          "GAME TRIVIA",
          "GAME TRIVIA",
          "GAME TRIVIA",
          "GAME TRIVIA",
          "GAME TRIVIA",
          "GAME TRIVIA",
          "GAME TRIVIA",
          "GAME TRIVIA",
          "GAME TRIVIA",
          "GAME TRIVIA",
          "GAME TRIVIA",
          "GAME TRIVIA",
          "GAME TRIVIA",
          "GAME TRIVIA",
          "GAME TRIVIA",
          "GAME TRIVIA",
          "GAME TRIVIA",
          "GAME TRIVIA",
          "GAME TRIVIA",
          "GAME TRIVIA",
          "GAME TRIVIA",
          "GAME TRIVIA",
          "GAME TRIVIA",
          "GAME TRIVIA",
          "GAME TRIVIA",
          "GAME TRIVIA",
          "GAME TRIVIA",
          "GAME TRIVIA",
          "GAME TRIVIA",
          "GAME TRIVIA",
          "GAME TRIVIA",
          "GAME TRIVIA",
          "GAME TRIVIA",
          "GAME TRIVIA",
          "GAME TRIVIA",
          "GAME TRIVIA",
          "GAME TRIVIA",
          "GAME TRIVIA",
          "GAME TRIVIA",
          "GAME TRIVIA",
          "GAME TRIVIA",
          "GAME TRIVIA",
          "GAME TRIVIA",
          "GAME TRIVIA",
          "GAME TRIVIA",
          "GAME TRIVIA",
          "GAME TRIVIA",
          "GAME TRIVIA",
          "GAME TRIVIA",
          "GAME TRIVIA",
          "GAME TRIVIA",
          "GAME TRIVIA",
          "GAME TRIVIA",
          "GAME TRIVIA",
          "GAME TRIVIA",
          "GAME TRIVIA",
          "GAME TRIVIA",
          "GAME TRIVIA",
          "GAME TRIVIA",
          "GAME TRIVIA",
          "GAME TRIVIA",
          "GAME TRIVIA",
          "GAME TRIVIA",
          "GAME TRIVIA",
          "GAME TRIVIA",
          "GAME TRIVIA",
          "GAME TRIVIA",
          "GAME TRIVIA",
          "GAME TRIVIA",
          "GAME TRIVIA",
          "GAME TRIVIA",
          "GAME TRIVIA",
          "GAME TRIVIA",
          "GAME TRIVIA",
          "GAME TRIVIA",
          "GAME TRIVIA",
          "GAME TRIVIA",
          "GAME TRIVIA",
          "GAME TRIVIA",
          "GAME TRIVIA",
          "GAME TRIVIA",
          "GAME TRIVIA",
          "GAME TRIVIA",
          "GAME TRIVIA",
          "GAME TRIVIA",
          "GAME WORD",
          "GAME WORD",
          "GAME WORD",
          "GAME WORD",
          "GAME WORD",
          "GAME WORD",
          "GAME WORD",
          "GAME WORD",
          "GAME WORD",
          "GAME WORD",
          "GAME WORD",
          "GAME WORD",
          "GAME WORD",
          "GAME WORD",
          "GAME WORD",
          "GAME WORD",
          "GAME WORD",
          "GAME WORD",
          "GAME WORD",
          "GAME WORD",
          "GAME WORD",
          "GAME WORD",
          "GAME WORD",
          "GAME WORD",
          "GAME WORD",
          "GAME WORD",
          "GAME WORD",
          "GAME WORD",
          "GAME WORD",
          "GAME WORD",
          "GAME WORD",
          "GAME WORD",
          "GAME WORD",
          "GAME WORD",
          "GAME WORD",
          "GAME WORD",
          "GAME WORD",
          "GAME WORD",
          "GAME WORD",
          "GAME WORD",
          "GAME WORD",
          "GAME WORD",
          "GAME WORD",
          "GAME WORD",
          "GAME WORD",
          "GAME WORD",
          "GAME WORD",
          "GAME WORD",
          "GAME WORD",
          "GAME WORD",
          "GAME WORD",
          "GAME WORD",
          "GAME WORD",
          "GAME WORD",
          "GAME WORD",
          "GAME WORD",
          "GAME WORD",
          "GAME WORD",
          "GAME WORD",
          "GAME WORD",
          "GAME WORD",
          "GAME WORD",
          "GAME WORD",
          "GAME WORD",
          "GAME WORD",
          "GAME WORD",
          "GAME WORD",
          "GAME WORD",
          "GAME WORD",
          "GAME WORD",
          "GAME WORD",
          "GAME WORD",
          "GAME WORD",
          "GAME WORD",
          "GAME WORD",
          "GAME WORD",
          "GAME WORD",
          "GAME WORD",
          "GAME WORD",
          "GAME WORD",
          "GAME WORD",
          "GAME WORD",
          "GAME WORD",
          "GAME WORD",
          "GAME WORD",
          "GAME WORD",
          "GAME WORD",
          "GAME WORD",
          "GAME WORD",
          "GAME WORD",
          "GAME WORD",
          "GAME WORD",
          "GAME WORD",
          "GAME WORD",
          "GAME WORD",
          "GAME WORD",
          "GAME WORD",
          "GAME WORD",
          "GAME WORD",
          "GAME WORD",
          "GAME WORD",
          "GAME WORD",
          "GAME WORD",
          "GAME WORD"
         ],
         "xaxis": "x",
         "yaxis": "y"
        }
       ],
       "layout": {
        "barmode": "relative",
        "legend": {
         "tracegroupgap": 0
        },
        "template": {
         "data": {
          "bar": [
           {
            "error_x": {
             "color": "#2a3f5f"
            },
            "error_y": {
             "color": "#2a3f5f"
            },
            "marker": {
             "line": {
              "color": "#E5ECF6",
              "width": 0.5
             },
             "pattern": {
              "fillmode": "overlay",
              "size": 10,
              "solidity": 0.2
             }
            },
            "type": "bar"
           }
          ],
          "barpolar": [
           {
            "marker": {
             "line": {
              "color": "#E5ECF6",
              "width": 0.5
             },
             "pattern": {
              "fillmode": "overlay",
              "size": 10,
              "solidity": 0.2
             }
            },
            "type": "barpolar"
           }
          ],
          "carpet": [
           {
            "aaxis": {
             "endlinecolor": "#2a3f5f",
             "gridcolor": "white",
             "linecolor": "white",
             "minorgridcolor": "white",
             "startlinecolor": "#2a3f5f"
            },
            "baxis": {
             "endlinecolor": "#2a3f5f",
             "gridcolor": "white",
             "linecolor": "white",
             "minorgridcolor": "white",
             "startlinecolor": "#2a3f5f"
            },
            "type": "carpet"
           }
          ],
          "choropleth": [
           {
            "colorbar": {
             "outlinewidth": 0,
             "ticks": ""
            },
            "type": "choropleth"
           }
          ],
          "contour": [
           {
            "colorbar": {
             "outlinewidth": 0,
             "ticks": ""
            },
            "colorscale": [
             [
              0,
              "#0d0887"
             ],
             [
              0.1111111111111111,
              "#46039f"
             ],
             [
              0.2222222222222222,
              "#7201a8"
             ],
             [
              0.3333333333333333,
              "#9c179e"
             ],
             [
              0.4444444444444444,
              "#bd3786"
             ],
             [
              0.5555555555555556,
              "#d8576b"
             ],
             [
              0.6666666666666666,
              "#ed7953"
             ],
             [
              0.7777777777777778,
              "#fb9f3a"
             ],
             [
              0.8888888888888888,
              "#fdca26"
             ],
             [
              1,
              "#f0f921"
             ]
            ],
            "type": "contour"
           }
          ],
          "contourcarpet": [
           {
            "colorbar": {
             "outlinewidth": 0,
             "ticks": ""
            },
            "type": "contourcarpet"
           }
          ],
          "heatmap": [
           {
            "colorbar": {
             "outlinewidth": 0,
             "ticks": ""
            },
            "colorscale": [
             [
              0,
              "#0d0887"
             ],
             [
              0.1111111111111111,
              "#46039f"
             ],
             [
              0.2222222222222222,
              "#7201a8"
             ],
             [
              0.3333333333333333,
              "#9c179e"
             ],
             [
              0.4444444444444444,
              "#bd3786"
             ],
             [
              0.5555555555555556,
              "#d8576b"
             ],
             [
              0.6666666666666666,
              "#ed7953"
             ],
             [
              0.7777777777777778,
              "#fb9f3a"
             ],
             [
              0.8888888888888888,
              "#fdca26"
             ],
             [
              1,
              "#f0f921"
             ]
            ],
            "type": "heatmap"
           }
          ],
          "heatmapgl": [
           {
            "colorbar": {
             "outlinewidth": 0,
             "ticks": ""
            },
            "colorscale": [
             [
              0,
              "#0d0887"
             ],
             [
              0.1111111111111111,
              "#46039f"
             ],
             [
              0.2222222222222222,
              "#7201a8"
             ],
             [
              0.3333333333333333,
              "#9c179e"
             ],
             [
              0.4444444444444444,
              "#bd3786"
             ],
             [
              0.5555555555555556,
              "#d8576b"
             ],
             [
              0.6666666666666666,
              "#ed7953"
             ],
             [
              0.7777777777777778,
              "#fb9f3a"
             ],
             [
              0.8888888888888888,
              "#fdca26"
             ],
             [
              1,
              "#f0f921"
             ]
            ],
            "type": "heatmapgl"
           }
          ],
          "histogram": [
           {
            "marker": {
             "pattern": {
              "fillmode": "overlay",
              "size": 10,
              "solidity": 0.2
             }
            },
            "type": "histogram"
           }
          ],
          "histogram2d": [
           {
            "colorbar": {
             "outlinewidth": 0,
             "ticks": ""
            },
            "colorscale": [
             [
              0,
              "#0d0887"
             ],
             [
              0.1111111111111111,
              "#46039f"
             ],
             [
              0.2222222222222222,
              "#7201a8"
             ],
             [
              0.3333333333333333,
              "#9c179e"
             ],
             [
              0.4444444444444444,
              "#bd3786"
             ],
             [
              0.5555555555555556,
              "#d8576b"
             ],
             [
              0.6666666666666666,
              "#ed7953"
             ],
             [
              0.7777777777777778,
              "#fb9f3a"
             ],
             [
              0.8888888888888888,
              "#fdca26"
             ],
             [
              1,
              "#f0f921"
             ]
            ],
            "type": "histogram2d"
           }
          ],
          "histogram2dcontour": [
           {
            "colorbar": {
             "outlinewidth": 0,
             "ticks": ""
            },
            "colorscale": [
             [
              0,
              "#0d0887"
             ],
             [
              0.1111111111111111,
              "#46039f"
             ],
             [
              0.2222222222222222,
              "#7201a8"
             ],
             [
              0.3333333333333333,
              "#9c179e"
             ],
             [
              0.4444444444444444,
              "#bd3786"
             ],
             [
              0.5555555555555556,
              "#d8576b"
             ],
             [
              0.6666666666666666,
              "#ed7953"
             ],
             [
              0.7777777777777778,
              "#fb9f3a"
             ],
             [
              0.8888888888888888,
              "#fdca26"
             ],
             [
              1,
              "#f0f921"
             ]
            ],
            "type": "histogram2dcontour"
           }
          ],
          "mesh3d": [
           {
            "colorbar": {
             "outlinewidth": 0,
             "ticks": ""
            },
            "type": "mesh3d"
           }
          ],
          "parcoords": [
           {
            "line": {
             "colorbar": {
              "outlinewidth": 0,
              "ticks": ""
             }
            },
            "type": "parcoords"
           }
          ],
          "pie": [
           {
            "automargin": true,
            "type": "pie"
           }
          ],
          "scatter": [
           {
            "marker": {
             "colorbar": {
              "outlinewidth": 0,
              "ticks": ""
             }
            },
            "type": "scatter"
           }
          ],
          "scatter3d": [
           {
            "line": {
             "colorbar": {
              "outlinewidth": 0,
              "ticks": ""
             }
            },
            "marker": {
             "colorbar": {
              "outlinewidth": 0,
              "ticks": ""
             }
            },
            "type": "scatter3d"
           }
          ],
          "scattercarpet": [
           {
            "marker": {
             "colorbar": {
              "outlinewidth": 0,
              "ticks": ""
             }
            },
            "type": "scattercarpet"
           }
          ],
          "scattergeo": [
           {
            "marker": {
             "colorbar": {
              "outlinewidth": 0,
              "ticks": ""
             }
            },
            "type": "scattergeo"
           }
          ],
          "scattergl": [
           {
            "marker": {
             "colorbar": {
              "outlinewidth": 0,
              "ticks": ""
             }
            },
            "type": "scattergl"
           }
          ],
          "scattermapbox": [
           {
            "marker": {
             "colorbar": {
              "outlinewidth": 0,
              "ticks": ""
             }
            },
            "type": "scattermapbox"
           }
          ],
          "scatterpolar": [
           {
            "marker": {
             "colorbar": {
              "outlinewidth": 0,
              "ticks": ""
             }
            },
            "type": "scatterpolar"
           }
          ],
          "scatterpolargl": [
           {
            "marker": {
             "colorbar": {
              "outlinewidth": 0,
              "ticks": ""
             }
            },
            "type": "scatterpolargl"
           }
          ],
          "scatterternary": [
           {
            "marker": {
             "colorbar": {
              "outlinewidth": 0,
              "ticks": ""
             }
            },
            "type": "scatterternary"
           }
          ],
          "surface": [
           {
            "colorbar": {
             "outlinewidth": 0,
             "ticks": ""
            },
            "colorscale": [
             [
              0,
              "#0d0887"
             ],
             [
              0.1111111111111111,
              "#46039f"
             ],
             [
              0.2222222222222222,
              "#7201a8"
             ],
             [
              0.3333333333333333,
              "#9c179e"
             ],
             [
              0.4444444444444444,
              "#bd3786"
             ],
             [
              0.5555555555555556,
              "#d8576b"
             ],
             [
              0.6666666666666666,
              "#ed7953"
             ],
             [
              0.7777777777777778,
              "#fb9f3a"
             ],
             [
              0.8888888888888888,
              "#fdca26"
             ],
             [
              1,
              "#f0f921"
             ]
            ],
            "type": "surface"
           }
          ],
          "table": [
           {
            "cells": {
             "fill": {
              "color": "#EBF0F8"
             },
             "line": {
              "color": "white"
             }
            },
            "header": {
             "fill": {
              "color": "#C8D4E3"
             },
             "line": {
              "color": "white"
             }
            },
            "type": "table"
           }
          ]
         },
         "layout": {
          "annotationdefaults": {
           "arrowcolor": "#2a3f5f",
           "arrowhead": 0,
           "arrowwidth": 1
          },
          "autotypenumbers": "strict",
          "coloraxis": {
           "colorbar": {
            "outlinewidth": 0,
            "ticks": ""
           }
          },
          "colorscale": {
           "diverging": [
            [
             0,
             "#8e0152"
            ],
            [
             0.1,
             "#c51b7d"
            ],
            [
             0.2,
             "#de77ae"
            ],
            [
             0.3,
             "#f1b6da"
            ],
            [
             0.4,
             "#fde0ef"
            ],
            [
             0.5,
             "#f7f7f7"
            ],
            [
             0.6,
             "#e6f5d0"
            ],
            [
             0.7,
             "#b8e186"
            ],
            [
             0.8,
             "#7fbc41"
            ],
            [
             0.9,
             "#4d9221"
            ],
            [
             1,
             "#276419"
            ]
           ],
           "sequential": [
            [
             0,
             "#0d0887"
            ],
            [
             0.1111111111111111,
             "#46039f"
            ],
            [
             0.2222222222222222,
             "#7201a8"
            ],
            [
             0.3333333333333333,
             "#9c179e"
            ],
            [
             0.4444444444444444,
             "#bd3786"
            ],
            [
             0.5555555555555556,
             "#d8576b"
            ],
            [
             0.6666666666666666,
             "#ed7953"
            ],
            [
             0.7777777777777778,
             "#fb9f3a"
            ],
            [
             0.8888888888888888,
             "#fdca26"
            ],
            [
             1,
             "#f0f921"
            ]
           ],
           "sequentialminus": [
            [
             0,
             "#0d0887"
            ],
            [
             0.1111111111111111,
             "#46039f"
            ],
            [
             0.2222222222222222,
             "#7201a8"
            ],
            [
             0.3333333333333333,
             "#9c179e"
            ],
            [
             0.4444444444444444,
             "#bd3786"
            ],
            [
             0.5555555555555556,
             "#d8576b"
            ],
            [
             0.6666666666666666,
             "#ed7953"
            ],
            [
             0.7777777777777778,
             "#fb9f3a"
            ],
            [
             0.8888888888888888,
             "#fdca26"
            ],
            [
             1,
             "#f0f921"
            ]
           ]
          },
          "colorway": [
           "#636efa",
           "#EF553B",
           "#00cc96",
           "#ab63fa",
           "#FFA15A",
           "#19d3f3",
           "#FF6692",
           "#B6E880",
           "#FF97FF",
           "#FECB52"
          ],
          "font": {
           "color": "#2a3f5f"
          },
          "geo": {
           "bgcolor": "white",
           "lakecolor": "white",
           "landcolor": "#E5ECF6",
           "showlakes": true,
           "showland": true,
           "subunitcolor": "white"
          },
          "hoverlabel": {
           "align": "left"
          },
          "hovermode": "closest",
          "mapbox": {
           "style": "light"
          },
          "paper_bgcolor": "white",
          "plot_bgcolor": "#E5ECF6",
          "polar": {
           "angularaxis": {
            "gridcolor": "white",
            "linecolor": "white",
            "ticks": ""
           },
           "bgcolor": "#E5ECF6",
           "radialaxis": {
            "gridcolor": "white",
            "linecolor": "white",
            "ticks": ""
           }
          },
          "scene": {
           "xaxis": {
            "backgroundcolor": "#E5ECF6",
            "gridcolor": "white",
            "gridwidth": 2,
            "linecolor": "white",
            "showbackground": true,
            "ticks": "",
            "zerolinecolor": "white"
           },
           "yaxis": {
            "backgroundcolor": "#E5ECF6",
            "gridcolor": "white",
            "gridwidth": 2,
            "linecolor": "white",
            "showbackground": true,
            "ticks": "",
            "zerolinecolor": "white"
           },
           "zaxis": {
            "backgroundcolor": "#E5ECF6",
            "gridcolor": "white",
            "gridwidth": 2,
            "linecolor": "white",
            "showbackground": true,
            "ticks": "",
            "zerolinecolor": "white"
           }
          },
          "shapedefaults": {
           "line": {
            "color": "#2a3f5f"
           }
          },
          "ternary": {
           "aaxis": {
            "gridcolor": "white",
            "linecolor": "white",
            "ticks": ""
           },
           "baxis": {
            "gridcolor": "white",
            "linecolor": "white",
            "ticks": ""
           },
           "bgcolor": "#E5ECF6",
           "caxis": {
            "gridcolor": "white",
            "linecolor": "white",
            "ticks": ""
           }
          },
          "title": {
           "x": 0.05
          },
          "xaxis": {
           "automargin": true,
           "gridcolor": "white",
           "linecolor": "white",
           "ticks": "",
           "title": {
            "standoff": 15
           },
           "zerolinecolor": "white",
           "zerolinewidth": 2
          },
          "yaxis": {
           "automargin": true,
           "gridcolor": "white",
           "linecolor": "white",
           "ticks": "",
           "title": {
            "standoff": 15
           },
           "zerolinecolor": "white",
           "zerolinewidth": 2
          }
         }
        },
        "title": {
         "text": "Game Categories"
        },
        "xaxis": {
         "anchor": "y",
         "categoryorder": "total descending",
         "domain": [
          0,
          1
         ],
         "title": {
          "text": "Categories"
         }
        },
        "yaxis": {
         "anchor": "x",
         "domain": [
          0,
          1
         ],
         "title": {
          "text": "count"
         }
        }
       }
      }
     },
     "metadata": {}
    }
   ],
   "metadata": {}
  },
  {
   "cell_type": "markdown",
   "source": [
    "## Paid vs Free games"
   ],
   "metadata": {}
  },
  {
   "cell_type": "code",
   "execution_count": 145,
   "source": [
    "df['paid'].value_counts()\r\n"
   ],
   "outputs": [
    {
     "output_type": "execute_result",
     "data": {
      "text/plain": [
       "False    1723\n",
       "True        7\n",
       "Name: paid, dtype: int64"
      ]
     },
     "metadata": {},
     "execution_count": 145
    }
   ],
   "metadata": {}
  },
  {
   "cell_type": "code",
   "execution_count": 146,
   "source": [
    "df['paid'].value_counts().plot(kind='pie', title='Free vs Paid games', legend=True,\r\n",
    "                               autopct='%1.1f%%', fontsize=14, figsize=[7, 7], labels=[\"free\", \"paid\"], ylabel='', colors=[\"g\", \"r\"])\r\n"
   ],
   "outputs": [
    {
     "output_type": "execute_result",
     "data": {
      "text/plain": [
       "<AxesSubplot:title={'center':'Free vs Paid games'}>"
      ]
     },
     "metadata": {},
     "execution_count": 146
    },
    {
     "output_type": "display_data",
     "data": {
      "image/png": "[encoded data removed]",
      "text/plain": [
       "<Figure size 504x504 with 1 Axes>"
      ]
     },
     "metadata": {}
    }
   ],
   "metadata": {}
  },
  {
   "cell_type": "code",
   "execution_count": 147,
   "source": [
    "free_games = df['paid'].value_counts()\r\n",
    "label = ['Free', 'Paid']\r\n",
    "values = df['paid'].value_counts().values\r\n",
    "\r\n",
    "fig = px.pie(free_games, values=values, names=label, title='Free vs Paid games', color_discrete_sequence=[\"springgreen\", \"red\"])\r\n",
    "fig.update_traces(textposition='inside', textinfo='percent+label')\r\n",
    "fig.show()\r\n"
   ],
   "outputs": [
    {
     "output_type": "display_data",
     "data": {
      "application/vnd.plotly.v1+json": {
       "config": {
        "plotlyServerURL": "https://plot.ly"
       },
       "data": [
        {
         "domain": {
          "x": [
           0,
           1
          ],
          "y": [
           0,
           1
          ]
         },
         "hovertemplate": "label=%{label}<br>value=%{value}<extra></extra>",
         "labels": [
          "Free",
          "Paid"
         ],
         "legendgroup": "",
         "name": "",
         "showlegend": true,
         "textinfo": "percent+label",
         "textposition": "inside",
         "type": "pie",
         "values": [
          1723,
          7
         ]
        }
       ],
       "layout": {
        "legend": {
         "tracegroupgap": 0
        },
        "piecolorway": [
         "springgreen",
         "red"
        ],
        "template": {
         "data": {
          "bar": [
           {
            "error_x": {
             "color": "#2a3f5f"
            },
            "error_y": {
             "color": "#2a3f5f"
            },
            "marker": {
             "line": {
              "color": "#E5ECF6",
              "width": 0.5
             },
             "pattern": {
              "fillmode": "overlay",
              "size": 10,
              "solidity": 0.2
             }
            },
            "type": "bar"
           }
          ],
          "barpolar": [
           {
            "marker": {
             "line": {
              "color": "#E5ECF6",
              "width": 0.5
             },
             "pattern": {
              "fillmode": "overlay",
              "size": 10,
              "solidity": 0.2
             }
            },
            "type": "barpolar"
           }
          ],
          "carpet": [
           {
            "aaxis": {
             "endlinecolor": "#2a3f5f",
             "gridcolor": "white",
             "linecolor": "white",
             "minorgridcolor": "white",
             "startlinecolor": "#2a3f5f"
            },
            "baxis": {
             "endlinecolor": "#2a3f5f",
             "gridcolor": "white",
             "linecolor": "white",
             "minorgridcolor": "white",
             "startlinecolor": "#2a3f5f"
            },
            "type": "carpet"
           }
          ],
          "choropleth": [
           {
            "colorbar": {
             "outlinewidth": 0,
             "ticks": ""
            },
            "type": "choropleth"
           }
          ],
          "contour": [
           {
            "colorbar": {
             "outlinewidth": 0,
             "ticks": ""
            },
            "colorscale": [
             [
              0,
              "#0d0887"
             ],
             [
              0.1111111111111111,
              "#46039f"
             ],
             [
              0.2222222222222222,
              "#7201a8"
             ],
             [
              0.3333333333333333,
              "#9c179e"
             ],
             [
              0.4444444444444444,
              "#bd3786"
             ],
             [
              0.5555555555555556,
              "#d8576b"
             ],
             [
              0.6666666666666666,
              "#ed7953"
             ],
             [
              0.7777777777777778,
              "#fb9f3a"
             ],
             [
              0.8888888888888888,
              "#fdca26"
             ],
             [
              1,
              "#f0f921"
             ]
            ],
            "type": "contour"
           }
          ],
          "contourcarpet": [
           {
            "colorbar": {
             "outlinewidth": 0,
             "ticks": ""
            },
            "type": "contourcarpet"
           }
          ],
          "heatmap": [
           {
            "colorbar": {
             "outlinewidth": 0,
             "ticks": ""
            },
            "colorscale": [
             [
              0,
              "#0d0887"
             ],
             [
              0.1111111111111111,
              "#46039f"
             ],
             [
              0.2222222222222222,
              "#7201a8"
             ],
             [
              0.3333333333333333,
              "#9c179e"
             ],
             [
              0.4444444444444444,
              "#bd3786"
             ],
             [
              0.5555555555555556,
              "#d8576b"
             ],
             [
              0.6666666666666666,
              "#ed7953"
             ],
             [
              0.7777777777777778,
              "#fb9f3a"
             ],
             [
              0.8888888888888888,
              "#fdca26"
             ],
             [
              1,
              "#f0f921"
             ]
            ],
            "type": "heatmap"
           }
          ],
          "heatmapgl": [
           {
            "colorbar": {
             "outlinewidth": 0,
             "ticks": ""
            },
            "colorscale": [
             [
              0,
              "#0d0887"
             ],
             [
              0.1111111111111111,
              "#46039f"
             ],
             [
              0.2222222222222222,
              "#7201a8"
             ],
             [
              0.3333333333333333,
              "#9c179e"
             ],
             [
              0.4444444444444444,
              "#bd3786"
             ],
             [
              0.5555555555555556,
              "#d8576b"
             ],
             [
              0.6666666666666666,
              "#ed7953"
             ],
             [
              0.7777777777777778,
              "#fb9f3a"
             ],
             [
              0.8888888888888888,
              "#fdca26"
             ],
             [
              1,
              "#f0f921"
             ]
            ],
            "type": "heatmapgl"
           }
          ],
          "histogram": [
           {
            "marker": {
             "pattern": {
              "fillmode": "overlay",
              "size": 10,
              "solidity": 0.2
             }
            },
            "type": "histogram"
           }
          ],
          "histogram2d": [
           {
            "colorbar": {
             "outlinewidth": 0,
             "ticks": ""
            },
            "colorscale": [
             [
              0,
              "#0d0887"
             ],
             [
              0.1111111111111111,
              "#46039f"
             ],
             [
              0.2222222222222222,
              "#7201a8"
             ],
             [
              0.3333333333333333,
              "#9c179e"
             ],
             [
              0.4444444444444444,
              "#bd3786"
             ],
             [
              0.5555555555555556,
              "#d8576b"
             ],
             [
              0.6666666666666666,
              "#ed7953"
             ],
             [
              0.7777777777777778,
              "#fb9f3a"
             ],
             [
              0.8888888888888888,
              "#fdca26"
             ],
             [
              1,
              "#f0f921"
             ]
            ],
            "type": "histogram2d"
           }
          ],
          "histogram2dcontour": [
           {
            "colorbar": {
             "outlinewidth": 0,
             "ticks": ""
            },
            "colorscale": [
             [
              0,
              "#0d0887"
             ],
             [
              0.1111111111111111,
              "#46039f"
             ],
             [
              0.2222222222222222,
              "#7201a8"
             ],
             [
              0.3333333333333333,
              "#9c179e"
             ],
             [
              0.4444444444444444,
              "#bd3786"
             ],
             [
              0.5555555555555556,
              "#d8576b"
             ],
             [
              0.6666666666666666,
              "#ed7953"
             ],
             [
              0.7777777777777778,
              "#fb9f3a"
             ],
             [
              0.8888888888888888,
              "#fdca26"
             ],
             [
              1,
              "#f0f921"
             ]
            ],
            "type": "histogram2dcontour"
           }
          ],
          "mesh3d": [
           {
            "colorbar": {
             "outlinewidth": 0,
             "ticks": ""
            },
            "type": "mesh3d"
           }
          ],
          "parcoords": [
           {
            "line": {
             "colorbar": {
              "outlinewidth": 0,
              "ticks": ""
             }
            },
            "type": "parcoords"
           }
          ],
          "pie": [
           {
            "automargin": true,
            "type": "pie"
           }
          ],
          "scatter": [
           {
            "marker": {
             "colorbar": {
              "outlinewidth": 0,
              "ticks": ""
             }
            },
            "type": "scatter"
           }
          ],
          "scatter3d": [
           {
            "line": {
             "colorbar": {
              "outlinewidth": 0,
              "ticks": ""
             }
            },
            "marker": {
             "colorbar": {
              "outlinewidth": 0,
              "ticks": ""
             }
            },
            "type": "scatter3d"
           }
          ],
          "scattercarpet": [
           {
            "marker": {
             "colorbar": {
              "outlinewidth": 0,
              "ticks": ""
             }
            },
            "type": "scattercarpet"
           }
          ],
          "scattergeo": [
           {
            "marker": {
             "colorbar": {
              "outlinewidth": 0,
              "ticks": ""
             }
            },
            "type": "scattergeo"
           }
          ],
          "scattergl": [
           {
            "marker": {
             "colorbar": {
              "outlinewidth": 0,
              "ticks": ""
             }
            },
            "type": "scattergl"
           }
          ],
          "scattermapbox": [
           {
            "marker": {
             "colorbar": {
              "outlinewidth": 0,
              "ticks": ""
             }
            },
            "type": "scattermapbox"
           }
          ],
          "scatterpolar": [
           {
            "marker": {
             "colorbar": {
              "outlinewidth": 0,
              "ticks": ""
             }
            },
            "type": "scatterpolar"
           }
          ],
          "scatterpolargl": [
           {
            "marker": {
             "colorbar": {
              "outlinewidth": 0,
              "ticks": ""
             }
            },
            "type": "scatterpolargl"
           }
          ],
          "scatterternary": [
           {
            "marker": {
             "colorbar": {
              "outlinewidth": 0,
              "ticks": ""
             }
            },
            "type": "scatterternary"
           }
          ],
          "surface": [
           {
            "colorbar": {
             "outlinewidth": 0,
             "ticks": ""
            },
            "colorscale": [
             [
              0,
              "#0d0887"
             ],
             [
              0.1111111111111111,
              "#46039f"
             ],
             [
              0.2222222222222222,
              "#7201a8"
             ],
             [
              0.3333333333333333,
              "#9c179e"
             ],
             [
              0.4444444444444444,
              "#bd3786"
             ],
             [
              0.5555555555555556,
              "#d8576b"
             ],
             [
              0.6666666666666666,
              "#ed7953"
             ],
             [
              0.7777777777777778,
              "#fb9f3a"
             ],
             [
              0.8888888888888888,
              "#fdca26"
             ],
             [
              1,
              "#f0f921"
             ]
            ],
            "type": "surface"
           }
          ],
          "table": [
           {
            "cells": {
             "fill": {
              "color": "#EBF0F8"
             },
             "line": {
              "color": "white"
             }
            },
            "header": {
             "fill": {
              "color": "#C8D4E3"
             },
             "line": {
              "color": "white"
             }
            },
            "type": "table"
           }
          ]
         },
         "layout": {
          "annotationdefaults": {
           "arrowcolor": "#2a3f5f",
           "arrowhead": 0,
           "arrowwidth": 1
          },
          "autotypenumbers": "strict",
          "coloraxis": {
           "colorbar": {
            "outlinewidth": 0,
            "ticks": ""
           }
          },
          "colorscale": {
           "diverging": [
            [
             0,
             "#8e0152"
            ],
            [
             0.1,
             "#c51b7d"
            ],
            [
             0.2,
             "#de77ae"
            ],
            [
             0.3,
             "#f1b6da"
            ],
            [
             0.4,
             "#fde0ef"
            ],
            [
             0.5,
             "#f7f7f7"
            ],
            [
             0.6,
             "#e6f5d0"
            ],
            [
             0.7,
             "#b8e186"
            ],
            [
             0.8,
             "#7fbc41"
            ],
            [
             0.9,
             "#4d9221"
            ],
            [
             1,
             "#276419"
            ]
           ],
           "sequential": [
            [
             0,
             "#0d0887"
            ],
            [
             0.1111111111111111,
             "#46039f"
            ],
            [
             0.2222222222222222,
             "#7201a8"
            ],
            [
             0.3333333333333333,
             "#9c179e"
            ],
            [
             0.4444444444444444,
             "#bd3786"
            ],
            [
             0.5555555555555556,
             "#d8576b"
            ],
            [
             0.6666666666666666,
             "#ed7953"
            ],
            [
             0.7777777777777778,
             "#fb9f3a"
            ],
            [
             0.8888888888888888,
             "#fdca26"
            ],
            [
             1,
             "#f0f921"
            ]
           ],
           "sequentialminus": [
            [
             0,
             "#0d0887"
            ],
            [
             0.1111111111111111,
             "#46039f"
            ],
            [
             0.2222222222222222,
             "#7201a8"
            ],
            [
             0.3333333333333333,
             "#9c179e"
            ],
            [
             0.4444444444444444,
             "#bd3786"
            ],
            [
             0.5555555555555556,
             "#d8576b"
            ],
            [
             0.6666666666666666,
             "#ed7953"
            ],
            [
             0.7777777777777778,
             "#fb9f3a"
            ],
            [
             0.8888888888888888,
             "#fdca26"
            ],
            [
             1,
             "#f0f921"
            ]
           ]
          },
          "colorway": [
           "#636efa",
           "#EF553B",
           "#00cc96",
           "#ab63fa",
           "#FFA15A",
           "#19d3f3",
           "#FF6692",
           "#B6E880",
           "#FF97FF",
           "#FECB52"
          ],
          "font": {
           "color": "#2a3f5f"
          },
          "geo": {
           "bgcolor": "white",
           "lakecolor": "white",
           "landcolor": "#E5ECF6",
           "showlakes": true,
           "showland": true,
           "subunitcolor": "white"
          },
          "hoverlabel": {
           "align": "left"
          },
          "hovermode": "closest",
          "mapbox": {
           "style": "light"
          },
          "paper_bgcolor": "white",
          "plot_bgcolor": "#E5ECF6",
          "polar": {
           "angularaxis": {
            "gridcolor": "white",
            "linecolor": "white",
            "ticks": ""
           },
           "bgcolor": "#E5ECF6",
           "radialaxis": {
            "gridcolor": "white",
            "linecolor": "white",
            "ticks": ""
           }
          },
          "scene": {
           "xaxis": {
            "backgroundcolor": "#E5ECF6",
            "gridcolor": "white",
            "gridwidth": 2,
            "linecolor": "white",
            "showbackground": true,
            "ticks": "",
            "zerolinecolor": "white"
           },
           "yaxis": {
            "backgroundcolor": "#E5ECF6",
            "gridcolor": "white",
            "gridwidth": 2,
            "linecolor": "white",
            "showbackground": true,
            "ticks": "",
            "zerolinecolor": "white"
           },
           "zaxis": {
            "backgroundcolor": "#E5ECF6",
            "gridcolor": "white",
            "gridwidth": 2,
            "linecolor": "white",
            "showbackground": true,
            "ticks": "",
            "zerolinecolor": "white"
           }
          },
          "shapedefaults": {
           "line": {
            "color": "#2a3f5f"
           }
          },
          "ternary": {
           "aaxis": {
            "gridcolor": "white",
            "linecolor": "white",
            "ticks": ""
           },
           "baxis": {
            "gridcolor": "white",
            "linecolor": "white",
            "ticks": ""
           },
           "bgcolor": "#E5ECF6",
           "caxis": {
            "gridcolor": "white",
            "linecolor": "white",
            "ticks": ""
           }
          },
          "title": {
           "x": 0.05
          },
          "xaxis": {
           "automargin": true,
           "gridcolor": "white",
           "linecolor": "white",
           "ticks": "",
           "title": {
            "standoff": 15
           },
           "zerolinecolor": "white",
           "zerolinewidth": 2
          },
          "yaxis": {
           "automargin": true,
           "gridcolor": "white",
           "linecolor": "white",
           "ticks": "",
           "title": {
            "standoff": 15
           },
           "zerolinecolor": "white",
           "zerolinewidth": 2
          }
         }
        },
        "title": {
         "text": "Free vs Paid games"
        }
       }
      }
     },
     "metadata": {}
    }
   ],
   "metadata": {}
  },
  {
   "cell_type": "code",
   "execution_count": null,
   "source": [],
   "outputs": [],
   "metadata": {}
  }
 ],
 "metadata": {
  "orig_nbformat": 4,
  "language_info": {
   "name": "python",
   "version": "3.8.11",
   "mimetype": "text/x-python",
   "codemirror_mode": {
    "name": "ipython",
    "version": 3
   },
   "pygments_lexer": "ipython3",
   "nbconvert_exporter": "python",
   "file_extension": ".py"
  },
  "kernelspec": {
   "name": "python3",
   "display_name": "Python 3.8.11 64-bit ('demo': conda)"
  },
  "interpreter": {
   "hash": "932bb86fe413b86d91a65f7f6d90fdc0b10b670ac0cfa9268af676852afa2c49"
  }
 },
 "nbformat": 4,
 "nbformat_minor": 2
}