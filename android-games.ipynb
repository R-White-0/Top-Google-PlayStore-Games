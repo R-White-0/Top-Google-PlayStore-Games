{
 "cells": [
  {
   "cell_type": "markdown",
   "source": [
    "# Import Libraries"
   ],
   "metadata": {}
  },
  {
   "cell_type": "code",
   "execution_count": 44,
   "source": [
    "import pandas as pd\r\n",
    "import numpy as np\r\n",
    "import os\r\n",
    "\r\n",
    "import matplotlib.pyplot as plt\r\n",
    "import plotly.express as px\r\n",
    "import seaborn as sns"
   ],
   "outputs": [],
   "metadata": {}
  },
  {
   "cell_type": "code",
   "execution_count": 2,
   "source": [
    "pwd = os.getcwd() \r\n",
    "filepath = pwd + \"/android-games.csv\"\r\n",
    "df = pd.read_csv(filepath)"
   ],
   "outputs": [],
   "metadata": {}
  },
  {
   "cell_type": "markdown",
   "source": [
    "## Viewing the Dataset\r\n",
    " lets read and check our dataset"
   ],
   "metadata": {}
  },
  {
   "cell_type": "code",
   "execution_count": 18,
   "source": [
    "print ('Data shape is: ', df.shape)"
   ],
   "outputs": [
    {
     "output_type": "stream",
     "name": "stdout",
     "text": [
      "Data shape is:  (1730, 15)\n"
     ]
    }
   ],
   "metadata": {}
  },
  {
   "cell_type": "markdown",
   "source": [
    "* so we have 1730 rows and 15 columns working with\r\n",
    "* lets take a look at the columns and general summary info."
   ],
   "metadata": {}
  },
  {
   "cell_type": "code",
   "execution_count": 17,
   "source": [
    "pd.DataFrame({\"Columns\": df.columns})"
   ],
   "outputs": [
    {
     "output_type": "execute_result",
     "data": {
      "text/html": [
       "<div>\n",
       "<style scoped>\n",
       "    .dataframe tbody tr th:only-of-type {\n",
       "        vertical-align: middle;\n",
       "    }\n",
       "\n",
       "    .dataframe tbody tr th {\n",
       "        vertical-align: top;\n",
       "    }\n",
       "\n",
       "    .dataframe thead th {\n",
       "        text-align: right;\n",
       "    }\n",
       "</style>\n",
       "<table border=\"1\" class=\"dataframe\">\n",
       "  <thead>\n",
       "    <tr style=\"text-align: right;\">\n",
       "      <th></th>\n",
       "      <th>Columns</th>\n",
       "    </tr>\n",
       "  </thead>\n",
       "  <tbody>\n",
       "    <tr>\n",
       "      <th>0</th>\n",
       "      <td>rank</td>\n",
       "    </tr>\n",
       "    <tr>\n",
       "      <th>1</th>\n",
       "      <td>title</td>\n",
       "    </tr>\n",
       "    <tr>\n",
       "      <th>2</th>\n",
       "      <td>total ratings</td>\n",
       "    </tr>\n",
       "    <tr>\n",
       "      <th>3</th>\n",
       "      <td>installs</td>\n",
       "    </tr>\n",
       "    <tr>\n",
       "      <th>4</th>\n",
       "      <td>average rating</td>\n",
       "    </tr>\n",
       "    <tr>\n",
       "      <th>5</th>\n",
       "      <td>growth (30 days)</td>\n",
       "    </tr>\n",
       "    <tr>\n",
       "      <th>6</th>\n",
       "      <td>growth (60 days)</td>\n",
       "    </tr>\n",
       "    <tr>\n",
       "      <th>7</th>\n",
       "      <td>price</td>\n",
       "    </tr>\n",
       "    <tr>\n",
       "      <th>8</th>\n",
       "      <td>category</td>\n",
       "    </tr>\n",
       "    <tr>\n",
       "      <th>9</th>\n",
       "      <td>5 star ratings</td>\n",
       "    </tr>\n",
       "    <tr>\n",
       "      <th>10</th>\n",
       "      <td>4 star ratings</td>\n",
       "    </tr>\n",
       "    <tr>\n",
       "      <th>11</th>\n",
       "      <td>3 star ratings</td>\n",
       "    </tr>\n",
       "    <tr>\n",
       "      <th>12</th>\n",
       "      <td>2 star ratings</td>\n",
       "    </tr>\n",
       "    <tr>\n",
       "      <th>13</th>\n",
       "      <td>1 star ratings</td>\n",
       "    </tr>\n",
       "    <tr>\n",
       "      <th>14</th>\n",
       "      <td>paid</td>\n",
       "    </tr>\n",
       "  </tbody>\n",
       "</table>\n",
       "</div>"
      ],
      "text/plain": [
       "             Columns\n",
       "0               rank\n",
       "1              title\n",
       "2      total ratings\n",
       "3           installs\n",
       "4     average rating\n",
       "5   growth (30 days)\n",
       "6   growth (60 days)\n",
       "7              price\n",
       "8           category\n",
       "9     5 star ratings\n",
       "10    4 star ratings\n",
       "11    3 star ratings\n",
       "12    2 star ratings\n",
       "13    1 star ratings\n",
       "14              paid"
      ]
     },
     "metadata": {},
     "execution_count": 17
    }
   ],
   "metadata": {}
  },
  {
   "cell_type": "code",
   "execution_count": 20,
   "source": [
    "df.isnull().sum()"
   ],
   "outputs": [
    {
     "output_type": "execute_result",
     "data": {
      "text/plain": [
       "rank                0\n",
       "title               0\n",
       "total ratings       0\n",
       "installs            0\n",
       "average rating      0\n",
       "growth (30 days)    0\n",
       "growth (60 days)    0\n",
       "price               0\n",
       "category            0\n",
       "5 star ratings      0\n",
       "4 star ratings      0\n",
       "3 star ratings      0\n",
       "2 star ratings      0\n",
       "1 star ratings      0\n",
       "paid                0\n",
       "dtype: int64"
      ]
     },
     "metadata": {},
     "execution_count": 20
    }
   ],
   "metadata": {}
  },
  {
   "cell_type": "markdown",
   "source": [
    "Great there are no missing vlaues within this dataset. That saves us some time from dealing with NAN's.\r\n",
    "* Lets sample our dataset to explore what it contains.\r\n",
    "* lets sample the first 5 rows."
   ],
   "metadata": {}
  },
  {
   "cell_type": "code",
   "execution_count": 25,
   "source": [
    "df.sample(n=8)"
   ],
   "outputs": [
    {
     "output_type": "execute_result",
     "data": {
      "text/html": [
       "<div>\n",
       "<style scoped>\n",
       "    .dataframe tbody tr th:only-of-type {\n",
       "        vertical-align: middle;\n",
       "    }\n",
       "\n",
       "    .dataframe tbody tr th {\n",
       "        vertical-align: top;\n",
       "    }\n",
       "\n",
       "    .dataframe thead th {\n",
       "        text-align: right;\n",
       "    }\n",
       "</style>\n",
       "<table border=\"1\" class=\"dataframe\">\n",
       "  <thead>\n",
       "    <tr style=\"text-align: right;\">\n",
       "      <th></th>\n",
       "      <th>rank</th>\n",
       "      <th>title</th>\n",
       "      <th>total ratings</th>\n",
       "      <th>installs</th>\n",
       "      <th>average rating</th>\n",
       "      <th>growth (30 days)</th>\n",
       "      <th>growth (60 days)</th>\n",
       "      <th>price</th>\n",
       "      <th>category</th>\n",
       "      <th>5 star ratings</th>\n",
       "      <th>4 star ratings</th>\n",
       "      <th>3 star ratings</th>\n",
       "      <th>2 star ratings</th>\n",
       "      <th>1 star ratings</th>\n",
       "      <th>paid</th>\n",
       "    </tr>\n",
       "  </thead>\n",
       "  <tbody>\n",
       "    <tr>\n",
       "      <th>1552</th>\n",
       "      <td>27</td>\n",
       "      <td>Can you escape the 100 room IV</td>\n",
       "      <td>166160</td>\n",
       "      <td>5.0 M</td>\n",
       "      <td>4</td>\n",
       "      <td>1.2</td>\n",
       "      <td>2.4</td>\n",
       "      <td>0.0</td>\n",
       "      <td>GAME TRIVIA</td>\n",
       "      <td>117768</td>\n",
       "      <td>29132</td>\n",
       "      <td>11301</td>\n",
       "      <td>2815</td>\n",
       "      <td>5141</td>\n",
       "      <td>False</td>\n",
       "    </tr>\n",
       "    <tr>\n",
       "      <th>821</th>\n",
       "      <td>96</td>\n",
       "      <td>Animals Farm For Kids</td>\n",
       "      <td>51687</td>\n",
       "      <td>5.0 M</td>\n",
       "      <td>4</td>\n",
       "      <td>0.1</td>\n",
       "      <td>0.2</td>\n",
       "      <td>0.0</td>\n",
       "      <td>GAME EDUCATIONAL</td>\n",
       "      <td>41659</td>\n",
       "      <td>5118</td>\n",
       "      <td>1929</td>\n",
       "      <td>609</td>\n",
       "      <td>2369</td>\n",
       "      <td>False</td>\n",
       "    </tr>\n",
       "    <tr>\n",
       "      <th>52</th>\n",
       "      <td>53</td>\n",
       "      <td>DINO HUNTER: DEADLY SHORES</td>\n",
       "      <td>1495507</td>\n",
       "      <td>50.0 M</td>\n",
       "      <td>4</td>\n",
       "      <td>0.1</td>\n",
       "      <td>0.2</td>\n",
       "      <td>0.0</td>\n",
       "      <td>GAME ACTION</td>\n",
       "      <td>1096349</td>\n",
       "      <td>179585</td>\n",
       "      <td>80390</td>\n",
       "      <td>29979</td>\n",
       "      <td>109201</td>\n",
       "      <td>False</td>\n",
       "    </tr>\n",
       "    <tr>\n",
       "      <th>116</th>\n",
       "      <td>17</td>\n",
       "      <td>June's Journey: Hidden Objects</td>\n",
       "      <td>830121</td>\n",
       "      <td>10.0 M</td>\n",
       "      <td>4</td>\n",
       "      <td>1.9</td>\n",
       "      <td>4.0</td>\n",
       "      <td>0.0</td>\n",
       "      <td>GAME ADVENTURE</td>\n",
       "      <td>580582</td>\n",
       "      <td>143752</td>\n",
       "      <td>41142</td>\n",
       "      <td>16642</td>\n",
       "      <td>48000</td>\n",
       "      <td>False</td>\n",
       "    </tr>\n",
       "    <tr>\n",
       "      <th>970</th>\n",
       "      <td>45</td>\n",
       "      <td>Mouse</td>\n",
       "      <td>685364</td>\n",
       "      <td>10.0 M</td>\n",
       "      <td>4</td>\n",
       "      <td>169.9</td>\n",
       "      <td>0.0</td>\n",
       "      <td>0.0</td>\n",
       "      <td>GAME PUZZLE</td>\n",
       "      <td>463196</td>\n",
       "      <td>120923</td>\n",
       "      <td>48379</td>\n",
       "      <td>19969</td>\n",
       "      <td>32895</td>\n",
       "      <td>False</td>\n",
       "    </tr>\n",
       "    <tr>\n",
       "      <th>595</th>\n",
       "      <td>70</td>\n",
       "      <td>Bingo Journey - Lucky &amp; Fun Casino Bingo Games</td>\n",
       "      <td>138883</td>\n",
       "      <td>1.0 M</td>\n",
       "      <td>4</td>\n",
       "      <td>2.4</td>\n",
       "      <td>4.7</td>\n",
       "      <td>0.0</td>\n",
       "      <td>GAME CASINO</td>\n",
       "      <td>103586</td>\n",
       "      <td>18665</td>\n",
       "      <td>8883</td>\n",
       "      <td>2911</td>\n",
       "      <td>4835</td>\n",
       "      <td>False</td>\n",
       "    </tr>\n",
       "    <tr>\n",
       "      <th>1475</th>\n",
       "      <td>50</td>\n",
       "      <td>Heroes Evolved</td>\n",
       "      <td>544851</td>\n",
       "      <td>10.0 M</td>\n",
       "      <td>3</td>\n",
       "      <td>0.3</td>\n",
       "      <td>0.6</td>\n",
       "      <td>0.0</td>\n",
       "      <td>GAME STRATEGY</td>\n",
       "      <td>292552</td>\n",
       "      <td>45804</td>\n",
       "      <td>41854</td>\n",
       "      <td>27186</td>\n",
       "      <td>137452</td>\n",
       "      <td>False</td>\n",
       "    </tr>\n",
       "    <tr>\n",
       "      <th>772</th>\n",
       "      <td>47</td>\n",
       "      <td>My Town : Fashion Show</td>\n",
       "      <td>88278</td>\n",
       "      <td>10.0 M</td>\n",
       "      <td>4</td>\n",
       "      <td>2.7</td>\n",
       "      <td>6.0</td>\n",
       "      <td>0.0</td>\n",
       "      <td>GAME EDUCATIONAL</td>\n",
       "      <td>62679</td>\n",
       "      <td>6818</td>\n",
       "      <td>4119</td>\n",
       "      <td>3682</td>\n",
       "      <td>10977</td>\n",
       "      <td>False</td>\n",
       "    </tr>\n",
       "  </tbody>\n",
       "</table>\n",
       "</div>"
      ],
      "text/plain": [
       "      rank                                           title  total ratings  \\\n",
       "1552    27                  Can you escape the 100 room IV         166160   \n",
       "821     96                           Animals Farm For Kids          51687   \n",
       "52      53                      DINO HUNTER: DEADLY SHORES        1495507   \n",
       "116     17                  June's Journey: Hidden Objects         830121   \n",
       "970     45                                           Mouse         685364   \n",
       "595     70  Bingo Journey - Lucky & Fun Casino Bingo Games         138883   \n",
       "1475    50                                  Heroes Evolved         544851   \n",
       "772     47                          My Town : Fashion Show          88278   \n",
       "\n",
       "     installs  average rating  growth (30 days)  growth (60 days)  price  \\\n",
       "1552    5.0 M               4               1.2               2.4    0.0   \n",
       "821     5.0 M               4               0.1               0.2    0.0   \n",
       "52     50.0 M               4               0.1               0.2    0.0   \n",
       "116    10.0 M               4               1.9               4.0    0.0   \n",
       "970    10.0 M               4             169.9               0.0    0.0   \n",
       "595     1.0 M               4               2.4               4.7    0.0   \n",
       "1475   10.0 M               3               0.3               0.6    0.0   \n",
       "772    10.0 M               4               2.7               6.0    0.0   \n",
       "\n",
       "              category  5 star ratings  4 star ratings  3 star ratings  \\\n",
       "1552       GAME TRIVIA          117768           29132           11301   \n",
       "821   GAME EDUCATIONAL           41659            5118            1929   \n",
       "52         GAME ACTION         1096349          179585           80390   \n",
       "116     GAME ADVENTURE          580582          143752           41142   \n",
       "970        GAME PUZZLE          463196          120923           48379   \n",
       "595        GAME CASINO          103586           18665            8883   \n",
       "1475     GAME STRATEGY          292552           45804           41854   \n",
       "772   GAME EDUCATIONAL           62679            6818            4119   \n",
       "\n",
       "      2 star ratings  1 star ratings   paid  \n",
       "1552            2815            5141  False  \n",
       "821              609            2369  False  \n",
       "52             29979          109201  False  \n",
       "116            16642           48000  False  \n",
       "970            19969           32895  False  \n",
       "595             2911            4835  False  \n",
       "1475           27186          137452  False  \n",
       "772             3682           10977  False  "
      ]
     },
     "metadata": {},
     "execution_count": 25
    }
   ],
   "metadata": {}
  },
  {
   "cell_type": "code",
   "execution_count": 4,
   "source": [
    "df.info()"
   ],
   "outputs": [
    {
     "output_type": "stream",
     "name": "stdout",
     "text": [
      "<class 'pandas.core.frame.DataFrame'>\n",
      "RangeIndex: 1730 entries, 0 to 1729\n",
      "Data columns (total 15 columns):\n",
      " #   Column            Non-Null Count  Dtype  \n",
      "---  ------            --------------  -----  \n",
      " 0   rank              1730 non-null   int64  \n",
      " 1   title             1730 non-null   object \n",
      " 2   total ratings     1730 non-null   int64  \n",
      " 3   installs          1730 non-null   object \n",
      " 4   average rating    1730 non-null   int64  \n",
      " 5   growth (30 days)  1730 non-null   float64\n",
      " 6   growth (60 days)  1730 non-null   float64\n",
      " 7   price             1730 non-null   float64\n",
      " 8   category          1730 non-null   object \n",
      " 9   5 star ratings    1730 non-null   int64  \n",
      " 10  4 star ratings    1730 non-null   int64  \n",
      " 11  3 star ratings    1730 non-null   int64  \n",
      " 12  2 star ratings    1730 non-null   int64  \n",
      " 13  1 star ratings    1730 non-null   int64  \n",
      " 14  paid              1730 non-null   bool   \n",
      "dtypes: bool(1), float64(3), int64(8), object(3)\n",
      "memory usage: 191.0+ KB\n"
     ]
    }
   ],
   "metadata": {}
  },
  {
   "cell_type": "markdown",
   "source": [
    "The install column can be useful for analysis. However note that it's a type object.\r\n",
    "It may be more useful if it were an *integer (int)* or *float*.\r\n",
    "*  May need to reformat this later on."
   ],
   "metadata": {}
  },
  {
   "cell_type": "markdown",
   "source": [
    "# Summary so far: \r\n",
    "*   The dataset consists of games from different categories, ratings and number of installs.\r\n",
    "*   there are no NAN / null values.\r\n",
    "*   **installs** can be useful for analysis. It would be good to reformat it to a numerical variable.\r\n",
    "* **category** is a categorical variable, making it useful for groupings.\r\n",
    "* numerical varibles should be paid close attentions to.\r\n",
    "* should some columns be dropped ?"
   ],
   "metadata": {}
  },
  {
   "cell_type": "code",
   "execution_count": 26,
   "source": [
    "df['price'].value_counts()"
   ],
   "outputs": [
    {
     "output_type": "execute_result",
     "data": {
      "text/plain": [
       "0.00    1723\n",
       "1.99       3\n",
       "7.49       1\n",
       "2.99       1\n",
       "1.49       1\n",
       "0.99       1\n",
       "Name: price, dtype: int64"
      ]
     },
     "metadata": {},
     "execution_count": 26
    }
   ],
   "metadata": {}
  },
  {
   "cell_type": "code",
   "execution_count": 27,
   "source": [
    "df['paid'].value_counts()"
   ],
   "outputs": [
    {
     "output_type": "execute_result",
     "data": {
      "text/plain": [
       "False    1723\n",
       "True        7\n",
       "Name: paid, dtype: int64"
      ]
     },
     "metadata": {},
     "execution_count": 27
    }
   ],
   "metadata": {}
  },
  {
   "cell_type": "markdown",
   "source": [
    "## Dropping Price column\r\n",
    "we can drop the price column since most games are free and only 7 aren't, also the price of a game isn't relevant to the EDA."
   ],
   "metadata": {}
  },
  {
   "cell_type": "code",
   "execution_count": 28,
   "source": [
    "df.drop('price', axis=1, inplace=True)"
   ],
   "outputs": [],
   "metadata": {}
  },
  {
   "cell_type": "code",
   "execution_count": 30,
   "source": [
    "df.info()"
   ],
   "outputs": [
    {
     "output_type": "stream",
     "name": "stdout",
     "text": [
      "<class 'pandas.core.frame.DataFrame'>\n",
      "RangeIndex: 1730 entries, 0 to 1729\n",
      "Data columns (total 14 columns):\n",
      " #   Column            Non-Null Count  Dtype  \n",
      "---  ------            --------------  -----  \n",
      " 0   rank              1730 non-null   int64  \n",
      " 1   title             1730 non-null   object \n",
      " 2   total ratings     1730 non-null   int64  \n",
      " 3   installs          1730 non-null   object \n",
      " 4   average rating    1730 non-null   int64  \n",
      " 5   growth (30 days)  1730 non-null   float64\n",
      " 6   growth (60 days)  1730 non-null   float64\n",
      " 7   category          1730 non-null   object \n",
      " 8   5 star ratings    1730 non-null   int64  \n",
      " 9   4 star ratings    1730 non-null   int64  \n",
      " 10  3 star ratings    1730 non-null   int64  \n",
      " 11  2 star ratings    1730 non-null   int64  \n",
      " 12  1 star ratings    1730 non-null   int64  \n",
      " 13  paid              1730 non-null   bool   \n",
      "dtypes: bool(1), float64(2), int64(8), object(3)\n",
      "memory usage: 177.5+ KB\n"
     ]
    }
   ],
   "metadata": {}
  },
  {
   "cell_type": "markdown",
   "source": [
    "## Categories"
   ],
   "metadata": {}
  },
  {
   "cell_type": "code",
   "execution_count": 43,
   "source": [
    "df['category'].value_counts()"
   ],
   "outputs": [
    {
     "output_type": "execute_result",
     "data": {
      "text/plain": [
       "GAME CARD            126\n",
       "GAME WORD            104\n",
       "GAME PUZZLE          100\n",
       "GAME TRIVIA          100\n",
       "GAME STRATEGY        100\n",
       "GAME SPORTS          100\n",
       "GAME SIMULATION      100\n",
       "GAME ROLE PLAYING    100\n",
       "GAME RACING          100\n",
       "GAME ACTION          100\n",
       "GAME ADVENTURE       100\n",
       "GAME EDUCATIONAL     100\n",
       "GAME CASUAL          100\n",
       "GAME CASINO          100\n",
       "GAME BOARD           100\n",
       "GAME ARCADE          100\n",
       "GAME MUSIC           100\n",
       "Name: category, dtype: int64"
      ]
     },
     "metadata": {},
     "execution_count": 43
    }
   ],
   "metadata": {}
  },
  {
   "cell_type": "code",
   "execution_count": 40,
   "source": [
    "df['category'].value_counts(ascending=True).plot(kind='barh', title='Game Categories')"
   ],
   "outputs": [
    {
     "output_type": "execute_result",
     "data": {
      "text/plain": [
       "<AxesSubplot:title={'center':'Game Categories'}>"
      ]
     },
     "metadata": {},
     "execution_count": 40
    },
    {
     "output_type": "display_data",
     "data": {
      "image/png": "[encoded data removed]",
      "text/plain": [
       "<Figure size 432x288 with 1 Axes>"
      ]
     },
     "metadata": {
      "needs_background": "light"
     }
    }
   ],
   "metadata": {}
  },
  {
   "cell_type": "code",
   "execution_count": 61,
   "source": [
    "plt.figure(figsize=(30,5))\r\n",
    "sns.set_theme(style=\"darkgrid\")\r\n",
    "sns.countplot(df['category'])\r\n",
    "plt.title('Number of Games by Category')\r\n",
    "plt.xlabel('game category')\r\n",
    "plt.ylabel('# of games')"
   ],
   "outputs": [
    {
     "output_type": "stream",
     "name": "stderr",
     "text": [
      "C:\\Users\\ro-ja\\anaconda3\\envs\\demo\\lib\\site-packages\\seaborn\\_decorators.py:36: FutureWarning: Pass the following variable as a keyword arg: x. From version 0.12, the only valid positional argument will be `data`, and passing other arguments without an explicit keyword will result in an error or misinterpretation.\n",
      "  warnings.warn(\n"
     ]
    },
    {
     "output_type": "execute_result",
     "data": {
      "text/plain": [
       "Text(0, 0.5, '# of games')"
      ]
     },
     "metadata": {},
     "execution_count": 61
    },
    {
     "output_type": "display_data",
     "data": {
      "image/png": "[encoded data removed]",
      "text/plain": [
       "<Figure size 2160x360 with 1 Axes>"
      ]
     },
     "metadata": {}
    }
   ],
   "metadata": {}
  }
 ],
 "metadata": {
  "orig_nbformat": 4,
  "language_info": {
   "name": "python",
   "version": "3.8.11",
   "mimetype": "text/x-python",
   "codemirror_mode": {
    "name": "ipython",
    "version": 3
   },
   "pygments_lexer": "ipython3",
   "nbconvert_exporter": "python",
   "file_extension": ".py"
  },
  "kernelspec": {
   "name": "python3",
   "display_name": "Python 3.8.11 64-bit ('demo': conda)"
  },
  "interpreter": {
   "hash": "932bb86fe413b86d91a65f7f6d90fdc0b10b670ac0cfa9268af676852afa2c49"
  }
 },
 "nbformat": 4,
 "nbformat_minor": 2
}